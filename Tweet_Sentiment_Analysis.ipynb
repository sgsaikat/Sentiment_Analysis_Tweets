{
  "nbformat": 4,
  "nbformat_minor": 0,
  "metadata": {
    "colab": {
      "name": "Tweet_Sentiment_Analysis.ipynb",
      "version": "0.3.2",
      "provenance": [],
      "collapsed_sections": [
        "mjd-PvGlAKDT",
        "fPQcdsYW1-0h",
        "vfLM4eB_ATT7",
        "9o1osw_Q-ATx",
        "rhgJDriOkH1A",
        "b_fmgk3SOLw5",
        "G0wBTKVMOMKH",
        "u46QOWU2OMf5",
        "_HB0MIZNmfnX",
        "whWuY7WfA48O",
        "DLrvK4vYDi8_",
        "Xzbs5DofBRis",
        "GcCIi0aFBqVw",
        "h9V-LsBjeqMI",
        "bxX6hVwRa3px"
      ]
    },
    "kernelspec": {
      "name": "python3",
      "display_name": "Python 3"
    },
    "accelerator": "TPU"
  },
  "cells": [
    {
      "cell_type": "markdown",
      "metadata": {
        "id": "QbusII8gArND",
        "colab_type": "text"
      },
      "source": [
        "Data Link -> https://datahack.analyticsvidhya.com/contest/linguipedia-codefest-natural-language-processing-1/</br>\n",
        "**Dataset Description :-**\n",
        "*For training the models, we provide a labelled dataset of 7920 tweets. The dataset is provided in the form of a csv file with each line storing a tweet id, its label and the tweet.*"
      ]
    },
    {
      "cell_type": "markdown",
      "metadata": {
        "id": "59bsizWSJLz4",
        "colab_type": "text"
      },
      "source": [
        "**Problem Statement** - Identify Positive/Negative Sentiments from Tweet data.</br>\n",
        "**ML Problem** - Binary Classification Problem.</br>\n",
        "**Model Metric** - F1 Score"
      ]
    },
    {
      "cell_type": "markdown",
      "metadata": {
        "id": "_4EV4jGrEDVq",
        "colab_type": "text"
      },
      "source": [
        "**Approach :-** :-\n",
        "- Data Gathering - The dataset is gathered from [here](https://datahack.analyticsvidhya.com/contest/linguipedia-codefest-natural-language-processing-1/).\n",
        "- Tweet Features have been extracted - count occurences of '!/#/@', count number of negations using nltk, nltk sentiment scores, no. of words/characters, no. of all CAPS words (thought process is it might indicate tweet sentiment).\n",
        "- Clean data - Tweets are processed by removing hyperlinks, Twitter handles, Lemmatizing words and only keeping words > 2 characters in length.\n",
        "- Basic EDA - Performed basic EDA - results are available below.\n",
        "- Vectorize the words - Used Word2Vec to initialize the Embedding layer - Trainable and Non-Trainable models were used while making the Final Predictions.\n",
        "- 4 Deep Learning models have been used in the final Predictions.\n",
        "    - Two models used only Text data - W2V vectors used to initialize Embedding layer or Embedding layer used with the Text Sequences and then LSTM layer afterwards.\n",
        "    - Two models used W2V text vectors to initialize Embedding layer, followed by LSTM layers, then concatenating Tweet features with the Output of the LSTM layer and fed it to the next Dense layer.\n",
        "- Tried other models and Text Vectorizers but performance is pretty low compared to the DL models."
      ]
    },
    {
      "cell_type": "code",
      "metadata": {
        "id": "zpxCbO-41sFo",
        "colab_type": "code",
        "colab": {}
      },
      "source": [
        "!pip install torch_nightly -f https://download.pytorch.org/whl/nightly/cu92/torch_nightly.html\n",
        "!pip install fastai\n",
        "!pip install gensim\n",
        "!pip install keras\n",
        "!pip install wordcloud"
      ],
      "execution_count": 0,
      "outputs": []
    },
    {
      "cell_type": "code",
      "metadata": {
        "id": "QNVdpVA--ZLH",
        "colab_type": "code",
        "outputId": "0f5b98ea-3126-458c-be6b-337df3ae7bff",
        "colab": {
          "base_uri": "https://localhost:8080/",
          "height": 34
        }
      },
      "source": [
        "from google.colab import drive\n",
        "drive.mount('/content/gdrive')\n",
        "\n",
        "dir_path = r\"/content/gdrive/My Drive/Colab Notebooks/Sentiment Analysis/\""
      ],
      "execution_count": 1,
      "outputs": [
        {
          "output_type": "stream",
          "text": [
            "Drive already mounted at /content/gdrive; to attempt to forcibly remount, call drive.mount(\"/content/gdrive\", force_remount=True).\n"
          ],
          "name": "stdout"
        }
      ]
    },
    {
      "cell_type": "code",
      "metadata": {
        "id": "bmF9c0QU-xOm",
        "colab_type": "code",
        "colab": {
          "base_uri": "https://localhost:8080/",
          "height": 70
        },
        "outputId": "bdab102b-246b-4131-d662-d05e921a3954"
      },
      "source": [
        "import numpy as np\n",
        "import pandas as pd\n",
        "import matplotlib.pyplot as plt\n",
        "import seaborn as sns\n",
        "import string\n",
        "import re\n",
        "import pickle\n",
        "\n",
        "from sklearn.model_selection import train_test_split, RandomizedSearchCV\n",
        "from sklearn.metrics import f1_score, classification_report, confusion_matrix\n",
        "from sklearn.feature_extraction.text import TfidfVectorizer, CountVectorizer\n",
        "from sklearn.linear_model import LogisticRegression\n",
        "\n",
        "import gensim\n",
        "from wordcloud import WordCloud, STOPWORDS\n",
        "\n",
        "import nltk\n",
        "from nltk.sentiment.vader import SentimentIntensityAnalyzer\n",
        "from nltk.sentiment.util import mark_negation\n",
        "from nltk.stem import WordNetLemmatizer, SnowballStemmer\n",
        "# nltk.download('wordnet')\n",
        "# nltk.download('averaged_perceptron_tagger')\n",
        "# nltk.download('vader_lexicon')\n",
        "\n",
        "from tqdm import tqdm\n",
        "tqdm.pandas(ncols=70)"
      ],
      "execution_count": 2,
      "outputs": [
        {
          "output_type": "stream",
          "text": [
            "/usr/local/lib/python3.6/dist-packages/nltk/twitter/__init__.py:20: UserWarning: The twython library has not been installed. Some functionality from the twitter package will not be available.\n",
            "  warnings.warn(\"The twython library has not been installed. \"\n"
          ],
          "name": "stderr"
        }
      ]
    },
    {
      "cell_type": "code",
      "metadata": {
        "id": "nwgX07r7AL-H",
        "colab_type": "code",
        "outputId": "3d847e78-12a0-4e8e-c720-d4fec7141c2d",
        "colab": {
          "base_uri": "https://localhost:8080/",
          "height": 195
        }
      },
      "source": [
        "data = pd.read_csv(dir_path + 'train_data.csv')\n",
        "data.drop('id', axis=1, inplace=True)\n",
        "data.head()"
      ],
      "execution_count": 5,
      "outputs": [
        {
          "output_type": "execute_result",
          "data": {
            "text/html": [
              "<div>\n",
              "<style scoped>\n",
              "    .dataframe tbody tr th:only-of-type {\n",
              "        vertical-align: middle;\n",
              "    }\n",
              "\n",
              "    .dataframe tbody tr th {\n",
              "        vertical-align: top;\n",
              "    }\n",
              "\n",
              "    .dataframe thead th {\n",
              "        text-align: right;\n",
              "    }\n",
              "</style>\n",
              "<table border=\"1\" class=\"dataframe\">\n",
              "  <thead>\n",
              "    <tr style=\"text-align: right;\">\n",
              "      <th></th>\n",
              "      <th>label</th>\n",
              "      <th>tweet</th>\n",
              "    </tr>\n",
              "  </thead>\n",
              "  <tbody>\n",
              "    <tr>\n",
              "      <th>0</th>\n",
              "      <td>0</td>\n",
              "      <td>#fingerprint #Pregnancy Test https://goo.gl/h1...</td>\n",
              "    </tr>\n",
              "    <tr>\n",
              "      <th>1</th>\n",
              "      <td>0</td>\n",
              "      <td>Finally a transparant silicon case ^^ Thanks t...</td>\n",
              "    </tr>\n",
              "    <tr>\n",
              "      <th>2</th>\n",
              "      <td>0</td>\n",
              "      <td>We love this! Would you go? #talk #makememorie...</td>\n",
              "    </tr>\n",
              "    <tr>\n",
              "      <th>3</th>\n",
              "      <td>0</td>\n",
              "      <td>I'm wired I know I'm George I was made that wa...</td>\n",
              "    </tr>\n",
              "    <tr>\n",
              "      <th>4</th>\n",
              "      <td>1</td>\n",
              "      <td>What amazing service! Apple won't even talk to...</td>\n",
              "    </tr>\n",
              "  </tbody>\n",
              "</table>\n",
              "</div>"
            ],
            "text/plain": [
              "   label                                              tweet\n",
              "0      0  #fingerprint #Pregnancy Test https://goo.gl/h1...\n",
              "1      0  Finally a transparant silicon case ^^ Thanks t...\n",
              "2      0  We love this! Would you go? #talk #makememorie...\n",
              "3      0  I'm wired I know I'm George I was made that wa...\n",
              "4      1  What amazing service! Apple won't even talk to..."
            ]
          },
          "metadata": {
            "tags": []
          },
          "execution_count": 5
        }
      ]
    },
    {
      "cell_type": "markdown",
      "metadata": {
        "id": "mjd-PvGlAKDT",
        "colab_type": "text"
      },
      "source": [
        "# Data Exploration"
      ]
    },
    {
      "cell_type": "code",
      "metadata": {
        "id": "Ui4hfMyZAMFW",
        "colab_type": "code",
        "outputId": "5a5c0430-0091-48f4-f4b2-0ee8f53b1457",
        "colab": {
          "base_uri": "https://localhost:8080/",
          "height": 34
        }
      },
      "source": [
        "data.label.unique()"
      ],
      "execution_count": 0,
      "outputs": [
        {
          "output_type": "execute_result",
          "data": {
            "text/plain": [
              "array([0, 1])"
            ]
          },
          "metadata": {
            "tags": []
          },
          "execution_count": 5
        }
      ]
    },
    {
      "cell_type": "code",
      "metadata": {
        "id": "P0Zz_07p2fnO",
        "colab_type": "code",
        "outputId": "51784fd8-3f80-4696-ea3e-b97beaa19e0c",
        "colab": {
          "base_uri": "https://localhost:8080/",
          "height": 283
        }
      },
      "source": [
        "sns.countplot(data['label']);"
      ],
      "execution_count": 0,
      "outputs": [
        {
          "output_type": "display_data",
          "data": {
            "image/png": "[encoded data removed]",
            "text/plain": [
              "<Figure size 432x288 with 1 Axes>"
            ]
          },
          "metadata": {
            "tags": []
          }
        }
      ]
    },
    {
      "cell_type": "markdown",
      "metadata": {
        "id": "21vK0MPE2-T_",
        "colab_type": "text"
      },
      "source": [
        "- The dataset is unbalanced with data belonging to Label '0' is almost 3x that of Label '1'.\n",
        "- Will use F1 Score metric for model evaluation."
      ]
    },
    {
      "cell_type": "code",
      "metadata": {
        "id": "ho4FpYyyAMLr",
        "colab_type": "code",
        "outputId": "d41682da-cb85-4d3e-ebcf-f4e5a612854d",
        "colab": {
          "base_uri": "https://localhost:8080/",
          "height": 101
        }
      },
      "source": [
        "[print(i) for i in data.iloc[:5]['tweet']];"
      ],
      "execution_count": 0,
      "outputs": [
        {
          "output_type": "stream",
          "text": [
            "#fingerprint #Pregnancy Test https://goo.gl/h1MfQV #android #apps #beautiful #cute #health #igers #iphoneonly #iphonesia #iphone\n",
            "Finally a transparant silicon case ^^ Thanks to my uncle :) #yay #Sony #Xperia #S #sonyexperias… http://instagram.com/p/YGEt5JC6JM/\n",
            "We love this! Would you go? #talk #makememories #unplug #relax #iphone #smartphone #wifi #connect... http://fb.me/6N3LsUpCu\n",
            "I'm wired I know I'm George I was made that way ;) #iphone #cute #daventry #home http://instagr.am/p/Li_5_ujS4k/\n",
            "What amazing service! Apple won't even talk to me about a question I have unless I pay them $19.95 for their stupid support!\n"
          ],
          "name": "stdout"
        }
      ]
    },
    {
      "cell_type": "markdown",
      "metadata": {
        "id": "6x93rkn-F83l",
        "colab_type": "text"
      },
      "source": [
        "- Two Labels - +ve and -ve.\n",
        "- 5th Tweet is good - sarcasm!! (Good to Test)\n",
        "- Maybe remove 1-letter words, remove hashtags and remove duplicates, numbers\n",
        "- The Hashtags seem to be quite good to infer the Tweet Sentiment."
      ]
    },
    {
      "cell_type": "code",
      "metadata": {
        "id": "4yhJXzWIAMWZ",
        "colab_type": "code",
        "outputId": "3fb7d827-872a-492b-cfe8-3e9988299a66",
        "colab": {
          "base_uri": "https://localhost:8080/",
          "height": 34
        }
      },
      "source": [
        "# Info Seggregation, Data Cleaning and Data Imputation\n",
        "# 1. Remove special characters and digits - only keep letters.\n",
        "# 2. Extract contextual links.\n",
        "# 3. If no hashtags are present in Tweet, then extract adjectives from main sentence and impute.\n",
        "\n",
        "data['words'] = pd.Series(np.nan)\n",
        "data['hashtags'] = pd.Series(np.nan)\n",
        "data['links'] = pd.Series(np.nan)\n",
        "data['tweet_length'] = pd.Series(np.nan)\n",
        "\n",
        "def info_extractor(row):\n",
        "    tweet_sent = []\n",
        "    hashtags = []\n",
        "    links = []\n",
        "\n",
        "    words = row['tweet'].split()\n",
        "    for word in words:\n",
        "        if word.startswith('#'):\n",
        "            temp = re.sub(f'[^{string.ascii_lowercase}]', '', word.lower())\n",
        "            hashtags.append(temp)\n",
        "        elif word.startswith('@'):\n",
        "            continue\n",
        "        elif ('http' in word) or ('.co' in word) or ('www.' in word):\n",
        "            temp = word.lower().split('.co')[0]\n",
        "            temp = temp.split('www.')[-1]\n",
        "            try:\n",
        "                temp = temp.split(\"//\")[1].split('/')[0]\n",
        "            except:\n",
        "                pass\n",
        "            links.append(temp)\n",
        "        else:\n",
        "            temp = re.sub(f'[^{string.ascii_lowercase}]', '', word.lower())\n",
        "            if len(temp) > 0:\n",
        "                tweet_sent.append(temp)\n",
        "    \n",
        "    if len(tweet_sent) > 0:\n",
        "        row['words'] = ' '.join(tweet_sent)\n",
        "    if len(hashtags) > 0:\n",
        "        row['hashtags'] = ' '.join(hashtags)\n",
        "    else:\n",
        "        row['hashtags'] = ' '.join([word for word,pos in nltk.pos_tag(tweet_sent) if pos.startswith('JJ')])# or pos.startswith('NN')])\n",
        "    if len(links) > 0:\n",
        "        row['links'] = ' '.join(links)\n",
        "        \n",
        "    row['tweet_length'] = len(row['tweet'])\n",
        "    \n",
        "    return row\n",
        "\n",
        "new_data = data.progress_apply(info_extractor, axis=1)"
      ],
      "execution_count": 0,
      "outputs": [
        {
          "output_type": "stream",
          "text": [
            "100%|███████████████████████████| 7920/7920 [00:02<00:00, 2892.11it/s]\n"
          ],
          "name": "stderr"
        }
      ]
    },
    {
      "cell_type": "code",
      "metadata": {
        "id": "s6sCFWjPAMaw",
        "colab_type": "code",
        "outputId": "3c9b5cf2-32f4-4f81-ce18-d5c810619516",
        "colab": {
          "base_uri": "https://localhost:8080/",
          "height": 195
        }
      },
      "source": [
        "new_data.head()"
      ],
      "execution_count": 0,
      "outputs": [
        {
          "output_type": "execute_result",
          "data": {
            "text/html": [
              "<div>\n",
              "<style scoped>\n",
              "    .dataframe tbody tr th:only-of-type {\n",
              "        vertical-align: middle;\n",
              "    }\n",
              "\n",
              "    .dataframe tbody tr th {\n",
              "        vertical-align: top;\n",
              "    }\n",
              "\n",
              "    .dataframe thead th {\n",
              "        text-align: right;\n",
              "    }\n",
              "</style>\n",
              "<table border=\"1\" class=\"dataframe\">\n",
              "  <thead>\n",
              "    <tr style=\"text-align: right;\">\n",
              "      <th></th>\n",
              "      <th>label</th>\n",
              "      <th>tweet</th>\n",
              "      <th>words</th>\n",
              "      <th>hashtags</th>\n",
              "      <th>links</th>\n",
              "      <th>tweet_length</th>\n",
              "    </tr>\n",
              "  </thead>\n",
              "  <tbody>\n",
              "    <tr>\n",
              "      <th>0</th>\n",
              "      <td>0</td>\n",
              "      <td>#fingerprint #Pregnancy Test https://goo.gl/h1...</td>\n",
              "      <td>test</td>\n",
              "      <td>fingerprint pregnancy android apps beautiful c...</td>\n",
              "      <td>goo.gl</td>\n",
              "      <td>128</td>\n",
              "    </tr>\n",
              "    <tr>\n",
              "      <th>1</th>\n",
              "      <td>0</td>\n",
              "      <td>Finally a transparant silicon case ^^ Thanks t...</td>\n",
              "      <td>finally a transparant silicon case thanks to m...</td>\n",
              "      <td>yay sony xperia s sonyexperias</td>\n",
              "      <td>instagram</td>\n",
              "      <td>131</td>\n",
              "    </tr>\n",
              "    <tr>\n",
              "      <th>2</th>\n",
              "      <td>0</td>\n",
              "      <td>We love this! Would you go? #talk #makememorie...</td>\n",
              "      <td>we love this would you go</td>\n",
              "      <td>talk makememories unplug relax iphone smartpho...</td>\n",
              "      <td>fb.me</td>\n",
              "      <td>123</td>\n",
              "    </tr>\n",
              "    <tr>\n",
              "      <th>3</th>\n",
              "      <td>0</td>\n",
              "      <td>I'm wired I know I'm George I was made that wa...</td>\n",
              "      <td>im wired i know im george i was made that way</td>\n",
              "      <td>iphone cute daventry home</td>\n",
              "      <td>instagr.am</td>\n",
              "      <td>112</td>\n",
              "    </tr>\n",
              "    <tr>\n",
              "      <th>4</th>\n",
              "      <td>1</td>\n",
              "      <td>What amazing service! Apple won't even talk to...</td>\n",
              "      <td>what amazing service apple wont even talk to m...</td>\n",
              "      <td>amazing i stupid</td>\n",
              "      <td>NaN</td>\n",
              "      <td>124</td>\n",
              "    </tr>\n",
              "  </tbody>\n",
              "</table>\n",
              "</div>"
            ],
            "text/plain": [
              "   label  ... tweet_length\n",
              "0      0  ...          128\n",
              "1      0  ...          131\n",
              "2      0  ...          123\n",
              "3      0  ...          112\n",
              "4      1  ...          124\n",
              "\n",
              "[5 rows x 6 columns]"
            ]
          },
          "metadata": {
            "tags": []
          },
          "execution_count": 15
        }
      ]
    },
    {
      "cell_type": "code",
      "metadata": {
        "id": "OcIsw-cyAMek",
        "colab_type": "code",
        "outputId": "21577904-9c1b-4b7f-f1c0-4b807ec1d97c",
        "colab": {
          "base_uri": "https://localhost:8080/",
          "height": 34
        }
      },
      "source": [
        "new_data['words'].isna().sum(), new_data['hashtags'].isna().sum(), new_data['links'].isna().sum() "
      ],
      "execution_count": 0,
      "outputs": [
        {
          "output_type": "execute_result",
          "data": {
            "text/plain": [
              "(13, 0, 3358)"
            ]
          },
          "metadata": {
            "tags": []
          },
          "execution_count": 28
        }
      ]
    },
    {
      "cell_type": "code",
      "metadata": {
        "id": "MC1gbYD1qB-T",
        "colab_type": "code",
        "outputId": "417fc6a0-00ce-4eb2-e968-a60db9cb58d0",
        "colab": {
          "base_uri": "https://localhost:8080/",
          "height": 286
        }
      },
      "source": [
        "sns.kdeplot(new_data[new_data['label'] == 0].tweet_length, color='red', label='+ve Tweet Lengths')\n",
        "sns.kdeplot(new_data[new_data['label'] == 1].tweet_length, color='blue', label='-ve Tweet Lengths')\n",
        "plt.plot()"
      ],
      "execution_count": 0,
      "outputs": [
        {
          "output_type": "execute_result",
          "data": {
            "text/plain": [
              "[]"
            ]
          },
          "metadata": {
            "tags": []
          },
          "execution_count": 6
        },
        {
          "output_type": "display_data",
          "data": {
            "image/png": "[encoded data removed]",
            "text/plain": [
              "<Figure size 432x288 with 1 Axes>"
            ]
          },
          "metadata": {
            "tags": []
          }
        }
      ]
    },
    {
      "cell_type": "markdown",
      "metadata": {
        "id": "sEAecxi1tpB8",
        "colab_type": "text"
      },
      "source": [
        "- The two labels have similar distribution based on the Tweet lengths."
      ]
    },
    {
      "cell_type": "code",
      "metadata": {
        "id": "JP7A2OGkqCKM",
        "colab_type": "code",
        "outputId": "834ed656-26ea-49c1-f499-274788b6a0da",
        "colab": {
          "base_uri": "https://localhost:8080/",
          "height": 34
        }
      },
      "source": [
        "new_data.links.nunique()"
      ],
      "execution_count": 0,
      "outputs": [
        {
          "output_type": "execute_result",
          "data": {
            "text/plain": [
              "386"
            ]
          },
          "metadata": {
            "tags": []
          },
          "execution_count": 7
        }
      ]
    },
    {
      "cell_type": "code",
      "metadata": {
        "id": "-SfoM-XawhdU",
        "colab_type": "code",
        "outputId": "56dbe0e8-1ffb-4b93-bd41-d158cc439704",
        "colab": {
          "base_uri": "https://localhost:8080/",
          "height": 604
        }
      },
      "source": [
        "# Popular Hashtags in Positive Labels\n",
        "hashtags = ''\n",
        "for tags in new_data[new_data['label'] == 0]['hashtags'].values:\n",
        "    hashtags += tags\n",
        "\n",
        "wordcloud = WordCloud(width = 800, height = 800, \n",
        "                background_color ='white',\n",
        "                min_font_size = 10).generate(hashtags)\n",
        "\n",
        "plt.figure(figsize = (8, 8), facecolor = None) \n",
        "plt.imshow(wordcloud) \n",
        "plt.axis(\"off\") \n",
        "plt.tight_layout(pad = 0) \n",
        "  \n",
        "plt.show()"
      ],
      "execution_count": 0,
      "outputs": [
        {
          "output_type": "display_data",
          "data": {
            "image/png": "[encoded data removed]",
            "text/plain": [
              "<Figure size 576x576 with 1 Axes>"
            ]
          },
          "metadata": {
            "tags": []
          }
        }
      ]
    },
    {
      "cell_type": "code",
      "metadata": {
        "id": "ZJt-rhiNwhg9",
        "colab_type": "code",
        "colab": {}
      },
      "source": [
        "# --> Following code commented out coz some of the output words might be offensive.\n",
        "# Popular Hashtags in Negative Labels\n",
        "# hashtags = ''\n",
        "# for tags in new_data[new_data['label'] == 1]['hashtags'].values:\n",
        "#     hashtags += tags\n",
        "\n",
        "# wordcloud = WordCloud(width = 800, height = 800, \n",
        "#                 background_color ='white',\n",
        "#                 min_font_size = 10).generate(hashtags)\n",
        "\n",
        "# plt.figure(figsize = (8, 8), facecolor = None) \n",
        "# plt.imshow(wordcloud) \n",
        "# plt.axis(\"off\") \n",
        "# plt.tight_layout(pad = 0) \n",
        "  \n",
        "# plt.show()"
      ],
      "execution_count": 0,
      "outputs": []
    },
    {
      "cell_type": "code",
      "metadata": {
        "id": "EP5VNLotqCSi",
        "colab_type": "code",
        "outputId": "e660361e-02c5-4616-cad2-8d60ec053723",
        "colab": {
          "base_uri": "https://localhost:8080/",
          "height": 604
        }
      },
      "source": [
        "# Popular Words in Positive Labels\n",
        "words = ''\n",
        "for tags in new_data[new_data['label'] == 0]['words'].dropna().values:\n",
        "    words += tags\n",
        "\n",
        "wordcloud = WordCloud(width = 800, height = 800, \n",
        "                background_color ='white',\n",
        "                min_font_size = 10).generate(words)\n",
        "\n",
        "plt.figure(figsize = (8, 8), facecolor = None) \n",
        "plt.imshow(wordcloud) \n",
        "plt.axis(\"off\") \n",
        "plt.tight_layout(pad = 0) \n",
        "  \n",
        "plt.show()"
      ],
      "execution_count": 0,
      "outputs": [
        {
          "output_type": "display_data",
          "data": {
            "image/png": "[encoded data removed]",
            "text/plain": [
              "<Figure size 576x576 with 1 Axes>"
            ]
          },
          "metadata": {
            "tags": []
          }
        }
      ]
    },
    {
      "cell_type": "code",
      "metadata": {
        "id": "QJdocEHy05yK",
        "colab_type": "code",
        "colab": {}
      },
      "source": [
        "# --> Following code commented out coz some of the output words might be offensive.\n",
        "# Popular words in Negative Labels\n",
        "# words = ''\n",
        "# for tags in new_data[new_data['label'] == 1]['hashtags'].values:\n",
        "#     words += tags\n",
        "\n",
        "# wordcloud = WordCloud(width = 800, height = 800, \n",
        "#                 background_color ='white',\n",
        "#                 min_font_size = 10).generate(words)\n",
        "\n",
        "# plt.figure(figsize = (8, 8), facecolor = None) \n",
        "# plt.imshow(wordcloud) \n",
        "# plt.axis(\"off\") \n",
        "# plt.tight_layout(pad = 0) \n",
        "  \n",
        "# plt.show()"
      ],
      "execution_count": 0,
      "outputs": []
    },
    {
      "cell_type": "markdown",
      "metadata": {
        "id": "fPQcdsYW1-0h",
        "colab_type": "text"
      },
      "source": [
        "# Data Cleaning"
      ]
    },
    {
      "cell_type": "code",
      "metadata": {
        "id": "-RA4UNmj19YW",
        "colab_type": "code",
        "outputId": "3656071e-86bf-423a-ddd6-236064fb5dfa",
        "colab": {
          "base_uri": "https://localhost:8080/",
          "height": 34
        }
      },
      "source": [
        "cleand_tweets = []\n",
        "stemmer = SnowballStemmer('english')\n",
        "\n",
        "def info_extractor(row):\n",
        "    cleaned_tweet = []\n",
        "\n",
        "    words = row['tweet'].split()\n",
        "    for word in words:\n",
        "        # Skip Hyperlinks and Twitter Handles @<user>\n",
        "#         if ('http' in word) or ('.com' in word) or ('www.' in word) or (word.startswith('@')):\n",
        "#             continue\n",
        "        \n",
        "        # Remove Digits and Special Characters\n",
        "        temp = re.sub(f'[^{string.ascii_lowercase}]', '', word.lower())\n",
        "        \n",
        "        # Remove words with less than 3 characters\n",
        "#         if len(temp) < 3:\n",
        "#             continue\n",
        "            \n",
        "        # Store the Stemmed version of the word\n",
        "#         temp = stemmer.stem(temp)\n",
        "        \n",
        "        if len(temp) > 0:\n",
        "            cleaned_tweet.append(temp)\n",
        "\n",
        "    if len(cleaned_tweet) > 0:\n",
        "        cleand_tweets.append(' '.join(cleaned_tweet))\n",
        "    else:\n",
        "        cleand_tweets.append(np.NaN)\n",
        "    \n",
        "    return\n",
        "\n",
        "data.progress_apply(info_extractor, axis=1);"
      ],
      "execution_count": 0,
      "outputs": [
        {
          "output_type": "stream",
          "text": [
            "100%|██████████████████████████| 7920/7920 [00:00<00:00, 17376.84it/s]\n"
          ],
          "name": "stderr"
        }
      ]
    },
    {
      "cell_type": "code",
      "metadata": {
        "id": "SkSX2BUO2tEF",
        "colab_type": "code",
        "outputId": "dab04f9c-c147-4169-a812-2f4fc794fc0e",
        "colab": {
          "base_uri": "https://localhost:8080/",
          "height": 195
        }
      },
      "source": [
        "df = pd.DataFrame({'label':data.label, 'text':cleand_tweets})\n",
        "df.head()"
      ],
      "execution_count": 0,
      "outputs": [
        {
          "output_type": "execute_result",
          "data": {
            "text/html": [
              "<div>\n",
              "<style scoped>\n",
              "    .dataframe tbody tr th:only-of-type {\n",
              "        vertical-align: middle;\n",
              "    }\n",
              "\n",
              "    .dataframe tbody tr th {\n",
              "        vertical-align: top;\n",
              "    }\n",
              "\n",
              "    .dataframe thead th {\n",
              "        text-align: right;\n",
              "    }\n",
              "</style>\n",
              "<table border=\"1\" class=\"dataframe\">\n",
              "  <thead>\n",
              "    <tr style=\"text-align: right;\">\n",
              "      <th></th>\n",
              "      <th>label</th>\n",
              "      <th>text</th>\n",
              "    </tr>\n",
              "  </thead>\n",
              "  <tbody>\n",
              "    <tr>\n",
              "      <th>0</th>\n",
              "      <td>0</td>\n",
              "      <td>fingerprint pregnancy test httpsgooglhmfqv and...</td>\n",
              "    </tr>\n",
              "    <tr>\n",
              "      <th>1</th>\n",
              "      <td>0</td>\n",
              "      <td>finally a transparant silicon case thanks to m...</td>\n",
              "    </tr>\n",
              "    <tr>\n",
              "      <th>2</th>\n",
              "      <td>0</td>\n",
              "      <td>we love this would you go talk makememories un...</td>\n",
              "    </tr>\n",
              "    <tr>\n",
              "      <th>3</th>\n",
              "      <td>0</td>\n",
              "      <td>im wired i know im george i was made that way ...</td>\n",
              "    </tr>\n",
              "    <tr>\n",
              "      <th>4</th>\n",
              "      <td>1</td>\n",
              "      <td>what amazing service apple wont even talk to m...</td>\n",
              "    </tr>\n",
              "  </tbody>\n",
              "</table>\n",
              "</div>"
            ],
            "text/plain": [
              "   label                                               text\n",
              "0      0  fingerprint pregnancy test httpsgooglhmfqv and...\n",
              "1      0  finally a transparant silicon case thanks to m...\n",
              "2      0  we love this would you go talk makememories un...\n",
              "3      0  im wired i know im george i was made that way ...\n",
              "4      1  what amazing service apple wont even talk to m..."
            ]
          },
          "metadata": {
            "tags": []
          },
          "execution_count": 5
        }
      ]
    },
    {
      "cell_type": "markdown",
      "metadata": {
        "id": "vfLM4eB_ATT7",
        "colab_type": "text"
      },
      "source": [
        "# Model #1 - FastAI Language Model + Classifier"
      ]
    },
    {
      "cell_type": "code",
      "metadata": {
        "id": "I886M2443LZK",
        "colab_type": "code",
        "colab": {}
      },
      "source": [
        "import fastai\n",
        "from fastai import *\n",
        "from fastai.text import *"
      ],
      "execution_count": 0,
      "outputs": []
    },
    {
      "cell_type": "code",
      "metadata": {
        "id": "X01AZmGfAc9W",
        "colab_type": "code",
        "outputId": "1f9d647b-0ce3-482f-b6ae-39114418d1ed",
        "colab": {
          "base_uri": "https://localhost:8080/",
          "height": 34
        }
      },
      "source": [
        "df_train, df_valid = train_test_split(df, stratify=df['label'], train_size=0.8, random_state=42)\n",
        "df_train.shape, df_valid.shape"
      ],
      "execution_count": 0,
      "outputs": [
        {
          "output_type": "execute_result",
          "data": {
            "text/plain": [
              "((6336, 2), (1584, 2))"
            ]
          },
          "metadata": {
            "tags": []
          },
          "execution_count": 54
        }
      ]
    },
    {
      "cell_type": "code",
      "metadata": {
        "id": "eUTTaIdzAc_y",
        "colab_type": "code",
        "colab": {}
      },
      "source": [
        "def predict_fastai(df_train, df_valid, drop=0.2):\n",
        "    # Language model data\n",
        "    data_lm = TextLMDataBunch.from_df(path=\"\", train_df=df_train, valid_df=df_valid)\n",
        "\n",
        "    # Classifier model data\n",
        "    data_class = TextClasDataBunch.from_df(path=\"\", train_df=df_train, valid_df=df_valid, vocab=data_lm.train_ds.vocab, bs=32)\n",
        "\n",
        "    # Create a `Learner` with a language model\n",
        "    learn = language_model_learner(data=data_lm, arch=AWD_LSTM, drop_mult=drop)\n",
        "\n",
        "    # train the learner object with learning rate = 1e-2\n",
        "    learn.fit_one_cycle(1, 1e-2)\n",
        "\n",
        "    # Save Learned encoder\n",
        "    learn.save_encoder('ft_enc')\n",
        "\n",
        "    # Create a `Learner` with a text classifier\n",
        "    learn = text_classifier_learner(data=data_class, arch=AWD_LSTM, drop_mult=drop)\n",
        "    learn.load_encoder('ft_enc')\n",
        "\n",
        "    # Fit a model following the 1cycle policy\n",
        "    learn.fit_one_cycle(1, 1e-2)\n",
        "\n",
        "    # get predictions\n",
        "    preds, targets = learn.get_preds()\n",
        "    predictions = np.argmax(preds, axis = 1)\n",
        "\n",
        "    print(pd.crosstab(predictions, targets))\n",
        "    print()\n",
        "    print(f'F1 Score: {f1_score(targets, predictions)}')\n",
        "    \n",
        "    return (preds.tolist(), predictions.tolist(), targets.tolist())"
      ],
      "execution_count": 0,
      "outputs": []
    },
    {
      "cell_type": "code",
      "metadata": {
        "id": "TmA2zoY0AdCo",
        "colab_type": "code",
        "outputId": "3dbf8b76-a06e-4693-affc-bd768aff8228",
        "colab": {
          "base_uri": "https://localhost:8080/",
          "height": 118
        }
      },
      "source": [
        "# Data Frame contains only removed digits and special characters\n",
        "(fastai_preds, fastai_predictions, fastai_targets) = predict_fastai(df_train, df_valid)"
      ],
      "execution_count": 0,
      "outputs": [
        {
          "output_type": "stream",
          "text": [
            "col_0     0    1\n",
            "row_0           \n",
            "0      1070   92\n",
            "1       109  313\n",
            "\n",
            "F1 Score: 0.7569528415961305\n"
          ],
          "name": "stdout"
        }
      ]
    },
    {
      "cell_type": "code",
      "metadata": {
        "id": "NmxONVj9I1H8",
        "colab_type": "code",
        "colab": {}
      },
      "source": [
        "pickle.dump(fastai_preds, open(dir_path + 'fastai_preds', 'wb'))\n",
        "pickle.dump(fastai_predictions, open(dir_path + 'fastai_predictions', 'wb'))\n",
        "pickle.dump(fastai_targets, open(dir_path + 'fastai_targets', 'wb'))"
      ],
      "execution_count": 0,
      "outputs": []
    },
    {
      "cell_type": "code",
      "metadata": {
        "id": "mTBLTnzj1Hzg",
        "colab_type": "code",
        "colab": {}
      },
      "source": [
        "fastai_preds = pickle.load(open(dir_path + 'fastai_preds', 'rb'))\n",
        "fastai_predictions = pickle.load(open(dir_path + 'fastai_predictions', 'rb'))\n",
        "fastai_targets = pickle.load(open(dir_path + 'fastai_targets', 'rb'))"
      ],
      "execution_count": 0,
      "outputs": []
    },
    {
      "cell_type": "markdown",
      "metadata": {
        "id": "9o1osw_Q-ATx",
        "colab_type": "text"
      },
      "source": [
        "# Model #2 - LSTM based Network using Embedding Layer"
      ]
    },
    {
      "cell_type": "code",
      "metadata": {
        "id": "NbeAcSJoq8A3",
        "colab_type": "code",
        "colab": {}
      },
      "source": [
        "from keras.preprocessing.text import Tokenizer\n",
        "from keras.preprocessing.sequence import pad_sequences\n",
        "from keras.models import Sequential\n",
        "from keras.layers import Embedding, Dense, Dropout, LSTM, GRU\n",
        "from keras.initializers import Constant\n",
        "from keras import backend as K\n",
        "import keras"
      ],
      "execution_count": 0,
      "outputs": []
    },
    {
      "cell_type": "code",
      "metadata": {
        "id": "NSAEqm5y-F0s",
        "colab_type": "code",
        "outputId": "03829c3a-bfd4-44f2-e35a-4ca8efe4dca0",
        "colab": {
          "base_uri": "https://localhost:8080/",
          "height": 34
        }
      },
      "source": [
        "X = df['text']\n",
        "y = df['label']\n",
        "\n",
        "X_train, X_test, y_train, y_test = train_test_split(X, y, stratify=df['label'], train_size=0.8, random_state=42)\n",
        "X_train.shape, X_test.shape"
      ],
      "execution_count": 0,
      "outputs": [
        {
          "output_type": "execute_result",
          "data": {
            "text/plain": [
              "((6336,), (1584,))"
            ]
          },
          "metadata": {
            "tags": []
          },
          "execution_count": 9
        }
      ]
    },
    {
      "cell_type": "code",
      "metadata": {
        "id": "grKy_el8-F6p",
        "colab_type": "code",
        "colab": {}
      },
      "source": [
        "# Create a Tokenizer object and fit it on the entire dataset (Train + Test)\n",
        "# This will contain the vocab space of the dataset\n",
        "tokenizer = Tokenizer()\n",
        "total_tweets = df.text\n",
        "tokenizer.fit_on_texts(total_tweets)\n",
        "\n",
        "# Calculate Max Seq Length to pad sequences\n",
        "max_seq_len = max([len(s.split()) for s in total_tweets])\n",
        "\n",
        "# Define Vocab size\n",
        "vocab_size = len(tokenizer.word_index) + 1\n",
        "\n",
        "# Create the sequence of Indices from Text\n",
        "X_train_tokens = tokenizer.texts_to_sequences(X_train)\n",
        "X_test_tokens = tokenizer.texts_to_sequences(X_test)\n",
        "\n",
        "# Pad the sequences to make the length equal to max_seq_len\n",
        "X_train_pad = pad_sequences(X_train_tokens, maxlen=max_seq_len, padding='post')\n",
        "X_test_pad = pad_sequences(X_test_tokens, maxlen=max_seq_len, padding='post')"
      ],
      "execution_count": 0,
      "outputs": []
    },
    {
      "cell_type": "code",
      "metadata": {
        "id": "e3f0CkuM-F95",
        "colab_type": "code",
        "outputId": "255c608a-69cc-492b-ac9a-5c7618845338",
        "colab": {
          "base_uri": "https://localhost:8080/",
          "height": 574
        }
      },
      "source": [
        "# Embedding Layer --> Turns positive integers (indexes) into dense vectors of fixed size.\n",
        "EMBEDDING_DIM = 100\n",
        "\n",
        "model = Sequential()\n",
        "model.add(Embedding(vocab_size, EMBEDDING_DIM, input_length=max_seq_len))\n",
        "model.add(LSTM(units=32, dropout=0.2, recurrent_dropout=0.2))\n",
        "model.add(Dense(1, activation='relu'))\n",
        "\n",
        "model.compile(loss='binary_crossentropy', optimizer='adam', metrics=['accuracy'])\n",
        "model.summary()"
      ],
      "execution_count": 0,
      "outputs": [
        {
          "output_type": "stream",
          "text": [
            "WARNING: Logging before flag parsing goes to stderr.\n",
            "W0713 10:16:33.620498 140504405157760 deprecation_wrapper.py:119] From /usr/local/lib/python3.6/dist-packages/keras/backend/tensorflow_backend.py:74: The name tf.get_default_graph is deprecated. Please use tf.compat.v1.get_default_graph instead.\n",
            "\n",
            "W0713 10:16:33.671944 140504405157760 deprecation_wrapper.py:119] From /usr/local/lib/python3.6/dist-packages/keras/backend/tensorflow_backend.py:517: The name tf.placeholder is deprecated. Please use tf.compat.v1.placeholder instead.\n",
            "\n",
            "W0713 10:16:33.681445 140504405157760 deprecation_wrapper.py:119] From /usr/local/lib/python3.6/dist-packages/keras/backend/tensorflow_backend.py:4138: The name tf.random_uniform is deprecated. Please use tf.random.uniform instead.\n",
            "\n",
            "W0713 10:16:33.807480 140504405157760 deprecation_wrapper.py:119] From /usr/local/lib/python3.6/dist-packages/keras/backend/tensorflow_backend.py:133: The name tf.placeholder_with_default is deprecated. Please use tf.compat.v1.placeholder_with_default instead.\n",
            "\n",
            "W0713 10:16:33.820613 140504405157760 deprecation.py:506] From /usr/local/lib/python3.6/dist-packages/keras/backend/tensorflow_backend.py:3445: calling dropout (from tensorflow.python.ops.nn_ops) with keep_prob is deprecated and will be removed in a future version.\n",
            "Instructions for updating:\n",
            "Please use `rate` instead of `keep_prob`. Rate should be set to `rate = 1 - keep_prob`.\n",
            "W0713 10:16:34.289587 140504405157760 deprecation_wrapper.py:119] From /usr/local/lib/python3.6/dist-packages/keras/optimizers.py:790: The name tf.train.Optimizer is deprecated. Please use tf.compat.v1.train.Optimizer instead.\n",
            "\n",
            "W0713 10:16:34.313985 140504405157760 deprecation_wrapper.py:119] From /usr/local/lib/python3.6/dist-packages/keras/backend/tensorflow_backend.py:3376: The name tf.log is deprecated. Please use tf.math.log instead.\n",
            "\n",
            "W0713 10:16:34.322833 140504405157760 deprecation.py:323] From /usr/local/lib/python3.6/dist-packages/tensorflow/python/ops/nn_impl.py:180: add_dispatch_support.<locals>.wrapper (from tensorflow.python.ops.array_ops) is deprecated and will be removed in a future version.\n",
            "Instructions for updating:\n",
            "Use tf.where in 2.0, which has the same broadcast rule as np.where\n"
          ],
          "name": "stderr"
        },
        {
          "output_type": "stream",
          "text": [
            "_________________________________________________________________\n",
            "Layer (type)                 Output Shape              Param #   \n",
            "=================================================================\n",
            "embedding_1 (Embedding)      (None, 52, 100)           2154600   \n",
            "_________________________________________________________________\n",
            "lstm_1 (LSTM)                (None, 32)                17024     \n",
            "_________________________________________________________________\n",
            "dense_1 (Dense)              (None, 1)                 33        \n",
            "=================================================================\n",
            "Total params: 2,171,657\n",
            "Trainable params: 2,171,657\n",
            "Non-trainable params: 0\n",
            "_________________________________________________________________\n"
          ],
          "name": "stdout"
        }
      ]
    },
    {
      "cell_type": "code",
      "metadata": {
        "id": "rzPfPwbD-GA1",
        "colab_type": "code",
        "outputId": "2fac2004-ed3d-4119-fe3d-d48b96d5b3e6",
        "colab": {
          "base_uri": "https://localhost:8080/",
          "height": 874
        }
      },
      "source": [
        "history = model.fit(X_train_pad, y_train, batch_size=128, epochs=25, validation_split=0.3, verbose=1)"
      ],
      "execution_count": 0,
      "outputs": [
        {
          "output_type": "stream",
          "text": [
            "Train on 4435 samples, validate on 1901 samples\n",
            "Epoch 1/25\n",
            "4435/4435 [==============================] - 6s 1ms/step - loss: 1.0006 - acc: 0.7495 - val_loss: 0.5833 - val_acc: 0.7317\n",
            "Epoch 2/25\n",
            "4435/4435 [==============================] - 4s 931us/step - loss: 0.5669 - acc: 0.7495 - val_loss: 0.5824 - val_acc: 0.7317\n",
            "Epoch 3/25\n",
            "4435/4435 [==============================] - 4s 924us/step - loss: 0.5641 - acc: 0.7495 - val_loss: 0.5824 - val_acc: 0.7317\n",
            "Epoch 4/25\n",
            "4435/4435 [==============================] - 4s 922us/step - loss: 0.5629 - acc: 0.7495 - val_loss: 0.5820 - val_acc: 0.7317\n",
            "Epoch 5/25\n",
            "4435/4435 [==============================] - 4s 907us/step - loss: 0.5648 - acc: 0.7495 - val_loss: 0.5828 - val_acc: 0.7317\n",
            "Epoch 6/25\n",
            "4435/4435 [==============================] - 4s 923us/step - loss: 0.5648 - acc: 0.7495 - val_loss: 0.5824 - val_acc: 0.7317\n",
            "Epoch 7/25\n",
            "4435/4435 [==============================] - 4s 920us/step - loss: 0.5639 - acc: 0.7495 - val_loss: 0.5818 - val_acc: 0.7317\n",
            "Epoch 8/25\n",
            "4435/4435 [==============================] - 4s 935us/step - loss: 0.5644 - acc: 0.7495 - val_loss: 0.5819 - val_acc: 0.7317\n",
            "Epoch 9/25\n",
            "4435/4435 [==============================] - 4s 955us/step - loss: 0.5619 - acc: 0.7495 - val_loss: 0.5774 - val_acc: 0.7317\n",
            "Epoch 10/25\n",
            "4435/4435 [==============================] - 4s 927us/step - loss: 0.4819 - acc: 0.7959 - val_loss: 0.6671 - val_acc: 0.8590\n",
            "Epoch 11/25\n",
            "4435/4435 [==============================] - 4s 928us/step - loss: 0.5229 - acc: 0.8913 - val_loss: 0.7293 - val_acc: 0.8601\n",
            "Epoch 12/25\n",
            "4435/4435 [==============================] - 4s 928us/step - loss: 0.3749 - acc: 0.9191 - val_loss: 0.7313 - val_acc: 0.8716\n",
            "Epoch 13/25\n",
            "4435/4435 [==============================] - 4s 928us/step - loss: 0.3547 - acc: 0.9319 - val_loss: 0.9412 - val_acc: 0.8753\n",
            "Epoch 14/25\n",
            "4435/4435 [==============================] - 4s 942us/step - loss: 0.3002 - acc: 0.9416 - val_loss: 0.8668 - val_acc: 0.8701\n",
            "Epoch 15/25\n",
            "4435/4435 [==============================] - 4s 932us/step - loss: 0.3055 - acc: 0.9468 - val_loss: 0.5025 - val_acc: 0.8801\n",
            "Epoch 16/25\n",
            "4435/4435 [==============================] - 4s 935us/step - loss: 0.3117 - acc: 0.9486 - val_loss: 0.7545 - val_acc: 0.8748\n",
            "Epoch 17/25\n",
            "4435/4435 [==============================] - 4s 944us/step - loss: 0.2605 - acc: 0.9601 - val_loss: 1.5112 - val_acc: 0.8606\n",
            "Epoch 18/25\n",
            "4435/4435 [==============================] - 4s 932us/step - loss: 0.2077 - acc: 0.9660 - val_loss: 0.8721 - val_acc: 0.8732\n",
            "Epoch 19/25\n",
            "4435/4435 [==============================] - 4s 941us/step - loss: 0.2766 - acc: 0.9337 - val_loss: 0.4924 - val_acc: 0.8548\n",
            "Epoch 20/25\n",
            "4435/4435 [==============================] - 4s 926us/step - loss: 0.2754 - acc: 0.9583 - val_loss: 1.5648 - val_acc: 0.8564\n",
            "Epoch 21/25\n",
            "4435/4435 [==============================] - 4s 939us/step - loss: 0.5408 - acc: 0.9567 - val_loss: 1.9179 - val_acc: 0.8401\n",
            "Epoch 22/25\n",
            "4435/4435 [==============================] - 4s 928us/step - loss: 0.5120 - acc: 0.9610 - val_loss: 0.8694 - val_acc: 0.8632\n",
            "Epoch 23/25\n",
            "4435/4435 [==============================] - 4s 925us/step - loss: 0.2853 - acc: 0.9301 - val_loss: 0.4536 - val_acc: 0.8148\n",
            "Epoch 24/25\n",
            "4435/4435 [==============================] - 4s 942us/step - loss: 0.2907 - acc: 0.8708 - val_loss: 0.5811 - val_acc: 0.8496\n",
            "Epoch 25/25\n",
            "4435/4435 [==============================] - 4s 934us/step - loss: 0.2479 - acc: 0.9389 - val_loss: 0.8297 - val_acc: 0.8627\n"
          ],
          "name": "stdout"
        }
      ]
    },
    {
      "cell_type": "code",
      "metadata": {
        "id": "jHKGfqbwQlJh",
        "colab_type": "code",
        "colab": {}
      },
      "source": [
        "# Utility Function to get the Best Threshold value\n",
        "def get_threshold(y_test, preds):\n",
        "    thresh = 0.3\n",
        "    max = -1\n",
        "    for i in np.arange(0.3, 1.0, 0.1):\n",
        "        score = f1_score(y_test, preds > i)\n",
        "        print(f'i: {i}, score: {score}')\n",
        "        if score > max:\n",
        "            max = score\n",
        "            thresh = i\n",
        "    \n",
        "    thresh = round(thresh, 1)\n",
        "    print(f'Threshold: {thresh}')\n",
        "    print('='*70,\"\\n\")\n",
        "    return thresh"
      ],
      "execution_count": 0,
      "outputs": []
    },
    {
      "cell_type": "code",
      "metadata": {
        "id": "a8pRoWUf-GEZ",
        "colab_type": "code",
        "outputId": "9d06c421-5511-4867-a954-3e800c89b02b",
        "colab": {
          "base_uri": "https://localhost:8080/",
          "height": 454
        }
      },
      "source": [
        "lstm_preds = model.predict(X_test_pad)\n",
        "lstm_predictions = lstm_preds > get_threshold(y_test, lstm_preds)\n",
        "\n",
        "print(f'F1 Score: {f1_score(y_test, lstm_predictions)}')\n",
        "print()\n",
        "print(confusion_matrix(y_test, lstm_predictions))\n",
        "print()\n",
        "print(classification_report(y_test, lstm_predictions))"
      ],
      "execution_count": 0,
      "outputs": [
        {
          "output_type": "stream",
          "text": [
            "i: 0.3, score: 0.7769145394006659\n",
            "i: 0.4, score: 0.7769145394006659\n",
            "i: 0.5, score: 0.7769145394006659\n",
            "i: 0.6000000000000001, score: 0.7755555555555556\n",
            "i: 0.7000000000000002, score: 0.7741935483870968\n",
            "i: 0.8000000000000003, score: 0.7731843575418995\n",
            "i: 0.9000000000000001, score: 0.0\n",
            "Threshold: 0.3\n",
            "====================================================================== \n",
            "\n",
            "F1 Score: 0.7769145394006659\n",
            "\n",
            "[[1033  146]\n",
            " [  55  350]]\n",
            "\n",
            "              precision    recall  f1-score   support\n",
            "\n",
            "           0       0.95      0.88      0.91      1179\n",
            "           1       0.71      0.86      0.78       405\n",
            "\n",
            "    accuracy                           0.87      1584\n",
            "   macro avg       0.83      0.87      0.84      1584\n",
            "weighted avg       0.89      0.87      0.88      1584\n",
            "\n"
          ],
          "name": "stdout"
        },
        {
          "output_type": "stream",
          "text": [
            "/usr/local/lib/python3.6/dist-packages/sklearn/metrics/classification.py:1437: UndefinedMetricWarning: F-score is ill-defined and being set to 0.0 due to no predicted samples.\n",
            "  'precision', 'predicted', average, warn_for)\n"
          ],
          "name": "stderr"
        }
      ]
    },
    {
      "cell_type": "code",
      "metadata": {
        "id": "gQMt2aBA-Vtt",
        "colab_type": "code",
        "colab": {}
      },
      "source": [
        "pickle.dump(lstm_preds, open(dir_path + 'lstm_preds', 'wb'))\n",
        "pickle.dump(lstm_predictions, open(dir_path + 'lstm_predictions', 'wb'))"
      ],
      "execution_count": 0,
      "outputs": []
    },
    {
      "cell_type": "code",
      "metadata": {
        "id": "3wl7N4bp-GHN",
        "colab_type": "code",
        "outputId": "2e3c16bf-2bfe-417e-d60c-3be2fa0217f0",
        "colab": {
          "base_uri": "https://localhost:8080/",
          "height": 500
        }
      },
      "source": [
        "plt.figure(figsize=(16, 8))\n",
        "plt.plot(range(1, 26), history.history['val_loss'], 'r', label='val_loss')\n",
        "plt.plot(range(1, 26), history.history['loss'], 'r--', label='train_loss')\n",
        "plt.xlabel('Epochs')\n",
        "plt.ylabel('Loss')\n",
        "plt.legend()\n",
        "plt.show()"
      ],
      "execution_count": 0,
      "outputs": [
        {
          "output_type": "display_data",
          "data": {
            "image/png": "[encoded data removed]",
            "text/plain": [
              "<Figure size 1152x576 with 1 Axes>"
            ]
          },
          "metadata": {
            "tags": []
          }
        }
      ]
    },
    {
      "cell_type": "code",
      "metadata": {
        "id": "pw4iuLtG-GL0",
        "colab_type": "code",
        "outputId": "d6ac3212-13b6-4afa-c79b-52edbe700dcd",
        "colab": {
          "base_uri": "https://localhost:8080/",
          "height": 500
        }
      },
      "source": [
        "plt.figure(figsize=(16, 8))\n",
        "plt.plot(range(1, 26), history.history['val_acc'], 'b', label='val_acc')\n",
        "plt.plot(range(1, 26), history.history['acc'], 'b--', label='train_acc')\n",
        "plt.xlabel('Epochs')\n",
        "plt.ylabel('Accuracy')\n",
        "plt.legend()\n",
        "plt.show()"
      ],
      "execution_count": 0,
      "outputs": [
        {
          "output_type": "display_data",
          "data": {
            "image/png": "[encoded data removed]",
            "text/plain": [
              "<Figure size 1152x576 with 1 Axes>"
            ]
          },
          "metadata": {
            "tags": []
          }
        }
      ]
    },
    {
      "cell_type": "markdown",
      "metadata": {
        "id": "rhgJDriOkH1A",
        "colab_type": "text"
      },
      "source": [
        "# Model #3 with Word2Vec Language Model"
      ]
    },
    {
      "cell_type": "code",
      "metadata": {
        "id": "9hTuTD-Q-GOX",
        "colab_type": "code",
        "outputId": "f796e5c5-1d9c-42ca-844e-637abf8e9aed",
        "colab": {
          "base_uri": "https://localhost:8080/",
          "height": 34
        }
      },
      "source": [
        "tweets = df.text.progress_apply(lambda x: x.split())"
      ],
      "execution_count": 0,
      "outputs": [
        {
          "output_type": "stream",
          "text": [
            "100%|█████████████████████████| 7920/7920 [00:00<00:00, 229921.91it/s]\n"
          ],
          "name": "stderr"
        }
      ]
    },
    {
      "cell_type": "code",
      "metadata": {
        "id": "PK_X8DnRjOvz",
        "colab_type": "code",
        "colab": {}
      },
      "source": [
        "# Train Word2Vec Model\n",
        "model_w2v = gensim.models.Word2Vec(sentences=tweets, size=EMBEDDING_DIM, window=5, workers=4, min_count=1)\n",
        "\n",
        "# Vocab list\n",
        "words = list(model_w2v.wv.vocab)"
      ],
      "execution_count": 0,
      "outputs": []
    },
    {
      "cell_type": "markdown",
      "metadata": {
        "id": "KjbdZX1o2b0q",
        "colab_type": "text"
      },
      "source": [
        "**Embedding Matrix** - is used to create a relatoinship of the index of a word and the vectorised form of the same, i.e. 'EMBEDDING_DIM' vector using 'Word2Vec' Model as evaluated above. This matrix will be used in the Embedding layer as an initializer. We've set the 'trainable' option to 'False' which indicates the embedding layer weights will not get trained - note \"*Non-trainable params: 2,154,600*\"."
      ]
    },
    {
      "cell_type": "code",
      "metadata": {
        "id": "nYaLv0lKjO2d",
        "colab_type": "code",
        "colab": {}
      },
      "source": [
        "embedding_matrix = np.zeros((vocab_size, EMBEDDING_DIM))\n",
        "for word, i in tokenizer.word_index.items():\n",
        "    if i > vocab_size:\n",
        "        continue\n",
        "    try:\n",
        "        embedding_matrix[i] = model_w2v.wv[word]\n",
        "    except:\n",
        "        embedding_matrix[i] = np.zeros(EMBEDDING_DIM)"
      ],
      "execution_count": 0,
      "outputs": []
    },
    {
      "cell_type": "code",
      "metadata": {
        "id": "mrva9UJpjO_h",
        "colab_type": "code",
        "outputId": "a3d2143a-e07c-4933-9416-10301d8b45a2",
        "colab": {
          "base_uri": "https://localhost:8080/",
          "height": 269
        }
      },
      "source": [
        "# Embedding Layer --> Turns positive integers (indexes) into dense vectors of fixed size.\n",
        "EMBEDDING_DIM = 100\n",
        "\n",
        "model = Sequential()\n",
        "model.add(Embedding(vocab_size, EMBEDDING_DIM, embeddings_initializer=Constant(embedding_matrix), input_length=max_seq_len, trainable=False))\n",
        "model.add(LSTM(units=32, dropout=0.4, recurrent_dropout=0.4, return_sequences=True))\n",
        "model.add(LSTM(units=16, dropout=0.4, recurrent_dropout=0.4))\n",
        "model.add(Dense(1, activation='relu'))\n",
        "\n",
        "model.compile(loss='binary_crossentropy', optimizer='adam', metrics=['accuracy'])\n",
        "model.summary()"
      ],
      "execution_count": 0,
      "outputs": [
        {
          "output_type": "stream",
          "text": [
            "_________________________________________________________________\n",
            "Layer (type)                 Output Shape              Param #   \n",
            "=================================================================\n",
            "embedding_2 (Embedding)      (None, 52, 100)           2154600   \n",
            "_________________________________________________________________\n",
            "lstm_2 (LSTM)                (None, 52, 32)            17024     \n",
            "_________________________________________________________________\n",
            "lstm_3 (LSTM)                (None, 16)                3136      \n",
            "_________________________________________________________________\n",
            "dense_2 (Dense)              (None, 1)                 17        \n",
            "=================================================================\n",
            "Total params: 2,174,777\n",
            "Trainable params: 20,177\n",
            "Non-trainable params: 2,154,600\n",
            "_________________________________________________________________\n"
          ],
          "name": "stdout"
        }
      ]
    },
    {
      "cell_type": "code",
      "metadata": {
        "id": "xOb4WZ6WjPK2",
        "colab_type": "code",
        "outputId": "f5d2cf0d-ab47-47bc-8da1-f7b2166357ee",
        "colab": {
          "base_uri": "https://localhost:8080/",
          "height": 874
        }
      },
      "source": [
        "history = model.fit(X_train_pad, y_train, batch_size=128, epochs=25, validation_split=0.3, verbose=1)"
      ],
      "execution_count": 0,
      "outputs": [
        {
          "output_type": "stream",
          "text": [
            "Train on 4435 samples, validate on 1901 samples\n",
            "Epoch 1/25\n",
            "4435/4435 [==============================] - 7s 2ms/step - loss: 0.8928 - acc: 0.7495 - val_loss: 0.7397 - val_acc: 0.7317\n",
            "Epoch 2/25\n",
            "4435/4435 [==============================] - 4s 964us/step - loss: 0.6200 - acc: 0.7445 - val_loss: 0.6012 - val_acc: 0.7275\n",
            "Epoch 3/25\n",
            "4435/4435 [==============================] - 4s 959us/step - loss: 0.5855 - acc: 0.7421 - val_loss: 0.5900 - val_acc: 0.7301\n",
            "Epoch 4/25\n",
            "4435/4435 [==============================] - 4s 965us/step - loss: 0.5600 - acc: 0.7436 - val_loss: 0.5530 - val_acc: 0.7280\n",
            "Epoch 5/25\n",
            "4435/4435 [==============================] - 4s 960us/step - loss: 0.5304 - acc: 0.7513 - val_loss: 0.4871 - val_acc: 0.7386\n",
            "Epoch 6/25\n",
            "4435/4435 [==============================] - 4s 962us/step - loss: 0.5011 - acc: 0.7664 - val_loss: 0.4249 - val_acc: 0.7796\n",
            "Epoch 7/25\n",
            "4435/4435 [==============================] - 4s 968us/step - loss: 0.4674 - acc: 0.7736 - val_loss: 0.3852 - val_acc: 0.8106\n",
            "Epoch 8/25\n",
            "4435/4435 [==============================] - 4s 972us/step - loss: 0.4594 - acc: 0.7844 - val_loss: 0.3733 - val_acc: 0.8243\n",
            "Epoch 9/25\n",
            "4435/4435 [==============================] - 4s 955us/step - loss: 0.4669 - acc: 0.7745 - val_loss: 0.3764 - val_acc: 0.8117\n",
            "Epoch 10/25\n",
            "4435/4435 [==============================] - 4s 970us/step - loss: 0.4512 - acc: 0.7869 - val_loss: 0.3696 - val_acc: 0.8264\n",
            "Epoch 11/25\n",
            "4435/4435 [==============================] - 4s 961us/step - loss: 0.4336 - acc: 0.7955 - val_loss: 0.3681 - val_acc: 0.8217\n",
            "Epoch 12/25\n",
            "4435/4435 [==============================] - 4s 973us/step - loss: 0.4146 - acc: 0.7975 - val_loss: 0.3697 - val_acc: 0.8301\n",
            "Epoch 13/25\n",
            "4435/4435 [==============================] - 4s 969us/step - loss: 0.4244 - acc: 0.8056 - val_loss: 0.3605 - val_acc: 0.8317\n",
            "Epoch 14/25\n",
            "4435/4435 [==============================] - 4s 978us/step - loss: 0.4409 - acc: 0.8106 - val_loss: 0.3617 - val_acc: 0.8275\n",
            "Epoch 15/25\n",
            "4435/4435 [==============================] - 4s 982us/step - loss: 0.4114 - acc: 0.8133 - val_loss: 0.3691 - val_acc: 0.8306\n",
            "Epoch 16/25\n",
            "4435/4435 [==============================] - 4s 973us/step - loss: 0.3842 - acc: 0.8138 - val_loss: 0.3606 - val_acc: 0.8306\n",
            "Epoch 17/25\n",
            "4435/4435 [==============================] - 4s 984us/step - loss: 0.4027 - acc: 0.8086 - val_loss: 0.3741 - val_acc: 0.8306\n",
            "Epoch 18/25\n",
            "4435/4435 [==============================] - 4s 979us/step - loss: 0.3875 - acc: 0.8171 - val_loss: 0.3605 - val_acc: 0.8317\n",
            "Epoch 19/25\n",
            "4435/4435 [==============================] - 4s 971us/step - loss: 0.3995 - acc: 0.8167 - val_loss: 0.3628 - val_acc: 0.8332\n",
            "Epoch 20/25\n",
            "4435/4435 [==============================] - 4s 984us/step - loss: 0.3817 - acc: 0.8192 - val_loss: 0.3547 - val_acc: 0.8306\n",
            "Epoch 21/25\n",
            "4435/4435 [==============================] - 4s 977us/step - loss: 0.4060 - acc: 0.8158 - val_loss: 0.3588 - val_acc: 0.8338\n",
            "Epoch 22/25\n",
            "4435/4435 [==============================] - 4s 994us/step - loss: 0.3820 - acc: 0.8239 - val_loss: 0.3725 - val_acc: 0.8275\n",
            "Epoch 23/25\n",
            "4435/4435 [==============================] - 4s 976us/step - loss: 0.3781 - acc: 0.8230 - val_loss: 0.3608 - val_acc: 0.8322\n",
            "Epoch 24/25\n",
            "4435/4435 [==============================] - 4s 977us/step - loss: 0.3778 - acc: 0.8178 - val_loss: 0.3558 - val_acc: 0.8306\n",
            "Epoch 25/25\n",
            "4435/4435 [==============================] - 4s 985us/step - loss: 0.3699 - acc: 0.8329 - val_loss: 0.3571 - val_acc: 0.8275\n"
          ],
          "name": "stdout"
        }
      ]
    },
    {
      "cell_type": "code",
      "metadata": {
        "id": "G4eZsD3krIiP",
        "colab_type": "code",
        "outputId": "9d4f9a12-2b0e-429a-c599-4c68e0ba196e",
        "colab": {
          "base_uri": "https://localhost:8080/",
          "height": 454
        }
      },
      "source": [
        "w2v_preds = model.predict(X_test_pad)\n",
        "w2v_predictions = w2v_preds > get_threshold(y_test, w2v_preds)\n",
        "\n",
        "print(f'F1 Score: {f1_score(y_test, w2v_predictions)}')\n",
        "print()\n",
        "print(confusion_matrix(y_test, w2v_predictions))\n",
        "print()\n",
        "print(classification_report(y_test, w2v_predictions))"
      ],
      "execution_count": 0,
      "outputs": [
        {
          "output_type": "stream",
          "text": [
            "i: 0.3, score: 0.7088846880907372\n",
            "i: 0.4, score: 0.7165354330708662\n",
            "i: 0.5, score: 0.7193347193347193\n",
            "i: 0.6000000000000001, score: 0.7231121281464531\n",
            "i: 0.7000000000000002, score: 0.3560606060606061\n",
            "i: 0.8000000000000003, score: 0.0\n",
            "i: 0.9000000000000001, score: 0.0\n",
            "Threshold: 0.6\n",
            "====================================================================== \n",
            "\n",
            "F1 Score: 0.7231121281464531\n",
            "\n",
            "[[1026  153]\n",
            " [  89  316]]\n",
            "\n",
            "              precision    recall  f1-score   support\n",
            "\n",
            "           0       0.92      0.87      0.89      1179\n",
            "           1       0.67      0.78      0.72       405\n",
            "\n",
            "    accuracy                           0.85      1584\n",
            "   macro avg       0.80      0.83      0.81      1584\n",
            "weighted avg       0.86      0.85      0.85      1584\n",
            "\n"
          ],
          "name": "stdout"
        },
        {
          "output_type": "stream",
          "text": [
            "/usr/local/lib/python3.6/dist-packages/sklearn/metrics/classification.py:1437: UndefinedMetricWarning: F-score is ill-defined and being set to 0.0 due to no predicted samples.\n",
            "  'precision', 'predicted', average, warn_for)\n"
          ],
          "name": "stderr"
        }
      ]
    },
    {
      "cell_type": "code",
      "metadata": {
        "id": "LdDQYr7i3ZkS",
        "colab_type": "code",
        "colab": {}
      },
      "source": [
        "pickle.dump(w2v_preds, open(dir_path + 'w2v_preds', 'wb'))\n",
        "pickle.dump(w2v_predictions, open(dir_path + 'w2v_predictions', 'wb'))"
      ],
      "execution_count": 0,
      "outputs": []
    },
    {
      "cell_type": "markdown",
      "metadata": {
        "id": "b_fmgk3SOLw5",
        "colab_type": "text"
      },
      "source": [
        "# Model #4 - Logistic Regression with BOW"
      ]
    },
    {
      "cell_type": "code",
      "metadata": {
        "id": "AyFfgmIsOwNi",
        "colab_type": "code",
        "colab": {}
      },
      "source": [
        "from sklearn.feature_extraction.text import CountVectorizer\n",
        "from sklearn.linear_model import LogisticRegression\n",
        "from sklearn.model_selection import GridSearchCV, RandomizedSearchCV"
      ],
      "execution_count": 0,
      "outputs": []
    },
    {
      "cell_type": "code",
      "metadata": {
        "id": "QB17_el_PCmr",
        "colab_type": "code",
        "outputId": "da3d6cbe-6984-4a6a-e70c-7f12e7034f5e",
        "colab": {
          "base_uri": "https://localhost:8080/",
          "height": 34
        }
      },
      "source": [
        "bow_vectorizer = CountVectorizer(max_df=0.90, min_df=2, max_features=10000, stop_words='english', ngram_range=(1,3))\n",
        "bow = bow_vectorizer.fit_transform(data['tweet'])\n",
        "\n",
        "print(bow.shape)"
      ],
      "execution_count": 0,
      "outputs": [
        {
          "output_type": "stream",
          "text": [
            "(7920, 10000)\n"
          ],
          "name": "stdout"
        }
      ]
    },
    {
      "cell_type": "code",
      "metadata": {
        "id": "9UIgxp_KPNpW",
        "colab_type": "code",
        "colab": {}
      },
      "source": [
        "split = round(0.8*bow.shape[0])\n",
        "train_bow = bow[:split, :]\n",
        "test_bow = bow[split:, :]"
      ],
      "execution_count": 0,
      "outputs": []
    },
    {
      "cell_type": "code",
      "metadata": {
        "id": "rIq6MKFGUexQ",
        "colab_type": "code",
        "outputId": "c37d5c9b-36a2-4e85-d5b3-a626fb863a39",
        "colab": {
          "base_uri": "https://localhost:8080/",
          "height": 403
        }
      },
      "source": [
        "params = {\n",
        "    'penalty': ['l1', 'l2'],\n",
        "    'C': np.logspace(-4, 4, 20),\n",
        "    'solver': ['liblinear']\n",
        "         }\n",
        "lr = LogisticRegression()\n",
        "clf = RandomizedSearchCV(lr, n_iter=20, param_distributions=params, cv=5, verbose=1, n_jobs=-1)\n",
        "clf.fit(train_bow, y_train)"
      ],
      "execution_count": 0,
      "outputs": [
        {
          "output_type": "stream",
          "text": [
            "Fitting 5 folds for each of 20 candidates, totalling 100 fits\n"
          ],
          "name": "stdout"
        },
        {
          "output_type": "stream",
          "text": [
            "[Parallel(n_jobs=-1)]: Using backend LokyBackend with 2 concurrent workers.\n",
            "[Parallel(n_jobs=-1)]: Done  87 tasks      | elapsed:   36.9s\n",
            "[Parallel(n_jobs=-1)]: Done 100 out of 100 | elapsed:   39.9s finished\n"
          ],
          "name": "stderr"
        },
        {
          "output_type": "execute_result",
          "data": {
            "text/plain": [
              "RandomizedSearchCV(cv=5, error_score='raise-deprecating',\n",
              "                   estimator=LogisticRegression(C=1.0, class_weight=None,\n",
              "                                                dual=False, fit_intercept=True,\n",
              "                                                intercept_scaling=1,\n",
              "                                                l1_ratio=None, max_iter=100,\n",
              "                                                multi_class='warn', n_jobs=None,\n",
              "                                                penalty='l2', random_state=None,\n",
              "                                                solver='warn', tol=0.0001,\n",
              "                                                verbose=0, warm_start=False),\n",
              "                   iid='warn', n_iter=20, n_jobs=-1,\n",
              "                   param_distribution...\n",
              "       4.83293024e-03, 1.27427499e-02, 3.35981829e-02, 8.85866790e-02,\n",
              "       2.33572147e-01, 6.15848211e-01, 1.62377674e+00, 4.28133240e+00,\n",
              "       1.12883789e+01, 2.97635144e+01, 7.84759970e+01, 2.06913808e+02,\n",
              "       5.45559478e+02, 1.43844989e+03, 3.79269019e+03, 1.00000000e+04]),\n",
              "                                        'penalty': ['l1', 'l2'],\n",
              "                                        'solver': ['liblinear']},\n",
              "                   pre_dispatch='2*n_jobs', random_state=None, refit=True,\n",
              "                   return_train_score=False, scoring=None, verbose=1)"
            ]
          },
          "metadata": {
            "tags": []
          },
          "execution_count": 43
        }
      ]
    },
    {
      "cell_type": "code",
      "metadata": {
        "id": "dIsqnPoKZZ46",
        "colab_type": "code",
        "outputId": "afbe0f9f-5412-44de-a17a-cbc930a26cbb",
        "colab": {
          "base_uri": "https://localhost:8080/",
          "height": 101
        }
      },
      "source": [
        "clf.best_estimator_"
      ],
      "execution_count": 0,
      "outputs": [
        {
          "output_type": "execute_result",
          "data": {
            "text/plain": [
              "LogisticRegression(C=0.004832930238571752, class_weight=None, dual=False,\n",
              "                   fit_intercept=True, intercept_scaling=1, l1_ratio=None,\n",
              "                   max_iter=100, multi_class='warn', n_jobs=None, penalty='l1',\n",
              "                   random_state=None, solver='liblinear', tol=0.0001, verbose=0,\n",
              "                   warm_start=False)"
            ]
          },
          "metadata": {
            "tags": []
          },
          "execution_count": 44
        }
      ]
    },
    {
      "cell_type": "code",
      "metadata": {
        "id": "Tx7OoO7YU-kY",
        "colab_type": "code",
        "outputId": "b461ec28-e17b-4368-b00f-18b7a5b8240d",
        "colab": {
          "base_uri": "https://localhost:8080/",
          "height": 507
        }
      },
      "source": [
        "lr_preds = clf.best_estimator_.predict_proba(test_bow)\n",
        "lr_preds = [i[0] for i in lr_preds]\n",
        "lr_predictions = lr_preds > get_threshold(y_test, lr_preds)\n",
        "\n",
        "print(f'F1 Score: {f1_score(y_test, lr_predictions)}')\n",
        "print()\n",
        "print(confusion_matrix(y_test, lr_predictions))\n",
        "print()\n",
        "print(classification_report(y_test, lr_predictions))"
      ],
      "execution_count": 0,
      "outputs": [
        {
          "output_type": "stream",
          "text": [
            "i: 0.3, score: 0.4072398190045249\n",
            "i: 0.4, score: 0.4072398190045249\n",
            "i: 0.5, score: 0.4072398190045249\n",
            "i: 0.6000000000000001, score: 0.4072398190045249\n",
            "i: 0.7000000000000002, score: 0.4072398190045249\n",
            "i: 0.8000000000000003, score: 0.0\n",
            "i: 0.9000000000000001, score: 0.0\n",
            "Threshold: 0.3\n",
            "====================================================================== \n",
            "\n",
            "F1 Score: 0.4072398190045249\n",
            "\n",
            "[[   0 1179]\n",
            " [   0  405]]\n",
            "\n",
            "              precision    recall  f1-score   support\n",
            "\n",
            "           0       0.00      0.00      0.00      1179\n",
            "           1       0.26      1.00      0.41       405\n",
            "\n",
            "    accuracy                           0.26      1584\n",
            "   macro avg       0.13      0.50      0.20      1584\n",
            "weighted avg       0.07      0.26      0.10      1584\n",
            "\n"
          ],
          "name": "stdout"
        },
        {
          "output_type": "stream",
          "text": [
            "/usr/local/lib/python3.6/dist-packages/sklearn/metrics/classification.py:1437: UndefinedMetricWarning: F-score is ill-defined and being set to 0.0 due to no predicted samples.\n",
            "  'precision', 'predicted', average, warn_for)\n",
            "/usr/local/lib/python3.6/dist-packages/sklearn/metrics/classification.py:1437: UndefinedMetricWarning: Precision and F-score are ill-defined and being set to 0.0 in labels with no predicted samples.\n",
            "  'precision', 'predicted', average, warn_for)\n"
          ],
          "name": "stderr"
        }
      ]
    },
    {
      "cell_type": "code",
      "metadata": {
        "id": "M6Llwyb04JGV",
        "colab_type": "code",
        "colab": {}
      },
      "source": [
        "pickle.dump(lr_preds, open(dir_path + 'lr_preds', 'wb'))\n",
        "pickle.dump(lr_predictions, open(dir_path + 'lr_predictions', 'wb'))"
      ],
      "execution_count": 0,
      "outputs": []
    },
    {
      "cell_type": "markdown",
      "metadata": {
        "id": "G0wBTKVMOMKH",
        "colab_type": "text"
      },
      "source": [
        "# Model #5 - Logistic Regression with TFIDF"
      ]
    },
    {
      "cell_type": "code",
      "metadata": {
        "id": "3_DNRWYAPUjB",
        "colab_type": "code",
        "colab": {}
      },
      "source": [
        "from sklearn.feature_extraction.text import TfidfVectorizer"
      ],
      "execution_count": 0,
      "outputs": []
    },
    {
      "cell_type": "code",
      "metadata": {
        "id": "Qhq1RJ9jPbBE",
        "colab_type": "code",
        "outputId": "6c24d2dd-d157-4c3b-97f0-d9388e2a49e7",
        "colab": {
          "base_uri": "https://localhost:8080/",
          "height": 34
        }
      },
      "source": [
        "tfidf_vectorizer = TfidfVectorizer(max_df=0.90, min_df=2, max_features=10000, stop_words='english', ngram_range=(1,3))\n",
        "tfidf = tfidf_vectorizer.fit_transform(data['tweet'])\n",
        "\n",
        "print(tfidf.shape)"
      ],
      "execution_count": 0,
      "outputs": [
        {
          "output_type": "stream",
          "text": [
            "(7920, 10000)\n"
          ],
          "name": "stdout"
        }
      ]
    },
    {
      "cell_type": "code",
      "metadata": {
        "id": "5Xo21VNLPba9",
        "colab_type": "code",
        "colab": {}
      },
      "source": [
        "split = round(0.8 * tfidf.shape[0])\n",
        "train_tfidf = tfidf[:split, :]\n",
        "test_tfidf = tfidf[split:, :]"
      ],
      "execution_count": 0,
      "outputs": []
    },
    {
      "cell_type": "code",
      "metadata": {
        "id": "m96A2t1Ha06p",
        "colab_type": "code",
        "outputId": "d06a57e0-0ae1-4d63-9e49-02ffdd09a4ee",
        "colab": {
          "base_uri": "https://localhost:8080/",
          "height": 101
        }
      },
      "source": [
        "params = {\n",
        "    'penalty': ['l1', 'l2'],\n",
        "    'C': np.logspace(-4, 4, 20),\n",
        "    'solver': ['liblinear']\n",
        "         }\n",
        "lr = LogisticRegression()\n",
        "clf = RandomizedSearchCV(lr, n_iter=20, param_distributions=params, cv=5, n_jobs=-1)\n",
        "clf.fit(train_tfidf, y_train)\n",
        "\n",
        "clf.best_estimator_"
      ],
      "execution_count": 0,
      "outputs": [
        {
          "output_type": "execute_result",
          "data": {
            "text/plain": [
              "LogisticRegression(C=0.03359818286283781, class_weight=None, dual=False,\n",
              "                   fit_intercept=True, intercept_scaling=1, l1_ratio=None,\n",
              "                   max_iter=100, multi_class='warn', n_jobs=None, penalty='l1',\n",
              "                   random_state=None, solver='liblinear', tol=0.0001, verbose=0,\n",
              "                   warm_start=False)"
            ]
          },
          "metadata": {
            "tags": []
          },
          "execution_count": 36
        }
      ]
    },
    {
      "cell_type": "code",
      "metadata": {
        "id": "1Hkf2YRTa1EU",
        "colab_type": "code",
        "outputId": "97534086-0a74-414c-f277-47ac054f4f8b",
        "colab": {
          "base_uri": "https://localhost:8080/",
          "height": 507
        }
      },
      "source": [
        "lr_preds = clf.best_estimator_.predict_proba(test_tfidf)\n",
        "lr_preds = [i[0] for i in lr_preds]\n",
        "lr_predictions = lr_preds > get_threshold(y_test, lr_preds)\n",
        "\n",
        "print(f'F1 Score: {f1_score(y_test, lr_predictions)}')\n",
        "print()\n",
        "print(confusion_matrix(y_test, lr_predictions))\n",
        "print()\n",
        "print(classification_report(y_test, lr_predictions))"
      ],
      "execution_count": 0,
      "outputs": [
        {
          "output_type": "stream",
          "text": [
            "i: 0.3, score: 0.4072398190045249\n",
            "i: 0.4, score: 0.4072398190045249\n",
            "i: 0.5, score: 0.4072398190045249\n",
            "i: 0.6000000000000001, score: 0.4072398190045249\n",
            "i: 0.7000000000000002, score: 0.4072398190045249\n",
            "i: 0.8000000000000003, score: 0.0\n",
            "i: 0.9000000000000001, score: 0.0\n",
            "Threshold: 0.3\n",
            "====================================================================== \n",
            "\n",
            "F1 Score: 0.4072398190045249\n",
            "\n",
            "[[   0 1179]\n",
            " [   0  405]]\n",
            "\n",
            "              precision    recall  f1-score   support\n",
            "\n",
            "           0       0.00      0.00      0.00      1179\n",
            "           1       0.26      1.00      0.41       405\n",
            "\n",
            "    accuracy                           0.26      1584\n",
            "   macro avg       0.13      0.50      0.20      1584\n",
            "weighted avg       0.07      0.26      0.10      1584\n",
            "\n"
          ],
          "name": "stdout"
        },
        {
          "output_type": "stream",
          "text": [
            "/usr/local/lib/python3.6/dist-packages/sklearn/metrics/classification.py:1437: UndefinedMetricWarning: F-score is ill-defined and being set to 0.0 due to no predicted samples.\n",
            "  'precision', 'predicted', average, warn_for)\n",
            "/usr/local/lib/python3.6/dist-packages/sklearn/metrics/classification.py:1437: UndefinedMetricWarning: Precision and F-score are ill-defined and being set to 0.0 in labels with no predicted samples.\n",
            "  'precision', 'predicted', average, warn_for)\n"
          ],
          "name": "stderr"
        }
      ]
    },
    {
      "cell_type": "code",
      "metadata": {
        "id": "ybwdPWLra1L3",
        "colab_type": "code",
        "colab": {}
      },
      "source": [
        "pickle.dump(lr_preds, open(dir_path + 'tfidf_preds', 'wb'))\n",
        "pickle.dump(lr_predictions, open(dir_path + 'tfidf_predictions', 'wb'))"
      ],
      "execution_count": 0,
      "outputs": []
    },
    {
      "cell_type": "markdown",
      "metadata": {
        "id": "u46QOWU2OMf5",
        "colab_type": "text"
      },
      "source": [
        "# Model #6 - Mulitnomial NB with TFIDF"
      ]
    },
    {
      "cell_type": "code",
      "metadata": {
        "id": "SFK5rpQLgOb1",
        "colab_type": "code",
        "colab": {}
      },
      "source": [
        "from sklearn.naive_bayes import MultinomialNB"
      ],
      "execution_count": 0,
      "outputs": []
    },
    {
      "cell_type": "code",
      "metadata": {
        "id": "uT6JfgcbgFno",
        "colab_type": "code",
        "outputId": "4872789d-33fe-40b6-e3ce-cc1fd9613329",
        "colab": {
          "base_uri": "https://localhost:8080/",
          "height": 34
        }
      },
      "source": [
        "params = {\n",
        "    'alpha': [0.1, 0.01, 0.001, 0.0001, 1.0, 10.0, 100.0, 1000.0]\n",
        "         }\n",
        "nb = MultinomialNB()\n",
        "clf = GridSearchCV(nb, param_grid=params, cv=5, n_jobs=-1)\n",
        "clf.fit(train_tfidf, y_train)\n",
        "\n",
        "clf.best_estimator_"
      ],
      "execution_count": 0,
      "outputs": [
        {
          "output_type": "execute_result",
          "data": {
            "text/plain": [
              "MultinomialNB(alpha=10.0, class_prior=None, fit_prior=True)"
            ]
          },
          "metadata": {
            "tags": []
          },
          "execution_count": 40
        }
      ]
    },
    {
      "cell_type": "code",
      "metadata": {
        "id": "6xYDwGfLgFsb",
        "colab_type": "code",
        "outputId": "dc720ec2-6a99-4c4d-e60a-99a81759f643",
        "colab": {
          "base_uri": "https://localhost:8080/",
          "height": 474
        }
      },
      "source": [
        "nb_preds = clf.best_estimator_.predict_proba(test_tfidf)\n",
        "nb_preds = [i[0] for i in nb_preds]\n",
        "nb_predictions = nb_preds > get_threshold(y_test, nb_preds)\n",
        "\n",
        "print(f'F1 Score: {f1_score(y_test, nb_predictions)}')\n",
        "print()\n",
        "print(confusion_matrix(y_test, nb_predictions))\n",
        "print()\n",
        "print(classification_report(y_test, nb_predictions))"
      ],
      "execution_count": 0,
      "outputs": [
        {
          "output_type": "stream",
          "text": [
            "i: 0.3, score: 0.4072398190045249\n",
            "i: 0.4, score: 0.4072398190045249\n",
            "i: 0.5, score: 0.4072398190045249\n",
            "i: 0.6000000000000001, score: 0.4072398190045249\n",
            "i: 0.7000000000000002, score: 0.40585562847046946\n",
            "i: 0.8000000000000003, score: 0.38879551820728286\n",
            "i: 0.9000000000000001, score: 0.20234604105571846\n",
            "Threshold: 0.3\n",
            "====================================================================== \n",
            "\n",
            "F1 Score: 0.4072398190045249\n",
            "\n",
            "[[   0 1179]\n",
            " [   0  405]]\n",
            "\n",
            "              precision    recall  f1-score   support\n",
            "\n",
            "           0       0.00      0.00      0.00      1179\n",
            "           1       0.26      1.00      0.41       405\n",
            "\n",
            "    accuracy                           0.26      1584\n",
            "   macro avg       0.13      0.50      0.20      1584\n",
            "weighted avg       0.07      0.26      0.10      1584\n",
            "\n"
          ],
          "name": "stdout"
        },
        {
          "output_type": "stream",
          "text": [
            "/usr/local/lib/python3.6/dist-packages/sklearn/metrics/classification.py:1437: UndefinedMetricWarning: Precision and F-score are ill-defined and being set to 0.0 in labels with no predicted samples.\n",
            "  'precision', 'predicted', average, warn_for)\n"
          ],
          "name": "stderr"
        }
      ]
    },
    {
      "cell_type": "code",
      "metadata": {
        "id": "9XuhJRV85RJ0",
        "colab_type": "code",
        "colab": {}
      },
      "source": [
        "pickle.dump(nb_preds, open(dir_path + 'nb_preds', 'wb'))\n",
        "pickle.dump(nb_predictions, open(dir_path + 'nb_predictions', 'wb'))"
      ],
      "execution_count": 0,
      "outputs": []
    },
    {
      "cell_type": "markdown",
      "metadata": {
        "id": "_HB0MIZNmfnX",
        "colab_type": "text"
      },
      "source": [
        "# Meta Classifier"
      ]
    },
    {
      "cell_type": "markdown",
      "metadata": {
        "id": "4nuynFcg6t8v",
        "colab_type": "text"
      },
      "source": [
        "- Will be using FastAI Preds, LSTM with Embedding Layer and LSTM with W2V Language Model.\n",
        "- Logistic Regression Naive Bayes Models aren't really useful."
      ]
    },
    {
      "cell_type": "code",
      "metadata": {
        "id": "JwJlJtRWrgDz",
        "colab_type": "code",
        "colab": {}
      },
      "source": [
        "from sklearn.ensemble import RandomForestClassifier"
      ],
      "execution_count": 0,
      "outputs": []
    },
    {
      "cell_type": "markdown",
      "metadata": {
        "id": "whWuY7WfA48O",
        "colab_type": "text"
      },
      "source": [
        "## Simple Average Meta Classifier"
      ]
    },
    {
      "cell_type": "code",
      "metadata": {
        "id": "FyZajW4iA3-m",
        "colab_type": "code",
        "outputId": "d3937393-1fbb-4017-c9ce-07ce7826a75f",
        "colab": {
          "base_uri": "https://localhost:8080/",
          "height": 235
        }
      },
      "source": [
        "test = []\n",
        "for i in range(len(fastai_preds)):\n",
        "    test.append((fastai_preds[i][0] + lstm_preds[i][0] + w2v_preds[i][0])/3)\n",
        "test_p = test > get_threshold(y_test, test)\n",
        "\n",
        "f1_score(y_test, test_p)"
      ],
      "execution_count": 0,
      "outputs": [
        {
          "output_type": "stream",
          "text": [
            "i: 0.3, score: 0.4990378447722899\n",
            "i: 0.4, score: 0.7235693501454898\n",
            "i: 0.5, score: 0.7565858798735511\n",
            "i: 0.6000000000000001, score: 0.7223587223587224\n",
            "i: 0.7000000000000002, score: 0.64\n",
            "i: 0.8000000000000003, score: 0.5066666666666666\n",
            "i: 0.9000000000000001, score: 0.0\n",
            "Threshold: 0.5\n",
            "====================================================================== \n",
            "\n"
          ],
          "name": "stdout"
        },
        {
          "output_type": "stream",
          "text": [
            "/usr/local/lib/python3.6/dist-packages/sklearn/metrics/classification.py:1437: UndefinedMetricWarning: F-score is ill-defined and being set to 0.0 due to no predicted samples.\n",
            "  'precision', 'predicted', average, warn_for)\n"
          ],
          "name": "stderr"
        },
        {
          "output_type": "execute_result",
          "data": {
            "text/plain": [
              "0.7565858798735511"
            ]
          },
          "metadata": {
            "tags": []
          },
          "execution_count": 70
        }
      ]
    },
    {
      "cell_type": "markdown",
      "metadata": {
        "id": "DLrvK4vYDi8_",
        "colab_type": "text"
      },
      "source": [
        "## Build Predictions DataFrame"
      ]
    },
    {
      "cell_type": "code",
      "metadata": {
        "id": "fWoG3WFYmnon",
        "colab_type": "code",
        "outputId": "a430230b-c068-4d13-daab-3a72213f24c3",
        "colab": {
          "base_uri": "https://localhost:8080/",
          "height": 195
        }
      },
      "source": [
        "t_fai = [x[0] for x in fastai_preds]\n",
        "t_lstm = [x[0] for x in lstm_preds]\n",
        "t_w2v = [x[0] for x in w2v_preds]\n",
        "t_final = np.vstack((t_fai, t_lstm, t_w2v, y_test)).T\n",
        "\n",
        "final = pd.DataFrame(t_final, columns=['FastAI Pred', 'LSTM Pred', 'W2V Pred', 'True Labels'])\n",
        "\n",
        "final.head()"
      ],
      "execution_count": 0,
      "outputs": [
        {
          "output_type": "execute_result",
          "data": {
            "text/html": [
              "<div>\n",
              "<style scoped>\n",
              "    .dataframe tbody tr th:only-of-type {\n",
              "        vertical-align: middle;\n",
              "    }\n",
              "\n",
              "    .dataframe tbody tr th {\n",
              "        vertical-align: top;\n",
              "    }\n",
              "\n",
              "    .dataframe thead th {\n",
              "        text-align: right;\n",
              "    }\n",
              "</style>\n",
              "<table border=\"1\" class=\"dataframe\">\n",
              "  <thead>\n",
              "    <tr style=\"text-align: right;\">\n",
              "      <th></th>\n",
              "      <th>FastAI Pred</th>\n",
              "      <th>LSTM Pred</th>\n",
              "      <th>W2V Pred</th>\n",
              "      <th>True Labels</th>\n",
              "    </tr>\n",
              "  </thead>\n",
              "  <tbody>\n",
              "    <tr>\n",
              "      <th>0</th>\n",
              "      <td>0.070216</td>\n",
              "      <td>0.832331</td>\n",
              "      <td>0.656203</td>\n",
              "      <td>1.0</td>\n",
              "    </tr>\n",
              "    <tr>\n",
              "      <th>1</th>\n",
              "      <td>0.491972</td>\n",
              "      <td>0.000000</td>\n",
              "      <td>0.050804</td>\n",
              "      <td>0.0</td>\n",
              "    </tr>\n",
              "    <tr>\n",
              "      <th>2</th>\n",
              "      <td>0.462031</td>\n",
              "      <td>0.000000</td>\n",
              "      <td>0.541067</td>\n",
              "      <td>0.0</td>\n",
              "    </tr>\n",
              "    <tr>\n",
              "      <th>3</th>\n",
              "      <td>0.876815</td>\n",
              "      <td>0.000000</td>\n",
              "      <td>0.050004</td>\n",
              "      <td>0.0</td>\n",
              "    </tr>\n",
              "    <tr>\n",
              "      <th>4</th>\n",
              "      <td>0.921354</td>\n",
              "      <td>0.831897</td>\n",
              "      <td>0.698270</td>\n",
              "      <td>0.0</td>\n",
              "    </tr>\n",
              "  </tbody>\n",
              "</table>\n",
              "</div>"
            ],
            "text/plain": [
              "   FastAI Pred  LSTM Pred  W2V Pred  True Labels\n",
              "0     0.070216   0.832331  0.656203          1.0\n",
              "1     0.491972   0.000000  0.050804          0.0\n",
              "2     0.462031   0.000000  0.541067          0.0\n",
              "3     0.876815   0.000000  0.050004          0.0\n",
              "4     0.921354   0.831897  0.698270          0.0"
            ]
          },
          "metadata": {
            "tags": []
          },
          "execution_count": 61
        }
      ]
    },
    {
      "cell_type": "code",
      "metadata": {
        "id": "syMu_0y-qB2n",
        "colab_type": "code",
        "colab": {}
      },
      "source": [
        "final_split = round(0.7 * final.shape[0])\n",
        "final_x_train = final.iloc[:final_split, :-1]\n",
        "final_x_test = final.iloc[final_split:, :-1]\n",
        "\n",
        "final_y_train = final.iloc[:final_split, -1]\n",
        "final_y_test = final.iloc[final_split:, -1]"
      ],
      "execution_count": 0,
      "outputs": []
    },
    {
      "cell_type": "code",
      "metadata": {
        "id": "kE0gXpN4nyeP",
        "colab_type": "code",
        "colab": {}
      },
      "source": [
        "# params = {\n",
        "#     'n_estimators': list(range(10,101,5)),\n",
        "#     'max_depth': list(range(5,25))\n",
        "#          }\n",
        "# rfc = RandomForestClassifier()\n",
        "# clf = RandomizedSearchCV(rfc, n_iter=20, param_distributions=params, cv=5, n_jobs=-1)\n",
        "# clf.fit(final_x_train, final_y_train)\n",
        "\n",
        "# clf.best_estimator_\n",
        "\n",
        "# final_preds = clf.best_estimator_.predict_proba(final_x_test)"
      ],
      "execution_count": 0,
      "outputs": []
    },
    {
      "cell_type": "markdown",
      "metadata": {
        "id": "zmOt942WDUeX",
        "colab_type": "text"
      },
      "source": [
        "- Won't use Random Forest Classifier - ANN performing much better."
      ]
    },
    {
      "cell_type": "markdown",
      "metadata": {
        "id": "Xzbs5DofBRis",
        "colab_type": "text"
      },
      "source": [
        "## ANN based Meta Classifier"
      ]
    },
    {
      "cell_type": "code",
      "metadata": {
        "id": "NSJo3I1D_iwM",
        "colab_type": "code",
        "outputId": "9585b06c-8f01-4357-fd65-cb128727304d",
        "colab": {
          "base_uri": "https://localhost:8080/",
          "height": 1000
        }
      },
      "source": [
        "model = Sequential()\n",
        "model.add(Dense(256, activation='relu', input_dim=3))\n",
        "model.add(Dense(1, activation='relu'))\n",
        "\n",
        "model.compile(loss='binary_crossentropy', optimizer='adam', metrics=['accuracy'])\n",
        "model.summary()\n",
        "\n",
        "history = model.fit(final_x_train, final_y_train, batch_size=128, epochs=50, validation_split=0.2, verbose=1)"
      ],
      "execution_count": 0,
      "outputs": [
        {
          "output_type": "stream",
          "text": [
            "_________________________________________________________________\n",
            "Layer (type)                 Output Shape              Param #   \n",
            "=================================================================\n",
            "dense_15 (Dense)             (None, 256)               1024      \n",
            "_________________________________________________________________\n",
            "dense_16 (Dense)             (None, 1)                 257       \n",
            "=================================================================\n",
            "Total params: 1,281\n",
            "Trainable params: 1,281\n",
            "Non-trainable params: 0\n",
            "_________________________________________________________________\n",
            "Train on 887 samples, validate on 222 samples\n",
            "Epoch 1/50\n",
            "887/887 [==============================] - 1s 2ms/step - loss: 0.6805 - acc: 0.7452 - val_loss: 0.4774 - val_acc: 0.7658\n",
            "Epoch 2/50\n",
            "887/887 [==============================] - 0s 23us/step - loss: 0.4705 - acc: 0.7452 - val_loss: 0.4208 - val_acc: 0.7658\n",
            "Epoch 3/50\n",
            "887/887 [==============================] - 0s 18us/step - loss: 0.4223 - acc: 0.7463 - val_loss: 0.3874 - val_acc: 0.8243\n",
            "Epoch 4/50\n",
            "887/887 [==============================] - 0s 18us/step - loss: 0.3901 - acc: 0.8106 - val_loss: 0.3519 - val_acc: 0.8784\n",
            "Epoch 5/50\n",
            "887/887 [==============================] - 0s 18us/step - loss: 0.3609 - acc: 0.8410 - val_loss: 0.3134 - val_acc: 0.8829\n",
            "Epoch 6/50\n",
            "887/887 [==============================] - 0s 17us/step - loss: 0.3372 - acc: 0.8613 - val_loss: 0.2781 - val_acc: 0.8784\n",
            "Epoch 7/50\n",
            "887/887 [==============================] - 0s 17us/step - loss: 0.3262 - acc: 0.8636 - val_loss: 0.2738 - val_acc: 0.8874\n",
            "Epoch 8/50\n",
            "887/887 [==============================] - 0s 18us/step - loss: 0.3168 - acc: 0.8636 - val_loss: 0.2772 - val_acc: 0.8874\n",
            "Epoch 9/50\n",
            "887/887 [==============================] - 0s 18us/step - loss: 0.3142 - acc: 0.8647 - val_loss: 0.2694 - val_acc: 0.8919\n",
            "Epoch 10/50\n",
            "887/887 [==============================] - 0s 18us/step - loss: 0.3107 - acc: 0.8636 - val_loss: 0.2594 - val_acc: 0.8919\n",
            "Epoch 11/50\n",
            "887/887 [==============================] - 0s 18us/step - loss: 0.3275 - acc: 0.8636 - val_loss: 0.3252 - val_acc: 0.8919\n",
            "Epoch 12/50\n",
            "887/887 [==============================] - 0s 18us/step - loss: 0.3437 - acc: 0.8613 - val_loss: 0.3313 - val_acc: 0.8919\n",
            "Epoch 13/50\n",
            "887/887 [==============================] - 0s 20us/step - loss: 0.3373 - acc: 0.8613 - val_loss: 0.3036 - val_acc: 0.8919\n",
            "Epoch 14/50\n",
            "887/887 [==============================] - 0s 17us/step - loss: 0.3211 - acc: 0.8636 - val_loss: 0.2753 - val_acc: 0.8919\n",
            "Epoch 15/50\n",
            "887/887 [==============================] - 0s 18us/step - loss: 0.3122 - acc: 0.8647 - val_loss: 0.2584 - val_acc: 0.8874\n",
            "Epoch 16/50\n",
            "887/887 [==============================] - 0s 18us/step - loss: 0.3257 - acc: 0.8647 - val_loss: 0.2597 - val_acc: 0.8919\n",
            "Epoch 17/50\n",
            "887/887 [==============================] - 0s 18us/step - loss: 0.3105 - acc: 0.8636 - val_loss: 0.2728 - val_acc: 0.8919\n",
            "Epoch 18/50\n",
            "887/887 [==============================] - 0s 19us/step - loss: 0.3109 - acc: 0.8636 - val_loss: 0.2707 - val_acc: 0.8919\n",
            "Epoch 19/50\n",
            "887/887 [==============================] - 0s 21us/step - loss: 0.3089 - acc: 0.8636 - val_loss: 0.2639 - val_acc: 0.8919\n",
            "Epoch 20/50\n",
            "887/887 [==============================] - 0s 24us/step - loss: 0.3090 - acc: 0.8658 - val_loss: 0.2617 - val_acc: 0.8919\n",
            "Epoch 21/50\n",
            "887/887 [==============================] - 0s 19us/step - loss: 0.3087 - acc: 0.8636 - val_loss: 0.2674 - val_acc: 0.8919\n",
            "Epoch 22/50\n",
            "887/887 [==============================] - 0s 19us/step - loss: 0.3091 - acc: 0.8636 - val_loss: 0.2620 - val_acc: 0.8919\n",
            "Epoch 23/50\n",
            "887/887 [==============================] - 0s 21us/step - loss: 0.3083 - acc: 0.8636 - val_loss: 0.2647 - val_acc: 0.8919\n",
            "Epoch 24/50\n",
            "887/887 [==============================] - 0s 20us/step - loss: 0.3084 - acc: 0.8636 - val_loss: 0.2658 - val_acc: 0.8919\n",
            "Epoch 25/50\n",
            "887/887 [==============================] - 0s 19us/step - loss: 0.3078 - acc: 0.8647 - val_loss: 0.2619 - val_acc: 0.8919\n",
            "Epoch 26/50\n",
            "887/887 [==============================] - 0s 19us/step - loss: 0.3081 - acc: 0.8658 - val_loss: 0.2618 - val_acc: 0.8919\n",
            "Epoch 27/50\n",
            "887/887 [==============================] - 0s 19us/step - loss: 0.3091 - acc: 0.8658 - val_loss: 0.2696 - val_acc: 0.8919\n",
            "Epoch 28/50\n",
            "887/887 [==============================] - 0s 20us/step - loss: 0.3085 - acc: 0.8658 - val_loss: 0.2621 - val_acc: 0.8919\n",
            "Epoch 29/50\n",
            "887/887 [==============================] - 0s 25us/step - loss: 0.3080 - acc: 0.8647 - val_loss: 0.2649 - val_acc: 0.8919\n",
            "Epoch 30/50\n",
            "887/887 [==============================] - 0s 24us/step - loss: 0.3076 - acc: 0.8647 - val_loss: 0.2638 - val_acc: 0.8919\n",
            "Epoch 31/50\n",
            "887/887 [==============================] - 0s 24us/step - loss: 0.3079 - acc: 0.8658 - val_loss: 0.2652 - val_acc: 0.8919\n",
            "Epoch 32/50\n",
            "887/887 [==============================] - 0s 20us/step - loss: 0.3071 - acc: 0.8658 - val_loss: 0.2622 - val_acc: 0.8919\n",
            "Epoch 33/50\n",
            "887/887 [==============================] - 0s 23us/step - loss: 0.3082 - acc: 0.8658 - val_loss: 0.2641 - val_acc: 0.8919\n",
            "Epoch 34/50\n",
            "887/887 [==============================] - 0s 23us/step - loss: 0.3078 - acc: 0.8658 - val_loss: 0.2641 - val_acc: 0.8919\n",
            "Epoch 35/50\n",
            "887/887 [==============================] - 0s 20us/step - loss: 0.3095 - acc: 0.8636 - val_loss: 0.2734 - val_acc: 0.8919\n",
            "Epoch 36/50\n",
            "887/887 [==============================] - 0s 19us/step - loss: 0.3081 - acc: 0.8636 - val_loss: 0.2623 - val_acc: 0.8919\n",
            "Epoch 37/50\n",
            "887/887 [==============================] - 0s 18us/step - loss: 0.3094 - acc: 0.8658 - val_loss: 0.2696 - val_acc: 0.8919\n",
            "Epoch 38/50\n",
            "887/887 [==============================] - 0s 20us/step - loss: 0.3083 - acc: 0.8658 - val_loss: 0.2681 - val_acc: 0.8919\n",
            "Epoch 39/50\n",
            "887/887 [==============================] - 0s 18us/step - loss: 0.3077 - acc: 0.8636 - val_loss: 0.2616 - val_acc: 0.8919\n",
            "Epoch 40/50\n",
            "887/887 [==============================] - 0s 20us/step - loss: 0.3087 - acc: 0.8636 - val_loss: 0.2672 - val_acc: 0.8919\n",
            "Epoch 41/50\n",
            "887/887 [==============================] - 0s 18us/step - loss: 0.3090 - acc: 0.8647 - val_loss: 0.2655 - val_acc: 0.8919\n",
            "Epoch 42/50\n",
            "887/887 [==============================] - 0s 22us/step - loss: 0.3071 - acc: 0.8658 - val_loss: 0.2683 - val_acc: 0.8919\n",
            "Epoch 43/50\n",
            "887/887 [==============================] - 0s 23us/step - loss: 0.3077 - acc: 0.8658 - val_loss: 0.2665 - val_acc: 0.8919\n",
            "Epoch 44/50\n",
            "887/887 [==============================] - 0s 23us/step - loss: 0.3103 - acc: 0.8647 - val_loss: 0.2737 - val_acc: 0.8919\n",
            "Epoch 45/50\n",
            "887/887 [==============================] - 0s 20us/step - loss: 0.3190 - acc: 0.8625 - val_loss: 0.3180 - val_acc: 0.8919\n",
            "Epoch 46/50\n",
            "887/887 [==============================] - 0s 20us/step - loss: 0.3278 - acc: 0.8625 - val_loss: 0.3009 - val_acc: 0.8919\n",
            "Epoch 47/50\n",
            "887/887 [==============================] - 0s 21us/step - loss: 0.3161 - acc: 0.8636 - val_loss: 0.2659 - val_acc: 0.8874\n",
            "Epoch 48/50\n",
            "887/887 [==============================] - 0s 19us/step - loss: 0.3144 - acc: 0.8636 - val_loss: 0.2934 - val_acc: 0.8919\n",
            "Epoch 49/50\n",
            "887/887 [==============================] - 0s 21us/step - loss: 0.3276 - acc: 0.8636 - val_loss: 0.3180 - val_acc: 0.8919\n",
            "Epoch 50/50\n",
            "887/887 [==============================] - 0s 20us/step - loss: 0.3298 - acc: 0.8636 - val_loss: 0.2941 - val_acc: 0.8919\n"
          ],
          "name": "stdout"
        }
      ]
    },
    {
      "cell_type": "code",
      "metadata": {
        "id": "qsZn17-jocab",
        "colab_type": "code",
        "outputId": "273b100d-d740-4373-a133-7670053eaa27",
        "colab": {
          "base_uri": "https://localhost:8080/",
          "height": 454
        }
      },
      "source": [
        "final_preds = model.predict(final_x_test)\n",
        "final_preds = [i[0] for i in final_preds]\n",
        "final_predictions = final_preds > get_threshold(final_y_test, final_preds)\n",
        "\n",
        "print(f'F1 Score: {f1_score(final_y_test, final_predictions)}')\n",
        "print()\n",
        "print(confusion_matrix(final_y_test, final_predictions))\n",
        "print()\n",
        "print(classification_report(final_y_test, final_predictions))"
      ],
      "execution_count": 0,
      "outputs": [
        {
          "output_type": "stream",
          "text": [
            "i: 0.3, score: 0.7756410256410255\n",
            "i: 0.4, score: 0.807017543859649\n",
            "i: 0.5, score: 0.826086956521739\n",
            "i: 0.6000000000000001, score: 0.8089887640449438\n",
            "i: 0.7000000000000002, score: 0.775\n",
            "i: 0.8000000000000003, score: 0.0\n",
            "i: 0.9000000000000001, score: 0.0\n",
            "Threshold: 0.5\n",
            "====================================================================== \n",
            "\n",
            "F1 Score: 0.826086956521739\n",
            "\n",
            "[[313  35]\n",
            " [ 13 114]]\n",
            "\n",
            "              precision    recall  f1-score   support\n",
            "\n",
            "         0.0       0.96      0.90      0.93       348\n",
            "         1.0       0.77      0.90      0.83       127\n",
            "\n",
            "    accuracy                           0.90       475\n",
            "   macro avg       0.86      0.90      0.88       475\n",
            "weighted avg       0.91      0.90      0.90       475\n",
            "\n"
          ],
          "name": "stdout"
        },
        {
          "output_type": "stream",
          "text": [
            "/usr/local/lib/python3.6/dist-packages/sklearn/metrics/classification.py:1437: UndefinedMetricWarning: F-score is ill-defined and being set to 0.0 due to no predicted samples.\n",
            "  'precision', 'predicted', average, warn_for)\n"
          ],
          "name": "stderr"
        }
      ]
    },
    {
      "cell_type": "markdown",
      "metadata": {
        "id": "GcCIi0aFBqVw",
        "colab_type": "text"
      },
      "source": [
        "# Final Prediction -\n",
        "- Combining Train + Test Data to build the Language Model.\n",
        "- Training on the entire Train dataset and Predicting on Test dataset."
      ]
    },
    {
      "cell_type": "code",
      "metadata": {
        "id": "sGRb8tWzgFvG",
        "colab_type": "code",
        "outputId": "ad1f21ec-57d3-4c28-816c-26548cdd882e",
        "colab": {
          "base_uri": "https://localhost:8080/",
          "height": 212
        }
      },
      "source": [
        "data_train = pd.read_csv(dir_path + 'train_data.csv')\n",
        "data_train.drop('id', axis=1, inplace=True)\n",
        "print(data_train.shape)\n",
        "data_train.head()"
      ],
      "execution_count": 3,
      "outputs": [
        {
          "output_type": "stream",
          "text": [
            "(7920, 2)\n"
          ],
          "name": "stdout"
        },
        {
          "output_type": "execute_result",
          "data": {
            "text/html": [
              "<div>\n",
              "<style scoped>\n",
              "    .dataframe tbody tr th:only-of-type {\n",
              "        vertical-align: middle;\n",
              "    }\n",
              "\n",
              "    .dataframe tbody tr th {\n",
              "        vertical-align: top;\n",
              "    }\n",
              "\n",
              "    .dataframe thead th {\n",
              "        text-align: right;\n",
              "    }\n",
              "</style>\n",
              "<table border=\"1\" class=\"dataframe\">\n",
              "  <thead>\n",
              "    <tr style=\"text-align: right;\">\n",
              "      <th></th>\n",
              "      <th>label</th>\n",
              "      <th>tweet</th>\n",
              "    </tr>\n",
              "  </thead>\n",
              "  <tbody>\n",
              "    <tr>\n",
              "      <th>0</th>\n",
              "      <td>0</td>\n",
              "      <td>#fingerprint #Pregnancy Test https://goo.gl/h1...</td>\n",
              "    </tr>\n",
              "    <tr>\n",
              "      <th>1</th>\n",
              "      <td>0</td>\n",
              "      <td>Finally a transparant silicon case ^^ Thanks t...</td>\n",
              "    </tr>\n",
              "    <tr>\n",
              "      <th>2</th>\n",
              "      <td>0</td>\n",
              "      <td>We love this! Would you go? #talk #makememorie...</td>\n",
              "    </tr>\n",
              "    <tr>\n",
              "      <th>3</th>\n",
              "      <td>0</td>\n",
              "      <td>I'm wired I know I'm George I was made that wa...</td>\n",
              "    </tr>\n",
              "    <tr>\n",
              "      <th>4</th>\n",
              "      <td>1</td>\n",
              "      <td>What amazing service! Apple won't even talk to...</td>\n",
              "    </tr>\n",
              "  </tbody>\n",
              "</table>\n",
              "</div>"
            ],
            "text/plain": [
              "   label                                              tweet\n",
              "0      0  #fingerprint #Pregnancy Test https://goo.gl/h1...\n",
              "1      0  Finally a transparant silicon case ^^ Thanks t...\n",
              "2      0  We love this! Would you go? #talk #makememorie...\n",
              "3      0  I'm wired I know I'm George I was made that wa...\n",
              "4      1  What amazing service! Apple won't even talk to..."
            ]
          },
          "metadata": {
            "tags": []
          },
          "execution_count": 3
        }
      ]
    },
    {
      "cell_type": "code",
      "metadata": {
        "id": "r78Ibll5gFxX",
        "colab_type": "code",
        "outputId": "10c178cb-9dff-4de8-ec29-c98546238243",
        "colab": {
          "base_uri": "https://localhost:8080/",
          "height": 212
        }
      },
      "source": [
        "data_test = pd.read_csv(dir_path + 'test_data.csv')\n",
        "# data_test.drop('id', axis=1, inplace=True)\n",
        "print(data_test.shape)\n",
        "data_test.tail()"
      ],
      "execution_count": 4,
      "outputs": [
        {
          "output_type": "stream",
          "text": [
            "(1953, 2)\n"
          ],
          "name": "stdout"
        },
        {
          "output_type": "execute_result",
          "data": {
            "text/html": [
              "<div>\n",
              "<style scoped>\n",
              "    .dataframe tbody tr th:only-of-type {\n",
              "        vertical-align: middle;\n",
              "    }\n",
              "\n",
              "    .dataframe tbody tr th {\n",
              "        vertical-align: top;\n",
              "    }\n",
              "\n",
              "    .dataframe thead th {\n",
              "        text-align: right;\n",
              "    }\n",
              "</style>\n",
              "<table border=\"1\" class=\"dataframe\">\n",
              "  <thead>\n",
              "    <tr style=\"text-align: right;\">\n",
              "      <th></th>\n",
              "      <th>id</th>\n",
              "      <th>tweet</th>\n",
              "    </tr>\n",
              "  </thead>\n",
              "  <tbody>\n",
              "    <tr>\n",
              "      <th>1948</th>\n",
              "      <td>9869</td>\n",
              "      <td>#SamsungGalaxyNote7 Explodes, Burns 6-Year-Old...</td>\n",
              "    </tr>\n",
              "    <tr>\n",
              "      <th>1949</th>\n",
              "      <td>9870</td>\n",
              "      <td>Now Available - Hoodie. Check it out here - ht...</td>\n",
              "    </tr>\n",
              "    <tr>\n",
              "      <th>1950</th>\n",
              "      <td>9871</td>\n",
              "      <td>There goes a crack right across the screen. If...</td>\n",
              "    </tr>\n",
              "    <tr>\n",
              "      <th>1951</th>\n",
              "      <td>9872</td>\n",
              "      <td>@codeofinterest as i said #Adobe big time we m...</td>\n",
              "    </tr>\n",
              "    <tr>\n",
              "      <th>1952</th>\n",
              "      <td>9873</td>\n",
              "      <td>Finally I got it .. thanx my father .. #Samsun...</td>\n",
              "    </tr>\n",
              "  </tbody>\n",
              "</table>\n",
              "</div>"
            ],
            "text/plain": [
              "        id                                              tweet\n",
              "1948  9869  #SamsungGalaxyNote7 Explodes, Burns 6-Year-Old...\n",
              "1949  9870  Now Available - Hoodie. Check it out here - ht...\n",
              "1950  9871  There goes a crack right across the screen. If...\n",
              "1951  9872  @codeofinterest as i said #Adobe big time we m...\n",
              "1952  9873  Finally I got it .. thanx my father .. #Samsun..."
            ]
          },
          "metadata": {
            "tags": []
          },
          "execution_count": 4
        }
      ]
    },
    {
      "cell_type": "code",
      "metadata": {
        "id": "BpR2g2nckfJp",
        "colab_type": "code",
        "outputId": "9c8b44d3-b767-41e8-d859-66bca6bd8f6a",
        "colab": {
          "base_uri": "https://localhost:8080/",
          "height": 195
        }
      },
      "source": [
        "pd.read_csv(dir_path + 'sample_submission.csv').head()"
      ],
      "execution_count": 5,
      "outputs": [
        {
          "output_type": "execute_result",
          "data": {
            "text/html": [
              "<div>\n",
              "<style scoped>\n",
              "    .dataframe tbody tr th:only-of-type {\n",
              "        vertical-align: middle;\n",
              "    }\n",
              "\n",
              "    .dataframe tbody tr th {\n",
              "        vertical-align: top;\n",
              "    }\n",
              "\n",
              "    .dataframe thead th {\n",
              "        text-align: right;\n",
              "    }\n",
              "</style>\n",
              "<table border=\"1\" class=\"dataframe\">\n",
              "  <thead>\n",
              "    <tr style=\"text-align: right;\">\n",
              "      <th></th>\n",
              "      <th>id</th>\n",
              "      <th>label</th>\n",
              "    </tr>\n",
              "  </thead>\n",
              "  <tbody>\n",
              "    <tr>\n",
              "      <th>0</th>\n",
              "      <td>7921</td>\n",
              "      <td>0</td>\n",
              "    </tr>\n",
              "    <tr>\n",
              "      <th>1</th>\n",
              "      <td>7922</td>\n",
              "      <td>0</td>\n",
              "    </tr>\n",
              "    <tr>\n",
              "      <th>2</th>\n",
              "      <td>7923</td>\n",
              "      <td>0</td>\n",
              "    </tr>\n",
              "    <tr>\n",
              "      <th>3</th>\n",
              "      <td>7924</td>\n",
              "      <td>0</td>\n",
              "    </tr>\n",
              "    <tr>\n",
              "      <th>4</th>\n",
              "      <td>7925</td>\n",
              "      <td>0</td>\n",
              "    </tr>\n",
              "  </tbody>\n",
              "</table>\n",
              "</div>"
            ],
            "text/plain": [
              "     id  label\n",
              "0  7921      0\n",
              "1  7922      0\n",
              "2  7923      0\n",
              "3  7924      0\n",
              "4  7925      0"
            ]
          },
          "metadata": {
            "tags": []
          },
          "execution_count": 5
        }
      ]
    },
    {
      "cell_type": "code",
      "metadata": {
        "id": "A283IS1XEryl",
        "colab_type": "code",
        "colab": {}
      },
      "source": [
        "def tweet_preprocessing(data):\n",
        "    cleand_tweets = []\n",
        "    stemmer = SnowballStemmer('english')\n",
        "\n",
        "    def info_extractor(row):\n",
        "        cleaned_tweet = []\n",
        "\n",
        "        words = row['tweet'].split()\n",
        "        for word in words:\n",
        "            # Skip Hyperlinks and Twitter Handles @<user>\n",
        "    #         if ('http' in word) or ('.com' in word) or ('www.' in word) or (word.startswith('@')):\n",
        "    #             continue\n",
        "\n",
        "            # Remove Digits and Special Characters\n",
        "            temp = re.sub(f'[^{string.ascii_lowercase}]', '', word.lower())\n",
        "\n",
        "            # Remove words with less than 3 characters\n",
        "    #         if len(temp) < 3:\n",
        "    #             continue\n",
        "\n",
        "            # Store the Stemmed version of the word\n",
        "    #         temp = stemmer.stem(temp)\n",
        "\n",
        "            if len(temp) > 0:\n",
        "                cleaned_tweet.append(temp)\n",
        "\n",
        "        if len(cleaned_tweet) > 0:\n",
        "            cleand_tweets.append(' '.join(cleaned_tweet))\n",
        "        else:\n",
        "            cleand_tweets.append(np.NaN)\n",
        "\n",
        "        return\n",
        "\n",
        "    data.progress_apply(info_extractor, axis=1)\n",
        "    \n",
        "    return cleand_tweets"
      ],
      "execution_count": 0,
      "outputs": []
    },
    {
      "cell_type": "code",
      "metadata": {
        "id": "GINXxOF3Er1I",
        "colab_type": "code",
        "outputId": "53c86ecb-88f3-4707-f5a6-7767533ab8c4",
        "colab": {
          "base_uri": "https://localhost:8080/",
          "height": 212
        }
      },
      "source": [
        "train_tweets = tweet_preprocessing(data_train)\n",
        "train_df = pd.DataFrame({'label':data_train.label, 'text':train_tweets})\n",
        "train_df.head()"
      ],
      "execution_count": 7,
      "outputs": [
        {
          "output_type": "stream",
          "text": [
            "100%|██████████████████████████| 7920/7920 [00:00<00:00, 17227.27it/s]\n"
          ],
          "name": "stderr"
        },
        {
          "output_type": "execute_result",
          "data": {
            "text/html": [
              "<div>\n",
              "<style scoped>\n",
              "    .dataframe tbody tr th:only-of-type {\n",
              "        vertical-align: middle;\n",
              "    }\n",
              "\n",
              "    .dataframe tbody tr th {\n",
              "        vertical-align: top;\n",
              "    }\n",
              "\n",
              "    .dataframe thead th {\n",
              "        text-align: right;\n",
              "    }\n",
              "</style>\n",
              "<table border=\"1\" class=\"dataframe\">\n",
              "  <thead>\n",
              "    <tr style=\"text-align: right;\">\n",
              "      <th></th>\n",
              "      <th>label</th>\n",
              "      <th>text</th>\n",
              "    </tr>\n",
              "  </thead>\n",
              "  <tbody>\n",
              "    <tr>\n",
              "      <th>0</th>\n",
              "      <td>0</td>\n",
              "      <td>fingerprint pregnancy test httpsgooglhmfqv and...</td>\n",
              "    </tr>\n",
              "    <tr>\n",
              "      <th>1</th>\n",
              "      <td>0</td>\n",
              "      <td>finally a transparant silicon case thanks to m...</td>\n",
              "    </tr>\n",
              "    <tr>\n",
              "      <th>2</th>\n",
              "      <td>0</td>\n",
              "      <td>we love this would you go talk makememories un...</td>\n",
              "    </tr>\n",
              "    <tr>\n",
              "      <th>3</th>\n",
              "      <td>0</td>\n",
              "      <td>im wired i know im george i was made that way ...</td>\n",
              "    </tr>\n",
              "    <tr>\n",
              "      <th>4</th>\n",
              "      <td>1</td>\n",
              "      <td>what amazing service apple wont even talk to m...</td>\n",
              "    </tr>\n",
              "  </tbody>\n",
              "</table>\n",
              "</div>"
            ],
            "text/plain": [
              "   label                                               text\n",
              "0      0  fingerprint pregnancy test httpsgooglhmfqv and...\n",
              "1      0  finally a transparant silicon case thanks to m...\n",
              "2      0  we love this would you go talk makememories un...\n",
              "3      0  im wired i know im george i was made that way ...\n",
              "4      1  what amazing service apple wont even talk to m..."
            ]
          },
          "metadata": {
            "tags": []
          },
          "execution_count": 7
        }
      ]
    },
    {
      "cell_type": "code",
      "metadata": {
        "id": "VO1F7fD2Er5V",
        "colab_type": "code",
        "outputId": "39ab7971-4c5f-448a-b3e4-6179ffa694d3",
        "colab": {
          "base_uri": "https://localhost:8080/",
          "height": 212
        }
      },
      "source": [
        "test_tweets = tweet_preprocessing(data_test)\n",
        "test_df = pd.DataFrame({'text':test_tweets})\n",
        "# test_tweets[-5:]\n",
        "test_df.tail()"
      ],
      "execution_count": 8,
      "outputs": [
        {
          "output_type": "stream",
          "text": [
            "100%|██████████████████████████| 1953/1953 [00:00<00:00, 13846.05it/s]\n"
          ],
          "name": "stderr"
        },
        {
          "output_type": "execute_result",
          "data": {
            "text/html": [
              "<div>\n",
              "<style scoped>\n",
              "    .dataframe tbody tr th:only-of-type {\n",
              "        vertical-align: middle;\n",
              "    }\n",
              "\n",
              "    .dataframe tbody tr th {\n",
              "        vertical-align: top;\n",
              "    }\n",
              "\n",
              "    .dataframe thead th {\n",
              "        text-align: right;\n",
              "    }\n",
              "</style>\n",
              "<table border=\"1\" class=\"dataframe\">\n",
              "  <thead>\n",
              "    <tr style=\"text-align: right;\">\n",
              "      <th></th>\n",
              "      <th>text</th>\n",
              "    </tr>\n",
              "  </thead>\n",
              "  <tbody>\n",
              "    <tr>\n",
              "      <th>1948</th>\n",
              "      <td>samsunggalaxynote explodes burns yearold thank...</td>\n",
              "    </tr>\n",
              "    <tr>\n",
              "      <th>1949</th>\n",
              "      <td>now available hoodie check it out here httpzet...</td>\n",
              "    </tr>\n",
              "    <tr>\n",
              "      <th>1950</th>\n",
              "      <td>there goes a crack right across the screen if ...</td>\n",
              "    </tr>\n",
              "    <tr>\n",
              "      <th>1951</th>\n",
              "      <td>codeofinterest as i said adobe big time we may...</td>\n",
              "    </tr>\n",
              "    <tr>\n",
              "      <th>1952</th>\n",
              "      <td>finally i got it thanx my father samsung galax...</td>\n",
              "    </tr>\n",
              "  </tbody>\n",
              "</table>\n",
              "</div>"
            ],
            "text/plain": [
              "                                                   text\n",
              "1948  samsunggalaxynote explodes burns yearold thank...\n",
              "1949  now available hoodie check it out here httpzet...\n",
              "1950  there goes a crack right across the screen if ...\n",
              "1951  codeofinterest as i said adobe big time we may...\n",
              "1952  finally i got it thanx my father samsung galax..."
            ]
          },
          "metadata": {
            "tags": []
          },
          "execution_count": 8
        }
      ]
    },
    {
      "cell_type": "code",
      "metadata": {
        "id": "5gCVmzEZEsAi",
        "colab_type": "code",
        "outputId": "74d00535-772b-4880-dd23-e5bbb76cd211",
        "colab": {
          "base_uri": "https://localhost:8080/",
          "height": 34
        }
      },
      "source": [
        "len(train_tweets), len(test_tweets)"
      ],
      "execution_count": 9,
      "outputs": [
        {
          "output_type": "execute_result",
          "data": {
            "text/plain": [
              "(7920, 1953)"
            ]
          },
          "metadata": {
            "tags": []
          },
          "execution_count": 9
        }
      ]
    },
    {
      "cell_type": "code",
      "metadata": {
        "id": "bXJn_lERKiC2",
        "colab_type": "code",
        "outputId": "95d84d80-e659-466a-82cd-236a5590d357",
        "colab": {
          "base_uri": "https://localhost:8080/",
          "height": 212
        }
      },
      "source": [
        "dummy_df = train_tweets.copy()\n",
        "dummy_df.extend(test_tweets.copy())\n",
        "dummy_df = pd.DataFrame(dummy_df, columns=['text'])\n",
        "dummy_df['label'] = 0\n",
        "\n",
        "print(dummy_df.shape)\n",
        "dummy_df.head()"
      ],
      "execution_count": 10,
      "outputs": [
        {
          "output_type": "stream",
          "text": [
            "(9873, 2)\n"
          ],
          "name": "stdout"
        },
        {
          "output_type": "execute_result",
          "data": {
            "text/html": [
              "<div>\n",
              "<style scoped>\n",
              "    .dataframe tbody tr th:only-of-type {\n",
              "        vertical-align: middle;\n",
              "    }\n",
              "\n",
              "    .dataframe tbody tr th {\n",
              "        vertical-align: top;\n",
              "    }\n",
              "\n",
              "    .dataframe thead th {\n",
              "        text-align: right;\n",
              "    }\n",
              "</style>\n",
              "<table border=\"1\" class=\"dataframe\">\n",
              "  <thead>\n",
              "    <tr style=\"text-align: right;\">\n",
              "      <th></th>\n",
              "      <th>text</th>\n",
              "      <th>label</th>\n",
              "    </tr>\n",
              "  </thead>\n",
              "  <tbody>\n",
              "    <tr>\n",
              "      <th>0</th>\n",
              "      <td>fingerprint pregnancy test httpsgooglhmfqv and...</td>\n",
              "      <td>0</td>\n",
              "    </tr>\n",
              "    <tr>\n",
              "      <th>1</th>\n",
              "      <td>finally a transparant silicon case thanks to m...</td>\n",
              "      <td>0</td>\n",
              "    </tr>\n",
              "    <tr>\n",
              "      <th>2</th>\n",
              "      <td>we love this would you go talk makememories un...</td>\n",
              "      <td>0</td>\n",
              "    </tr>\n",
              "    <tr>\n",
              "      <th>3</th>\n",
              "      <td>im wired i know im george i was made that way ...</td>\n",
              "      <td>0</td>\n",
              "    </tr>\n",
              "    <tr>\n",
              "      <th>4</th>\n",
              "      <td>what amazing service apple wont even talk to m...</td>\n",
              "      <td>0</td>\n",
              "    </tr>\n",
              "  </tbody>\n",
              "</table>\n",
              "</div>"
            ],
            "text/plain": [
              "                                                text  label\n",
              "0  fingerprint pregnancy test httpsgooglhmfqv and...      0\n",
              "1  finally a transparant silicon case thanks to m...      0\n",
              "2  we love this would you go talk makememories un...      0\n",
              "3  im wired i know im george i was made that way ...      0\n",
              "4  what amazing service apple wont even talk to m...      0"
            ]
          },
          "metadata": {
            "tags": []
          },
          "execution_count": 10
        }
      ]
    },
    {
      "cell_type": "code",
      "metadata": {
        "id": "YRqLK6X3EsFV",
        "colab_type": "code",
        "colab": {}
      },
      "source": [
        "# def predict_fastai(df, df_test, drop=0.2):\n",
        "#     '''\n",
        "#     'df' -> This is the entire Training dataset.\n",
        "#     '''\n",
        "#     df_train, df_valid = train_test_split(df, stratify=df['label'], train_size=0.8, random_state=42)\n",
        "#     print(df_train.shape, df_valid.shape)\n",
        "    \n",
        "#     # Language model data -> Build the LM on the entire tweet dataset using df_valid (skimmed off from Train data) as the validation set.\n",
        "#     data_lm = TextLMDataBunch.from_df(path=\"\", train_df=dummy_df, valid_df=df_valid)\n",
        "\n",
        "#     # Classifier model data\n",
        "#     data_class = TextClasDataBunch.from_df(path=\"\", train_df=df_train, valid_df=df_valid, test_df=df_test, vocab=data_lm.train_ds.vocab, bs=32)\n",
        "\n",
        "#     # Create a `Learner` with a language model\n",
        "#     learn = language_model_learner(data=data_lm, arch=AWD_LSTM, drop_mult=drop)\n",
        "\n",
        "#     # train the learner object with learning rate = 1e-2\n",
        "#     learn.fit_one_cycle(1, 1e-2)\n",
        "\n",
        "#     # Save Learned encoder\n",
        "#     learn.save_encoder('ft_enc')\n",
        "\n",
        "#     # Create a `Learner` with a text classifier\n",
        "#     learn = text_classifier_learner(data=data_class, arch=AWD_LSTM, drop_mult=drop)\n",
        "#     learn.load_encoder('ft_enc')\n",
        "\n",
        "#     # Fit a model following the 1cycle policy\n",
        "#     learn.fit_one_cycle(1, 1e-2)\n",
        "\n",
        "#     # get predictions\n",
        "#     preds, targets = learn.get_preds(is_test=True)\n",
        "#     predictions = np.argmax(preds, axis = 1)\n",
        "\n",
        "#     print(pd.crosstab(predictions, targets))\n",
        "#     print()\n",
        "#     print(f'F1 Score: {f1_score(targets, predictions)}')\n",
        "    \n",
        "#     return (preds.tolist(), predictions.tolist(), targets.tolist())"
      ],
      "execution_count": 0,
      "outputs": []
    },
    {
      "cell_type": "code",
      "metadata": {
        "id": "vJliER5glb-O",
        "colab_type": "code",
        "colab": {
          "base_uri": "https://localhost:8080/",
          "height": 34
        },
        "outputId": "11f97293-e174-438c-a00c-80d596cdbbd4"
      },
      "source": [
        "from keras.preprocessing.text import Tokenizer\n",
        "from keras.preprocessing.sequence import pad_sequences\n",
        "from keras.models import Sequential\n",
        "from keras.layers import Embedding, Dense, Dropout, LSTM, GRU\n",
        "from keras.initializers import Constant\n",
        "from keras import backend as K\n",
        "import keras"
      ],
      "execution_count": 11,
      "outputs": [
        {
          "output_type": "stream",
          "text": [
            "Using TensorFlow backend.\n"
          ],
          "name": "stderr"
        }
      ]
    },
    {
      "cell_type": "code",
      "metadata": {
        "id": "FIrPTUH3EsH6",
        "colab_type": "code",
        "colab": {}
      },
      "source": [
        "def model_lstm_embedding(df, df_train, df_test, EMBEDDING_DIM=100):\n",
        "    X_train = df_train['text']\n",
        "    y_train = df_train['label']\n",
        "    X_test = df_test['text']\n",
        "    \n",
        "    # Create a Tokenizer object and fit it on the entire dataset (Train + Test)\n",
        "    # This will contain the vocab space of the dataset\n",
        "    tokenizer = Tokenizer()\n",
        "    total_tweets = df.text\n",
        "    tokenizer.fit_on_texts(total_tweets)\n",
        "\n",
        "    # Calculate Max Seq Length to pad sequences\n",
        "    max_seq_len = max([len(s.split()) for s in total_tweets])\n",
        "\n",
        "    # Define Vocab size\n",
        "    vocab_size = len(tokenizer.word_index) + 1\n",
        "\n",
        "    # Create the sequence of Indices from Text\n",
        "    X_train_tokens = tokenizer.texts_to_sequences(X_train)\n",
        "    X_test_tokens = tokenizer.texts_to_sequences(X_test)\n",
        "\n",
        "    # Pad the sequences to make the length equal to max_seq_len\n",
        "    X_train_pad = pad_sequences(X_train_tokens, maxlen=max_seq_len, padding='post')\n",
        "    X_test_pad = pad_sequences(X_test_tokens, maxlen=max_seq_len, padding='post')\n",
        "\n",
        "    # Embedding Layer --> Turns positive integers (indexes) into dense vectors of fixed size.\n",
        "    model = Sequential()\n",
        "    model.add(Embedding(vocab_size, EMBEDDING_DIM, input_length=max_seq_len))\n",
        "    model.add(LSTM(units=32, dropout=0.2, recurrent_dropout=0.2))\n",
        "    model.add(Dense(1, activation='relu'))\n",
        "\n",
        "    model.compile(loss='binary_crossentropy', optimizer='adam', metrics=['accuracy'])\n",
        "    model.summary()\n",
        "\n",
        "    history = model.fit(X_train_pad, y_train, batch_size=128, epochs=25, validation_split=0.3, verbose=1)\n",
        "    \n",
        "    # Predict on the Train dataset\n",
        "    train_lstm_preds = model.predict(X_train_pad)\n",
        "    train_lstm_predictions = train_lstm_preds > 0.5\n",
        "    \n",
        "    # Predict on the Test dataset\n",
        "    lstm_preds = model.predict(X_test_pad)\n",
        "    lstm_predictions = lstm_preds > 0.5\n",
        "\n",
        "    return (train_lstm_preds, train_lstm_predictions, lstm_preds, lstm_predictions)\n",
        "\n",
        "def model_lstm_w2v(df, df_train, df_test, EMBEDDING_DIM=100):\n",
        "    X_train = df_train['text']\n",
        "    y_train = df_train['label']\n",
        "    X_test = df_test['text']\n",
        "    \n",
        "    all_tweets = df.text.progress_apply(lambda x: x.split())\n",
        "    \n",
        "    # Create a Tokenizer object and fit it on the entire dataset (Train + Test)\n",
        "    # This will contain the vocab space of the dataset\n",
        "    tokenizer = Tokenizer()\n",
        "    total_tweets = df.text\n",
        "    tokenizer.fit_on_texts(total_tweets)\n",
        "\n",
        "    # Calculate Max Seq Length to pad sequences\n",
        "    max_seq_len = max([len(s.split()) for s in total_tweets])\n",
        "\n",
        "    # Define Vocab size\n",
        "    vocab_size = len(tokenizer.word_index) + 1\n",
        "    \n",
        "    # Create the sequence of Indices from Text\n",
        "    X_train_tokens = tokenizer.texts_to_sequences(X_train)\n",
        "    X_test_tokens = tokenizer.texts_to_sequences(X_test)\n",
        "\n",
        "    # Pad the sequences to make the length equal to max_seq_len\n",
        "    X_train_pad = pad_sequences(X_train_tokens, maxlen=max_seq_len, padding='post')\n",
        "    X_test_pad = pad_sequences(X_test_tokens, maxlen=max_seq_len, padding='post')\n",
        "    \n",
        "    # Train Word2Vec Model on the entire Tweet dataset - Train + Test\n",
        "    model_w2v = gensim.models.Word2Vec(sentences=all_tweets, size=EMBEDDING_DIM, window=5, workers=4, min_count=1)\n",
        "\n",
        "    # Vocab list\n",
        "    words = list(model_w2v.wv.vocab)\n",
        "\n",
        "    # Build Embedding Matrix\n",
        "    embedding_matrix = np.zeros((vocab_size, EMBEDDING_DIM))\n",
        "    for word, i in tokenizer.word_index.items():\n",
        "        if i > vocab_size:\n",
        "            continue\n",
        "        try:\n",
        "            embedding_matrix[i] = model_w2v.wv[word]\n",
        "        except:\n",
        "            embedding_matrix[i] = np.zeros(EMBEDDING_DIM)\n",
        "\n",
        "    # Embedding Layer --> Turns positive integers (indexes) into dense vectors of fixed size.\n",
        "    model = Sequential()\n",
        "    model.add(Embedding(vocab_size, EMBEDDING_DIM, embeddings_initializer=Constant(embedding_matrix), input_length=max_seq_len, trainable=False))\n",
        "    model.add(LSTM(units=32, dropout=0.4, recurrent_dropout=0.4, return_sequences=True))\n",
        "    model.add(LSTM(units=16, dropout=0.4, recurrent_dropout=0.4))\n",
        "    model.add(Dense(1, activation='relu'))\n",
        "\n",
        "    model.compile(loss='binary_crossentropy', optimizer='adam', metrics=['accuracy'])\n",
        "    model.summary()\n",
        "\n",
        "    history = model.fit(X_train_pad, y_train, batch_size=128, epochs=25, validation_split=0.3, verbose=1)\n",
        "\n",
        "    # Predict on the Train dataset\n",
        "    train_w2v_preds = model.predict(X_train_pad)\n",
        "    train_w2v_predictions = train_w2v_preds > 0.6\n",
        "    \n",
        "    # Predict on the Test dataset\n",
        "    w2v_preds = model.predict(X_test_pad)\n",
        "    w2v_predictions = w2v_preds > 0.6\n",
        "    \n",
        "#     print(len(X_test), len(X_test_tokens), len(X_test_pad), len(w2v_preds))\n",
        "\n",
        "    return (train_w2v_preds, train_w2v_predictions, w2v_preds, w2v_predictions)"
      ],
      "execution_count": 0,
      "outputs": []
    },
    {
      "cell_type": "code",
      "metadata": {
        "id": "L5fPxGYoEsNL",
        "colab_type": "code",
        "outputId": "40be311a-1347-4b67-b7e9-e806cba3533d",
        "colab": {
          "base_uri": "https://localhost:8080/",
          "height": 1000
        }
      },
      "source": [
        "(train_lstm_preds, _, lstm_preds, _) = model_lstm_embedding(dummy_df, train_df, test_df)"
      ],
      "execution_count": 13,
      "outputs": [
        {
          "output_type": "stream",
          "text": [
            "WARNING: Logging before flag parsing goes to stderr.\n",
            "W0717 17:18:42.984208 139642573145984 deprecation_wrapper.py:119] From /usr/local/lib/python3.6/dist-packages/keras/backend/tensorflow_backend.py:74: The name tf.get_default_graph is deprecated. Please use tf.compat.v1.get_default_graph instead.\n",
            "\n",
            "W0717 17:18:43.007652 139642573145984 deprecation_wrapper.py:119] From /usr/local/lib/python3.6/dist-packages/keras/backend/tensorflow_backend.py:517: The name tf.placeholder is deprecated. Please use tf.compat.v1.placeholder instead.\n",
            "\n",
            "W0717 17:18:43.012924 139642573145984 deprecation_wrapper.py:119] From /usr/local/lib/python3.6/dist-packages/keras/backend/tensorflow_backend.py:4138: The name tf.random_uniform is deprecated. Please use tf.random.uniform instead.\n",
            "\n",
            "W0717 17:18:43.102042 139642573145984 deprecation_wrapper.py:119] From /usr/local/lib/python3.6/dist-packages/keras/backend/tensorflow_backend.py:133: The name tf.placeholder_with_default is deprecated. Please use tf.compat.v1.placeholder_with_default instead.\n",
            "\n",
            "W0717 17:18:43.115939 139642573145984 deprecation.py:506] From /usr/local/lib/python3.6/dist-packages/keras/backend/tensorflow_backend.py:3445: calling dropout (from tensorflow.python.ops.nn_ops) with keep_prob is deprecated and will be removed in a future version.\n",
            "Instructions for updating:\n",
            "Please use `rate` instead of `keep_prob`. Rate should be set to `rate = 1 - keep_prob`.\n",
            "W0717 17:18:43.663982 139642573145984 deprecation_wrapper.py:119] From /usr/local/lib/python3.6/dist-packages/keras/optimizers.py:790: The name tf.train.Optimizer is deprecated. Please use tf.compat.v1.train.Optimizer instead.\n",
            "\n",
            "W0717 17:18:43.694718 139642573145984 deprecation_wrapper.py:119] From /usr/local/lib/python3.6/dist-packages/keras/backend/tensorflow_backend.py:3376: The name tf.log is deprecated. Please use tf.math.log instead.\n",
            "\n",
            "W0717 17:18:43.702404 139642573145984 deprecation.py:323] From /usr/local/lib/python3.6/dist-packages/tensorflow/python/ops/nn_impl.py:180: add_dispatch_support.<locals>.wrapper (from tensorflow.python.ops.array_ops) is deprecated and will be removed in a future version.\n",
            "Instructions for updating:\n",
            "Use tf.where in 2.0, which has the same broadcast rule as np.where\n"
          ],
          "name": "stderr"
        },
        {
          "output_type": "stream",
          "text": [
            "_________________________________________________________________\n",
            "Layer (type)                 Output Shape              Param #   \n",
            "=================================================================\n",
            "embedding_1 (Embedding)      (None, 52, 100)           2528200   \n",
            "_________________________________________________________________\n",
            "lstm_1 (LSTM)                (None, 32)                17024     \n",
            "_________________________________________________________________\n",
            "dense_1 (Dense)              (None, 1)                 33        \n",
            "=================================================================\n",
            "Total params: 2,545,257\n",
            "Trainable params: 2,545,257\n",
            "Non-trainable params: 0\n",
            "_________________________________________________________________\n",
            "Train on 5544 samples, validate on 2376 samples\n",
            "Epoch 1/25\n",
            "5544/5544 [==============================] - 7s 1ms/step - loss: 0.5845 - acc: 0.7451 - val_loss: 0.5713 - val_acc: 0.7420\n",
            "Epoch 2/25\n",
            "5544/5544 [==============================] - 6s 1ms/step - loss: 0.5684 - acc: 0.7451 - val_loss: 0.5729 - val_acc: 0.7420\n",
            "Epoch 3/25\n",
            "5544/5544 [==============================] - 6s 1ms/step - loss: 0.5698 - acc: 0.7451 - val_loss: 0.5710 - val_acc: 0.7420\n",
            "Epoch 4/25\n",
            "5544/5544 [==============================] - 6s 1ms/step - loss: 0.5379 - acc: 0.7558 - val_loss: 0.5982 - val_acc: 0.8590\n",
            "Epoch 5/25\n",
            "5544/5544 [==============================] - 6s 1ms/step - loss: 0.5345 - acc: 0.8158 - val_loss: 0.7198 - val_acc: 0.8649\n",
            "Epoch 6/25\n",
            "5544/5544 [==============================] - 6s 1ms/step - loss: 0.5986 - acc: 0.8984 - val_loss: 0.8137 - val_acc: 0.8683\n",
            "Epoch 7/25\n",
            "5544/5544 [==============================] - 6s 1ms/step - loss: 0.5874 - acc: 0.9109 - val_loss: 1.0779 - val_acc: 0.8737\n",
            "Epoch 8/25\n",
            "5544/5544 [==============================] - 6s 1ms/step - loss: 0.5414 - acc: 0.8878 - val_loss: 0.5017 - val_acc: 0.8460\n",
            "Epoch 9/25\n",
            "5544/5544 [==============================] - 6s 1ms/step - loss: 0.4595 - acc: 0.9085 - val_loss: 0.9931 - val_acc: 0.8767\n",
            "Epoch 10/25\n",
            "5544/5544 [==============================] - 6s 1ms/step - loss: 0.8836 - acc: 0.9192 - val_loss: 1.8162 - val_acc: 0.8506\n",
            "Epoch 11/25\n",
            "5544/5544 [==============================] - 6s 1ms/step - loss: 1.0290 - acc: 0.9136 - val_loss: 1.2587 - val_acc: 0.8712\n",
            "Epoch 12/25\n",
            "5544/5544 [==============================] - 6s 1ms/step - loss: 0.6965 - acc: 0.9302 - val_loss: 1.1480 - val_acc: 0.8725\n",
            "Epoch 13/25\n",
            "5544/5544 [==============================] - 6s 1ms/step - loss: 0.6707 - acc: 0.9309 - val_loss: 1.1691 - val_acc: 0.8742\n",
            "Epoch 14/25\n",
            "5544/5544 [==============================] - 6s 1ms/step - loss: 0.6560 - acc: 0.9345 - val_loss: 1.2318 - val_acc: 0.8721\n",
            "Epoch 15/25\n",
            "5544/5544 [==============================] - 6s 1ms/step - loss: 0.6397 - acc: 0.9403 - val_loss: 1.3287 - val_acc: 0.8678\n",
            "Epoch 16/25\n",
            "5544/5544 [==============================] - 6s 1ms/step - loss: 0.6979 - acc: 0.9380 - val_loss: 1.5910 - val_acc: 0.8582\n",
            "Epoch 17/25\n",
            "5544/5544 [==============================] - 6s 1ms/step - loss: 0.8092 - acc: 0.8577 - val_loss: 1.2048 - val_acc: 0.7420\n",
            "Epoch 18/25\n",
            "5544/5544 [==============================] - 6s 1ms/step - loss: 0.5221 - acc: 0.9176 - val_loss: 1.0579 - val_acc: 0.8750\n",
            "Epoch 19/25\n",
            "5544/5544 [==============================] - 6s 1ms/step - loss: 0.4556 - acc: 0.9441 - val_loss: 0.9295 - val_acc: 0.8712\n",
            "Epoch 20/25\n",
            "5544/5544 [==============================] - 6s 1ms/step - loss: 0.3652 - acc: 0.9473 - val_loss: 1.0108 - val_acc: 0.8729\n",
            "Epoch 21/25\n",
            "5544/5544 [==============================] - 6s 1ms/step - loss: 0.4261 - acc: 0.9508 - val_loss: 0.8755 - val_acc: 0.8662\n",
            "Epoch 22/25\n",
            "5544/5544 [==============================] - 6s 1ms/step - loss: 0.3914 - acc: 0.9545 - val_loss: 1.2151 - val_acc: 0.8674\n",
            "Epoch 23/25\n",
            "5544/5544 [==============================] - 6s 1ms/step - loss: 0.4183 - acc: 0.9612 - val_loss: 1.3404 - val_acc: 0.8670\n",
            "Epoch 24/25\n",
            "5544/5544 [==============================] - 6s 1ms/step - loss: 0.4664 - acc: 0.9619 - val_loss: 1.4332 - val_acc: 0.8645\n",
            "Epoch 25/25\n",
            "5544/5544 [==============================] - 6s 1ms/step - loss: 0.4243 - acc: 0.9632 - val_loss: 1.2264 - val_acc: 0.8653\n"
          ],
          "name": "stdout"
        }
      ]
    },
    {
      "cell_type": "code",
      "metadata": {
        "id": "OUYt7BouEsQC",
        "colab_type": "code",
        "outputId": "a8766ede-9704-4a20-c182-5b8d0d994fbb",
        "colab": {
          "base_uri": "https://localhost:8080/",
          "height": 1000
        }
      },
      "source": [
        "(train_w2v_preds, _, w2v_preds, _) = model_lstm_w2v(dummy_df, train_df, test_df)"
      ],
      "execution_count": 14,
      "outputs": [
        {
          "output_type": "stream",
          "text": [
            "100%|█████████████████████████| 9873/9873 [00:00<00:00, 203666.87it/s]\n"
          ],
          "name": "stderr"
        },
        {
          "output_type": "stream",
          "text": [
            "_________________________________________________________________\n",
            "Layer (type)                 Output Shape              Param #   \n",
            "=================================================================\n",
            "embedding_2 (Embedding)      (None, 52, 100)           2528200   \n",
            "_________________________________________________________________\n",
            "lstm_2 (LSTM)                (None, 52, 32)            17024     \n",
            "_________________________________________________________________\n",
            "lstm_3 (LSTM)                (None, 16)                3136      \n",
            "_________________________________________________________________\n",
            "dense_2 (Dense)              (None, 1)                 17        \n",
            "=================================================================\n",
            "Total params: 2,548,377\n",
            "Trainable params: 20,177\n",
            "Non-trainable params: 2,528,200\n",
            "_________________________________________________________________\n",
            "Train on 5544 samples, validate on 2376 samples\n",
            "Epoch 1/25\n",
            "5544/5544 [==============================] - 9s 2ms/step - loss: 0.7790 - acc: 0.7451 - val_loss: 0.6078 - val_acc: 0.7420\n",
            "Epoch 2/25\n",
            "5544/5544 [==============================] - 6s 1ms/step - loss: 0.5997 - acc: 0.7412 - val_loss: 0.5704 - val_acc: 0.7424\n",
            "Epoch 3/25\n",
            "5544/5544 [==============================] - 6s 1ms/step - loss: 0.5966 - acc: 0.7404 - val_loss: 0.5668 - val_acc: 0.7428\n",
            "Epoch 4/25\n",
            "5544/5544 [==============================] - 6s 1ms/step - loss: 0.5818 - acc: 0.7412 - val_loss: 0.5569 - val_acc: 0.7424\n",
            "Epoch 5/25\n",
            "5544/5544 [==============================] - 6s 1ms/step - loss: 0.5690 - acc: 0.7442 - val_loss: 0.5278 - val_acc: 0.7441\n",
            "Epoch 6/25\n",
            "5544/5544 [==============================] - 6s 1ms/step - loss: 0.5644 - acc: 0.7532 - val_loss: 0.5166 - val_acc: 0.7428\n",
            "Epoch 7/25\n",
            "5544/5544 [==============================] - 6s 1ms/step - loss: 0.5299 - acc: 0.7619 - val_loss: 0.4524 - val_acc: 0.7555\n",
            "Epoch 8/25\n",
            "5544/5544 [==============================] - 6s 1ms/step - loss: 0.5570 - acc: 0.7505 - val_loss: 0.5255 - val_acc: 0.7416\n",
            "Epoch 9/25\n",
            "5544/5544 [==============================] - 6s 1ms/step - loss: 0.5097 - acc: 0.7558 - val_loss: 0.4683 - val_acc: 0.7559\n",
            "Epoch 10/25\n",
            "5544/5544 [==============================] - 6s 1ms/step - loss: 0.4856 - acc: 0.7650 - val_loss: 0.4281 - val_acc: 0.7597\n",
            "Epoch 11/25\n",
            "5544/5544 [==============================] - 6s 1ms/step - loss: 0.4820 - acc: 0.7760 - val_loss: 0.4035 - val_acc: 0.7811\n",
            "Epoch 12/25\n",
            "5544/5544 [==============================] - 6s 1ms/step - loss: 0.4746 - acc: 0.7729 - val_loss: 0.3934 - val_acc: 0.7908\n",
            "Epoch 13/25\n",
            "5544/5544 [==============================] - 6s 1ms/step - loss: 0.4722 - acc: 0.7904 - val_loss: 0.3619 - val_acc: 0.8249\n",
            "Epoch 14/25\n",
            "5544/5544 [==============================] - 6s 1ms/step - loss: 0.4462 - acc: 0.7940 - val_loss: 0.3419 - val_acc: 0.8443\n",
            "Epoch 15/25\n",
            "5544/5544 [==============================] - 6s 1ms/step - loss: 0.4301 - acc: 0.7989 - val_loss: 0.3763 - val_acc: 0.8384\n",
            "Epoch 16/25\n",
            "5544/5544 [==============================] - 6s 1ms/step - loss: 0.4468 - acc: 0.8007 - val_loss: 0.3409 - val_acc: 0.8426\n",
            "Epoch 17/25\n",
            "5544/5544 [==============================] - 6s 1ms/step - loss: 0.5018 - acc: 0.7677 - val_loss: 0.4735 - val_acc: 0.7420\n",
            "Epoch 18/25\n",
            "5544/5544 [==============================] - 6s 1ms/step - loss: 0.4727 - acc: 0.7574 - val_loss: 0.4072 - val_acc: 0.7685\n",
            "Epoch 19/25\n",
            "5544/5544 [==============================] - 6s 1ms/step - loss: 0.4639 - acc: 0.7819 - val_loss: 0.3537 - val_acc: 0.8472\n",
            "Epoch 20/25\n",
            "5544/5544 [==============================] - 6s 1ms/step - loss: 0.4541 - acc: 0.7920 - val_loss: 0.3532 - val_acc: 0.8283\n",
            "Epoch 21/25\n",
            "5544/5544 [==============================] - 6s 1ms/step - loss: 0.4246 - acc: 0.7918 - val_loss: 0.3482 - val_acc: 0.8426\n",
            "Epoch 22/25\n",
            "5544/5544 [==============================] - 6s 1ms/step - loss: 0.4533 - acc: 0.8032 - val_loss: 0.3478 - val_acc: 0.8338\n",
            "Epoch 23/25\n",
            "5544/5544 [==============================] - 6s 1ms/step - loss: 0.4182 - acc: 0.8079 - val_loss: 0.3464 - val_acc: 0.8409\n",
            "Epoch 24/25\n",
            "5544/5544 [==============================] - 6s 1ms/step - loss: 0.3986 - acc: 0.8039 - val_loss: 0.3602 - val_acc: 0.8186\n",
            "Epoch 25/25\n",
            "5544/5544 [==============================] - 6s 1ms/step - loss: 0.3965 - acc: 0.8126 - val_loss: 0.3413 - val_acc: 0.8258\n"
          ],
          "name": "stdout"
        }
      ]
    },
    {
      "cell_type": "code",
      "metadata": {
        "id": "qzZiatV80DGb",
        "colab_type": "code",
        "outputId": "1020c03c-7c98-4956-e23b-2ef4155ff7c9",
        "colab": {
          "base_uri": "https://localhost:8080/",
          "height": 34
        }
      },
      "source": [
        "# train_lstm_preds[:5]\n",
        "# final_x_train\n",
        "lstm_preds.shape, w2v_preds.shape"
      ],
      "execution_count": 0,
      "outputs": [
        {
          "output_type": "execute_result",
          "data": {
            "text/plain": [
              "((1953, 1), (1953, 1))"
            ]
          },
          "metadata": {
            "tags": []
          },
          "execution_count": 162
        }
      ]
    },
    {
      "cell_type": "code",
      "metadata": {
        "id": "92AlOhgXEsUq",
        "colab_type": "code",
        "outputId": "fc3f49f0-a579-4a5b-d7bd-74010227dbe2",
        "colab": {
          "base_uri": "https://localhost:8080/",
          "height": 1000
        }
      },
      "source": [
        "tr_lstm = [x[0] for x in train_lstm_preds]\n",
        "tr_w2v = [x[0] for x in train_w2v_preds]\n",
        "final_x_train = np.vstack((tr_lstm, tr_w2v)).T\n",
        "\n",
        "print(f'Final Train Shape: {final_x_train.shape}')\n",
        "\n",
        "# final_x_train = pd.DataFrame(tr_final, columns=['LSTM Pred', 'W2V Pred'])\n",
        "final_y_train = data_train['label'].values\n",
        "\n",
        "# final_split = train_df.shape[0]\n",
        "# final_x_train = final.iloc[:final_split, :-1]\n",
        "# final_x_test = final.iloc[final_split:, :-1]\n",
        "\n",
        "# final_y_train = train_df.label\n",
        "\n",
        "# Build Meta Classifier\n",
        "final_model = Sequential()\n",
        "final_model.add(Dense(256, activation='relu', input_dim=2))\n",
        "final_model.add(Dense(1, activation='relu'))\n",
        "\n",
        "final_model.compile(loss='binary_crossentropy', optimizer='adam', metrics=['accuracy'])\n",
        "final_model.summary()\n",
        "\n",
        "history = final_model.fit(final_x_train, final_y_train, batch_size=128, epochs=50, validation_split=0.2, verbose=1)\n",
        "\n",
        "t_lstm = [x[0] for x in lstm_preds]\n",
        "t_w2v = [x[0] for x in w2v_preds]\n",
        "final_x_test = np.vstack((t_lstm, t_w2v)).T\n",
        "\n",
        "print(f'Final Test Shape: {final_x_test.shape}')\n",
        "\n",
        "final_preds = final_model.predict(final_x_test)\n",
        "final_preds = np.array([i[0] for i in final_preds])\n",
        "final_predictions = final_preds > 0.5"
      ],
      "execution_count": 0,
      "outputs": [
        {
          "output_type": "stream",
          "text": [
            "Final Train Shape: (7920, 2)\n",
            "_________________________________________________________________\n",
            "Layer (type)                 Output Shape              Param #   \n",
            "=================================================================\n",
            "dense_41 (Dense)             (None, 256)               768       \n",
            "_________________________________________________________________\n",
            "dense_42 (Dense)             (None, 1)                 257       \n",
            "=================================================================\n",
            "Total params: 1,025\n",
            "Trainable params: 1,025\n",
            "Non-trainable params: 0\n",
            "_________________________________________________________________\n",
            "Train on 6336 samples, validate on 1584 samples\n",
            "Epoch 1/50\n",
            "6336/6336 [==============================] - 8s 1ms/step - loss: 0.4244 - acc: 0.7790 - val_loss: 0.3486 - val_acc: 0.8510\n",
            "Epoch 2/50\n",
            "6336/6336 [==============================] - 0s 17us/step - loss: 0.3361 - acc: 0.8496 - val_loss: 0.3119 - val_acc: 0.8497\n",
            "Epoch 3/50\n",
            "6336/6336 [==============================] - 0s 17us/step - loss: 0.3184 - acc: 0.8523 - val_loss: 0.3093 - val_acc: 0.8485\n",
            "Epoch 4/50\n",
            "6336/6336 [==============================] - 0s 18us/step - loss: 0.3197 - acc: 0.8523 - val_loss: 0.3088 - val_acc: 0.8491\n",
            "Epoch 5/50\n",
            "6336/6336 [==============================] - 0s 18us/step - loss: 0.3183 - acc: 0.8527 - val_loss: 0.3076 - val_acc: 0.8485\n",
            "Epoch 6/50\n",
            "6336/6336 [==============================] - 0s 18us/step - loss: 0.3178 - acc: 0.8529 - val_loss: 0.3122 - val_acc: 0.8472\n",
            "Epoch 7/50\n",
            "6336/6336 [==============================] - 0s 18us/step - loss: 0.3187 - acc: 0.8529 - val_loss: 0.3077 - val_acc: 0.8529\n",
            "Epoch 8/50\n",
            "6336/6336 [==============================] - 0s 17us/step - loss: 0.3187 - acc: 0.8540 - val_loss: 0.3099 - val_acc: 0.8479\n",
            "Epoch 9/50\n",
            "6336/6336 [==============================] - 0s 18us/step - loss: 0.3181 - acc: 0.8535 - val_loss: 0.3080 - val_acc: 0.8516\n",
            "Epoch 10/50\n",
            "6336/6336 [==============================] - 0s 19us/step - loss: 0.3181 - acc: 0.8520 - val_loss: 0.3137 - val_acc: 0.8491\n",
            "Epoch 11/50\n",
            "6336/6336 [==============================] - 0s 18us/step - loss: 0.3180 - acc: 0.8526 - val_loss: 0.3074 - val_acc: 0.8491\n",
            "Epoch 12/50\n",
            "6336/6336 [==============================] - 0s 20us/step - loss: 0.3176 - acc: 0.8521 - val_loss: 0.3107 - val_acc: 0.8491\n",
            "Epoch 13/50\n",
            "6336/6336 [==============================] - 0s 18us/step - loss: 0.3170 - acc: 0.8524 - val_loss: 0.3064 - val_acc: 0.8497\n",
            "Epoch 14/50\n",
            "6336/6336 [==============================] - 0s 18us/step - loss: 0.3167 - acc: 0.8534 - val_loss: 0.3063 - val_acc: 0.8516\n",
            "Epoch 15/50\n",
            "6336/6336 [==============================] - 0s 19us/step - loss: 0.3177 - acc: 0.8529 - val_loss: 0.3068 - val_acc: 0.8529\n",
            "Epoch 16/50\n",
            "6336/6336 [==============================] - 0s 17us/step - loss: 0.3168 - acc: 0.8527 - val_loss: 0.3061 - val_acc: 0.8529\n",
            "Epoch 17/50\n",
            "6336/6336 [==============================] - 0s 18us/step - loss: 0.3168 - acc: 0.8529 - val_loss: 0.3086 - val_acc: 0.8497\n",
            "Epoch 18/50\n",
            "6336/6336 [==============================] - 0s 17us/step - loss: 0.3167 - acc: 0.8526 - val_loss: 0.3068 - val_acc: 0.8523\n",
            "Epoch 19/50\n",
            "6336/6336 [==============================] - 0s 18us/step - loss: 0.3165 - acc: 0.8524 - val_loss: 0.3061 - val_acc: 0.8497\n",
            "Epoch 20/50\n",
            "6336/6336 [==============================] - 0s 18us/step - loss: 0.3171 - acc: 0.8521 - val_loss: 0.3077 - val_acc: 0.8523\n",
            "Epoch 21/50\n",
            "6336/6336 [==============================] - 0s 18us/step - loss: 0.3169 - acc: 0.8531 - val_loss: 0.3091 - val_acc: 0.8479\n",
            "Epoch 22/50\n",
            "6336/6336 [==============================] - 0s 18us/step - loss: 0.3171 - acc: 0.8532 - val_loss: 0.3121 - val_acc: 0.8479\n",
            "Epoch 23/50\n",
            "6336/6336 [==============================] - 0s 18us/step - loss: 0.3172 - acc: 0.8532 - val_loss: 0.3090 - val_acc: 0.8472\n",
            "Epoch 24/50\n",
            "6336/6336 [==============================] - 0s 18us/step - loss: 0.3168 - acc: 0.8539 - val_loss: 0.3076 - val_acc: 0.8485\n",
            "Epoch 25/50\n",
            "6336/6336 [==============================] - 0s 18us/step - loss: 0.3166 - acc: 0.8534 - val_loss: 0.3081 - val_acc: 0.8497\n",
            "Epoch 26/50\n",
            "6336/6336 [==============================] - 0s 18us/step - loss: 0.3166 - acc: 0.8527 - val_loss: 0.3112 - val_acc: 0.8516\n",
            "Epoch 27/50\n",
            "6336/6336 [==============================] - 0s 18us/step - loss: 0.3167 - acc: 0.8532 - val_loss: 0.3073 - val_acc: 0.8523\n",
            "Epoch 28/50\n",
            "6336/6336 [==============================] - 0s 19us/step - loss: 0.3167 - acc: 0.8529 - val_loss: 0.3068 - val_acc: 0.8516\n",
            "Epoch 29/50\n",
            "6336/6336 [==============================] - 0s 18us/step - loss: 0.3163 - acc: 0.8537 - val_loss: 0.3057 - val_acc: 0.8529\n",
            "Epoch 30/50\n",
            "6336/6336 [==============================] - 0s 21us/step - loss: 0.3179 - acc: 0.8535 - val_loss: 0.3064 - val_acc: 0.8548\n",
            "Epoch 31/50\n",
            "6336/6336 [==============================] - 0s 17us/step - loss: 0.3169 - acc: 0.8553 - val_loss: 0.3065 - val_acc: 0.8529\n",
            "Epoch 32/50\n",
            "6336/6336 [==============================] - 0s 18us/step - loss: 0.3192 - acc: 0.8523 - val_loss: 0.3081 - val_acc: 0.8523\n",
            "Epoch 33/50\n",
            "6336/6336 [==============================] - 0s 20us/step - loss: 0.3168 - acc: 0.8542 - val_loss: 0.3064 - val_acc: 0.8535\n",
            "Epoch 34/50\n",
            "6336/6336 [==============================] - 0s 18us/step - loss: 0.3168 - acc: 0.8537 - val_loss: 0.3087 - val_acc: 0.8523\n",
            "Epoch 35/50\n",
            "6336/6336 [==============================] - 0s 18us/step - loss: 0.3165 - acc: 0.8532 - val_loss: 0.3077 - val_acc: 0.8523\n",
            "Epoch 36/50\n",
            "6336/6336 [==============================] - 0s 18us/step - loss: 0.3161 - acc: 0.8539 - val_loss: 0.3067 - val_acc: 0.8529\n",
            "Epoch 37/50\n",
            "6336/6336 [==============================] - 0s 18us/step - loss: 0.3160 - acc: 0.8526 - val_loss: 0.3051 - val_acc: 0.8535\n",
            "Epoch 38/50\n",
            "6336/6336 [==============================] - 0s 18us/step - loss: 0.3161 - acc: 0.8542 - val_loss: 0.3071 - val_acc: 0.8529\n",
            "Epoch 39/50\n",
            "6336/6336 [==============================] - 0s 18us/step - loss: 0.3189 - acc: 0.8531 - val_loss: 0.3038 - val_acc: 0.8516\n",
            "Epoch 40/50\n",
            "6336/6336 [==============================] - 0s 18us/step - loss: 0.3202 - acc: 0.8545 - val_loss: 0.3140 - val_acc: 0.8497\n",
            "Epoch 41/50\n",
            "6336/6336 [==============================] - 0s 18us/step - loss: 0.3174 - acc: 0.8539 - val_loss: 0.3110 - val_acc: 0.8523\n",
            "Epoch 42/50\n",
            "6336/6336 [==============================] - 0s 17us/step - loss: 0.3168 - acc: 0.8527 - val_loss: 0.3106 - val_acc: 0.8523\n",
            "Epoch 43/50\n",
            "6336/6336 [==============================] - 0s 18us/step - loss: 0.3160 - acc: 0.8529 - val_loss: 0.3053 - val_acc: 0.8523\n",
            "Epoch 44/50\n",
            "6336/6336 [==============================] - 0s 18us/step - loss: 0.3173 - acc: 0.8532 - val_loss: 0.3064 - val_acc: 0.8535\n",
            "Epoch 45/50\n",
            "6336/6336 [==============================] - 0s 18us/step - loss: 0.3165 - acc: 0.8543 - val_loss: 0.3044 - val_acc: 0.8529\n",
            "Epoch 46/50\n",
            "6336/6336 [==============================] - 0s 19us/step - loss: 0.3188 - acc: 0.8539 - val_loss: 0.3059 - val_acc: 0.8535\n",
            "Epoch 47/50\n",
            "6336/6336 [==============================] - 0s 18us/step - loss: 0.3157 - acc: 0.8527 - val_loss: 0.3069 - val_acc: 0.8523\n",
            "Epoch 48/50\n",
            "6336/6336 [==============================] - 0s 19us/step - loss: 0.3163 - acc: 0.8534 - val_loss: 0.3052 - val_acc: 0.8523\n",
            "Epoch 49/50\n",
            "6336/6336 [==============================] - 0s 18us/step - loss: 0.3187 - acc: 0.8531 - val_loss: 0.3046 - val_acc: 0.8561\n",
            "Epoch 50/50\n",
            "6336/6336 [==============================] - 0s 17us/step - loss: 0.3192 - acc: 0.8539 - val_loss: 0.3102 - val_acc: 0.8516\n",
            "Final Test Shape: (1953, 2)\n"
          ],
          "name": "stdout"
        }
      ]
    },
    {
      "cell_type": "code",
      "metadata": {
        "id": "rj7w78APEsXn",
        "colab_type": "code",
        "outputId": "741f45cd-760a-44f3-cb0d-2a314c69d397",
        "colab": {
          "base_uri": "https://localhost:8080/",
          "height": 34
        }
      },
      "source": [
        "final_predictions"
      ],
      "execution_count": 0,
      "outputs": [
        {
          "output_type": "execute_result",
          "data": {
            "text/plain": [
              "array([False, False,  True,  True, ..., False,  True,  True, False])"
            ]
          },
          "metadata": {
            "tags": []
          },
          "execution_count": 165
        }
      ]
    },
    {
      "cell_type": "code",
      "metadata": {
        "id": "Ygwm_FLREsK_",
        "colab_type": "code",
        "outputId": "bb48dacb-1d27-43b4-8d49-83ad5302f055",
        "colab": {
          "base_uri": "https://localhost:8080/",
          "height": 195
        }
      },
      "source": [
        "data_test['label'] = [int(x) for x in final_predictions]\n",
        "data_test.tail()"
      ],
      "execution_count": 0,
      "outputs": [
        {
          "output_type": "execute_result",
          "data": {
            "text/html": [
              "<div>\n",
              "<style scoped>\n",
              "    .dataframe tbody tr th:only-of-type {\n",
              "        vertical-align: middle;\n",
              "    }\n",
              "\n",
              "    .dataframe tbody tr th {\n",
              "        vertical-align: top;\n",
              "    }\n",
              "\n",
              "    .dataframe thead th {\n",
              "        text-align: right;\n",
              "    }\n",
              "</style>\n",
              "<table border=\"1\" class=\"dataframe\">\n",
              "  <thead>\n",
              "    <tr style=\"text-align: right;\">\n",
              "      <th></th>\n",
              "      <th>id</th>\n",
              "      <th>tweet</th>\n",
              "      <th>label</th>\n",
              "    </tr>\n",
              "  </thead>\n",
              "  <tbody>\n",
              "    <tr>\n",
              "      <th>1948</th>\n",
              "      <td>9869</td>\n",
              "      <td>#SamsungGalaxyNote7 Explodes, Burns 6-Year-Old...</td>\n",
              "      <td>0</td>\n",
              "    </tr>\n",
              "    <tr>\n",
              "      <th>1949</th>\n",
              "      <td>9870</td>\n",
              "      <td>Now Available - Hoodie. Check it out here - ht...</td>\n",
              "      <td>0</td>\n",
              "    </tr>\n",
              "    <tr>\n",
              "      <th>1950</th>\n",
              "      <td>9871</td>\n",
              "      <td>There goes a crack right across the screen. If...</td>\n",
              "      <td>1</td>\n",
              "    </tr>\n",
              "    <tr>\n",
              "      <th>1951</th>\n",
              "      <td>9872</td>\n",
              "      <td>@codeofinterest as i said #Adobe big time we m...</td>\n",
              "      <td>1</td>\n",
              "    </tr>\n",
              "    <tr>\n",
              "      <th>1952</th>\n",
              "      <td>9873</td>\n",
              "      <td>Finally I got it .. thanx my father .. #Samsun...</td>\n",
              "      <td>0</td>\n",
              "    </tr>\n",
              "  </tbody>\n",
              "</table>\n",
              "</div>"
            ],
            "text/plain": [
              "        id                                              tweet  label\n",
              "1948  9869  #SamsungGalaxyNote7 Explodes, Burns 6-Year-Old...      0\n",
              "1949  9870  Now Available - Hoodie. Check it out here - ht...      0\n",
              "1950  9871  There goes a crack right across the screen. If...      1\n",
              "1951  9872  @codeofinterest as i said #Adobe big time we m...      1\n",
              "1952  9873  Finally I got it .. thanx my father .. #Samsun...      0"
            ]
          },
          "metadata": {
            "tags": []
          },
          "execution_count": 173
        }
      ]
    },
    {
      "cell_type": "code",
      "metadata": {
        "id": "meUzLdYQNumU",
        "colab_type": "code",
        "colab": {}
      },
      "source": [
        "data_test.drop('tweet', axis=1).to_csv(dir_path + 'submission_1.csv', index=False)"
      ],
      "execution_count": 0,
      "outputs": []
    },
    {
      "cell_type": "markdown",
      "metadata": {
        "id": "h9V-LsBjeqMI",
        "colab_type": "text"
      },
      "source": [
        "# New DL Architecture - Combine Tweet Vectors + Tweet Features"
      ]
    },
    {
      "cell_type": "code",
      "metadata": {
        "id": "kdR0OXOOyone",
        "colab_type": "code",
        "colab": {}
      },
      "source": [
        "from keras.preprocessing.text import Tokenizer\n",
        "from keras.preprocessing.sequence import pad_sequences\n",
        "from keras.models import Sequential, Model\n",
        "from keras.layers import Embedding, Dense, Dropout, LSTM, GRU, BatchNormalization, Activation, Input, Reshape\n",
        "from keras.initializers import Constant\n",
        "from keras import backend as K\n",
        "import keras"
      ],
      "execution_count": 0,
      "outputs": []
    },
    {
      "cell_type": "code",
      "metadata": {
        "id": "BqLmQYo7en-e",
        "colab_type": "code",
        "colab": {
          "base_uri": "https://localhost:8080/",
          "height": 212
        },
        "outputId": "c098dfab-0236-4047-82e8-1e097a073dfd"
      },
      "source": [
        "data_train = pd.read_csv(dir_path + 'train_data.csv')\n",
        "data_test = pd.read_csv(dir_path + 'test_data.csv')\n",
        "\n",
        "data = pd.concat([data_train, data_test], axis=0, sort=False)\n",
        "print(data.shape)\n",
        "data.head()"
      ],
      "execution_count": 16,
      "outputs": [
        {
          "output_type": "stream",
          "text": [
            "(9873, 3)\n"
          ],
          "name": "stdout"
        },
        {
          "output_type": "execute_result",
          "data": {
            "text/html": [
              "<div>\n",
              "<style scoped>\n",
              "    .dataframe tbody tr th:only-of-type {\n",
              "        vertical-align: middle;\n",
              "    }\n",
              "\n",
              "    .dataframe tbody tr th {\n",
              "        vertical-align: top;\n",
              "    }\n",
              "\n",
              "    .dataframe thead th {\n",
              "        text-align: right;\n",
              "    }\n",
              "</style>\n",
              "<table border=\"1\" class=\"dataframe\">\n",
              "  <thead>\n",
              "    <tr style=\"text-align: right;\">\n",
              "      <th></th>\n",
              "      <th>id</th>\n",
              "      <th>label</th>\n",
              "      <th>tweet</th>\n",
              "    </tr>\n",
              "  </thead>\n",
              "  <tbody>\n",
              "    <tr>\n",
              "      <th>0</th>\n",
              "      <td>1</td>\n",
              "      <td>0.0</td>\n",
              "      <td>#fingerprint #Pregnancy Test https://goo.gl/h1...</td>\n",
              "    </tr>\n",
              "    <tr>\n",
              "      <th>1</th>\n",
              "      <td>2</td>\n",
              "      <td>0.0</td>\n",
              "      <td>Finally a transparant silicon case ^^ Thanks t...</td>\n",
              "    </tr>\n",
              "    <tr>\n",
              "      <th>2</th>\n",
              "      <td>3</td>\n",
              "      <td>0.0</td>\n",
              "      <td>We love this! Would you go? #talk #makememorie...</td>\n",
              "    </tr>\n",
              "    <tr>\n",
              "      <th>3</th>\n",
              "      <td>4</td>\n",
              "      <td>0.0</td>\n",
              "      <td>I'm wired I know I'm George I was made that wa...</td>\n",
              "    </tr>\n",
              "    <tr>\n",
              "      <th>4</th>\n",
              "      <td>5</td>\n",
              "      <td>1.0</td>\n",
              "      <td>What amazing service! Apple won't even talk to...</td>\n",
              "    </tr>\n",
              "  </tbody>\n",
              "</table>\n",
              "</div>"
            ],
            "text/plain": [
              "   id  label                                              tweet\n",
              "0   1    0.0  #fingerprint #Pregnancy Test https://goo.gl/h1...\n",
              "1   2    0.0  Finally a transparant silicon case ^^ Thanks t...\n",
              "2   3    0.0  We love this! Would you go? #talk #makememorie...\n",
              "3   4    0.0  I'm wired I know I'm George I was made that wa...\n",
              "4   5    1.0  What amazing service! Apple won't even talk to..."
            ]
          },
          "metadata": {
            "tags": []
          },
          "execution_count": 16
        }
      ]
    },
    {
      "cell_type": "code",
      "metadata": {
        "id": "WkVgJIMweoKF",
        "colab_type": "code",
        "colab": {
          "base_uri": "https://localhost:8080/",
          "height": 34
        },
        "outputId": "4d2951ac-0290-435f-bb19-0f80da38da81"
      },
      "source": [
        "train_len = len(data_train)\n",
        "train_len"
      ],
      "execution_count": 17,
      "outputs": [
        {
          "output_type": "execute_result",
          "data": {
            "text/plain": [
              "7920"
            ]
          },
          "metadata": {
            "tags": []
          },
          "execution_count": 17
        }
      ]
    },
    {
      "cell_type": "code",
      "metadata": {
        "id": "0Qi5u8d9eoM5",
        "colab_type": "code",
        "colab": {}
      },
      "source": [
        "def preprocess(tweet):\n",
        "    wnl = WordNetLemmatizer()\n",
        "    cleaned_tweet = []\n",
        "\n",
        "    words = tweet.split()\n",
        "    for word in words:\n",
        "        # Skip Hyperlinks and Twitter Handles @<user>\n",
        "        if ('http' in word) or ('.com' in word) or ('www.' in word) or (word.startswith('@')):\n",
        "            continue\n",
        "\n",
        "        # Remove Digits and Special Characters\n",
        "        temp = re.sub(f'[^{string.ascii_lowercase}]', '', word.lower())\n",
        "\n",
        "        # Remove words with less than 3 characters\n",
        "        if len(temp) < 3:\n",
        "            continue\n",
        "\n",
        "        # Store the Lemmatized version of the word\n",
        "        temp = wnl.lemmatize(temp)\n",
        "\n",
        "        if len(temp) > 0:\n",
        "            cleaned_tweet.append(temp)\n",
        "\n",
        "    return ' '.join(cleaned_tweet)"
      ],
      "execution_count": 0,
      "outputs": []
    },
    {
      "cell_type": "code",
      "metadata": {
        "id": "XXzzWVY1eoQE",
        "colab_type": "code",
        "colab": {
          "base_uri": "https://localhost:8080/",
          "height": 235
        },
        "outputId": "e6570d12-f926-462c-ab7e-97fce0227e8d"
      },
      "source": [
        "# data[data['tweet'].str.contains('$&@*#')] -> No such tweet present**\n",
        "\n",
        "sia = SentimentIntensityAnalyzer()\n",
        "data['cleaned_tweet'] =  data['tweet'].progress_apply(preprocess)\n",
        "\n",
        "data['nltkdict'] = data['tweet'].progress_apply(lambda x: sia.polarity_scores(x))\n",
        "data['nltk_compound'] = data['nltkdict'].progress_apply(lambda x: x['compound'])\n",
        "data['nltk_neg'] = data['nltkdict'].progress_apply(lambda x: x['neg'])\n",
        "data['nltk_pos'] = data['nltkdict'].progress_apply(lambda x: x['pos'])\n",
        "data['nltk_neu'] = data['nltkdict'].progress_apply(lambda x: x['neu'])\n",
        "\n",
        "data['count_negations'] = data['tweet'].progress_apply(lambda x: len([w for w in mark_negation(x.split()) if '_NEG' in w]))\n",
        "data['count_!'] = data['tweet'].progress_apply(lambda x: x.count('!'))\n",
        "data['count_#'] = data['tweet'].progress_apply(lambda x: x.count('#'))\n",
        "data['count_@'] = data['tweet'].progress_apply(lambda x: x.count('@'))\n",
        "\n",
        "data['count_upper'] = data['tweet'].progress_apply(lambda x: len([w for w in x.split() if w.isupper()]))\n",
        "data['count_words'] = data['tweet'].progress_apply(lambda x: len(x.split()))\n",
        "data['tweet_length'] = data['tweet'].progress_apply(lambda x: len(x))"
      ],
      "execution_count": 19,
      "outputs": [
        {
          "output_type": "stream",
          "text": [
            "100%|███████████████████████████| 9873/9873 [00:03<00:00, 2582.51it/s]\n",
            "100%|███████████████████████████| 9873/9873 [00:02<00:00, 3438.31it/s]\n",
            "100%|█████████████████████████| 9873/9873 [00:00<00:00, 508402.05it/s]\n",
            "100%|█████████████████████████| 9873/9873 [00:00<00:00, 498607.66it/s]\n",
            "100%|█████████████████████████| 9873/9873 [00:00<00:00, 572939.71it/s]\n",
            "100%|█████████████████████████| 9873/9873 [00:00<00:00, 507187.81it/s]\n",
            "100%|██████████████████████████| 9873/9873 [00:00<00:00, 28032.21it/s]\n",
            "100%|█████████████████████████| 9873/9873 [00:00<00:00, 458495.13it/s]\n",
            "100%|█████████████████████████| 9873/9873 [00:00<00:00, 318852.75it/s]\n",
            "100%|█████████████████████████| 9873/9873 [00:00<00:00, 313297.14it/s]\n",
            "100%|█████████████████████████| 9873/9873 [00:00<00:00, 162804.10it/s]\n",
            "100%|█████████████████████████| 9873/9873 [00:00<00:00, 296423.50it/s]\n",
            "100%|█████████████████████████| 9873/9873 [00:00<00:00, 384318.92it/s]\n"
          ],
          "name": "stderr"
        }
      ]
    },
    {
      "cell_type": "code",
      "metadata": {
        "id": "pcaVm4bOeoSN",
        "colab_type": "code",
        "colab": {
          "base_uri": "https://localhost:8080/",
          "height": 467
        },
        "outputId": "147ae8d1-da2a-4514-b4b6-ec4e2ce5ffa1"
      },
      "source": [
        "data.head()"
      ],
      "execution_count": 20,
      "outputs": [
        {
          "output_type": "execute_result",
          "data": {
            "text/html": [
              "<div>\n",
              "<style scoped>\n",
              "    .dataframe tbody tr th:only-of-type {\n",
              "        vertical-align: middle;\n",
              "    }\n",
              "\n",
              "    .dataframe tbody tr th {\n",
              "        vertical-align: top;\n",
              "    }\n",
              "\n",
              "    .dataframe thead th {\n",
              "        text-align: right;\n",
              "    }\n",
              "</style>\n",
              "<table border=\"1\" class=\"dataframe\">\n",
              "  <thead>\n",
              "    <tr style=\"text-align: right;\">\n",
              "      <th></th>\n",
              "      <th>id</th>\n",
              "      <th>label</th>\n",
              "      <th>tweet</th>\n",
              "      <th>cleaned_tweet</th>\n",
              "      <th>nltkdict</th>\n",
              "      <th>nltk_compound</th>\n",
              "      <th>nltk_neg</th>\n",
              "      <th>nltk_pos</th>\n",
              "      <th>nltk_neu</th>\n",
              "      <th>count_negations</th>\n",
              "      <th>count_!</th>\n",
              "      <th>count_#</th>\n",
              "      <th>count_@</th>\n",
              "      <th>count_upper</th>\n",
              "      <th>count_words</th>\n",
              "      <th>tweet_length</th>\n",
              "    </tr>\n",
              "  </thead>\n",
              "  <tbody>\n",
              "    <tr>\n",
              "      <th>0</th>\n",
              "      <td>1</td>\n",
              "      <td>0.0</td>\n",
              "      <td>#fingerprint #Pregnancy Test https://goo.gl/h1...</td>\n",
              "      <td>fingerprint pregnancy test android apps beauti...</td>\n",
              "      <td>{'neg': 0.0, 'neu': 1.0, 'pos': 0.0, 'compound...</td>\n",
              "      <td>0.0000</td>\n",
              "      <td>0.000</td>\n",
              "      <td>0.000</td>\n",
              "      <td>1.000</td>\n",
              "      <td>0</td>\n",
              "      <td>0</td>\n",
              "      <td>11</td>\n",
              "      <td>0</td>\n",
              "      <td>0</td>\n",
              "      <td>13</td>\n",
              "      <td>128</td>\n",
              "    </tr>\n",
              "    <tr>\n",
              "      <th>1</th>\n",
              "      <td>2</td>\n",
              "      <td>0.0</td>\n",
              "      <td>Finally a transparant silicon case ^^ Thanks t...</td>\n",
              "      <td>finally transparant silicon case thanks uncle ...</td>\n",
              "      <td>{'neg': 0.0, 'neu': 0.704, 'pos': 0.296, 'comp...</td>\n",
              "      <td>0.7096</td>\n",
              "      <td>0.000</td>\n",
              "      <td>0.296</td>\n",
              "      <td>0.704</td>\n",
              "      <td>0</td>\n",
              "      <td>0</td>\n",
              "      <td>5</td>\n",
              "      <td>0</td>\n",
              "      <td>1</td>\n",
              "      <td>17</td>\n",
              "      <td>131</td>\n",
              "    </tr>\n",
              "    <tr>\n",
              "      <th>2</th>\n",
              "      <td>3</td>\n",
              "      <td>0.0</td>\n",
              "      <td>We love this! Would you go? #talk #makememorie...</td>\n",
              "      <td>love this would you talk makememories unplug r...</td>\n",
              "      <td>{'neg': 0.0, 'neu': 0.757, 'pos': 0.243, 'comp...</td>\n",
              "      <td>0.6696</td>\n",
              "      <td>0.000</td>\n",
              "      <td>0.243</td>\n",
              "      <td>0.757</td>\n",
              "      <td>0</td>\n",
              "      <td>1</td>\n",
              "      <td>8</td>\n",
              "      <td>0</td>\n",
              "      <td>0</td>\n",
              "      <td>15</td>\n",
              "      <td>123</td>\n",
              "    </tr>\n",
              "    <tr>\n",
              "      <th>3</th>\n",
              "      <td>4</td>\n",
              "      <td>0.0</td>\n",
              "      <td>I'm wired I know I'm George I was made that wa...</td>\n",
              "      <td>wired know george wa made that way iphone cute...</td>\n",
              "      <td>{'neg': 0.0, 'neu': 0.881, 'pos': 0.119, 'comp...</td>\n",
              "      <td>0.2263</td>\n",
              "      <td>0.000</td>\n",
              "      <td>0.119</td>\n",
              "      <td>0.881</td>\n",
              "      <td>0</td>\n",
              "      <td>0</td>\n",
              "      <td>4</td>\n",
              "      <td>0</td>\n",
              "      <td>2</td>\n",
              "      <td>17</td>\n",
              "      <td>112</td>\n",
              "    </tr>\n",
              "    <tr>\n",
              "      <th>4</th>\n",
              "      <td>5</td>\n",
              "      <td>1.0</td>\n",
              "      <td>What amazing service! Apple won't even talk to...</td>\n",
              "      <td>what amazing service apple wont even talk abou...</td>\n",
              "      <td>{'neg': 0.172, 'neu': 0.574, 'pos': 0.254, 'co...</td>\n",
              "      <td>0.5080</td>\n",
              "      <td>0.172</td>\n",
              "      <td>0.254</td>\n",
              "      <td>0.574</td>\n",
              "      <td>18</td>\n",
              "      <td>2</td>\n",
              "      <td>0</td>\n",
              "      <td>0</td>\n",
              "      <td>2</td>\n",
              "      <td>23</td>\n",
              "      <td>124</td>\n",
              "    </tr>\n",
              "  </tbody>\n",
              "</table>\n",
              "</div>"
            ],
            "text/plain": [
              "   id  label  ... count_words tweet_length\n",
              "0   1    0.0  ...          13          128\n",
              "1   2    0.0  ...          17          131\n",
              "2   3    0.0  ...          15          123\n",
              "3   4    0.0  ...          17          112\n",
              "4   5    1.0  ...          23          124\n",
              "\n",
              "[5 rows x 16 columns]"
            ]
          },
          "metadata": {
            "tags": []
          },
          "execution_count": 20
        }
      ]
    },
    {
      "cell_type": "code",
      "metadata": {
        "id": "1DT8W6TGvQQN",
        "colab_type": "code",
        "colab": {}
      },
      "source": [
        "# tfidf = TfidfVectorizer(ngram_range=(1, 3), max_features = 1000, norm = None)\n",
        "# df_tfidf = tfidf.fit_transform(data['cleaned_tweet'])\n",
        "# print(df_tfidf.shape)"
      ],
      "execution_count": 0,
      "outputs": []
    },
    {
      "cell_type": "code",
      "metadata": {
        "id": "siwuQaYixANl",
        "colab_type": "code",
        "colab": {}
      },
      "source": [
        "# df = data.drop(['id', 'label', 'tweet', 'cleaned_tweet', 'nltkdict'], axis=1)\n",
        "# df = np.concatenate([df_tfidf.toarray(), df], axis=1)\n",
        "# target = data['label']"
      ],
      "execution_count": 0,
      "outputs": []
    },
    {
      "cell_type": "code",
      "metadata": {
        "id": "Im48d_t6xAXo",
        "colab_type": "code",
        "colab": {}
      },
      "source": [
        "# df.shape"
      ],
      "execution_count": 0,
      "outputs": []
    },
    {
      "cell_type": "code",
      "metadata": {
        "id": "qdwbfnfDxAa4",
        "colab_type": "code",
        "colab": {}
      },
      "source": [
        "# model = Sequential()\n",
        "# model.add(Dense(2048, activation='relu', kernel_initializer='he_normal', input_shape=(df.shape[1],)))\n",
        "# model.add(BatchNormalization())\n",
        "# model.add(Activation('relu'))\n",
        "# model.add(Dropout(0.5))\n",
        "\n",
        "# model.add(Dense(1024, activation='relu', kernel_initializer='he_normal'))\n",
        "# model.add(BatchNormalization())\n",
        "# model.add(Activation('relu'))\n",
        "# model.add(Dropout(0.5))\n",
        "\n",
        "# model.add(Dense(512, activation='relu', kernel_initializer='he_normal'))\n",
        "# model.add(BatchNormalization())\n",
        "# model.add(Activation('relu'))\n",
        "# model.add(Dropout(0.5))\n",
        "\n",
        "# model.add(Dense(256, activation='relu', kernel_initializer='he_normal'))\n",
        "# model.add(BatchNormalization())\n",
        "# model.add(Activation('relu'))\n",
        "# model.add(Dropout(0.5))\n",
        "\n",
        "# model.add(Dense(128, activation='relu', kernel_initializer='he_normal'))\n",
        "# model.add(BatchNormalization())\n",
        "# model.add(Activation('relu'))\n",
        "# model.add(Dropout(0.5))\n",
        "\n",
        "# model.add(Dense(1, activation='relu', kernel_initializer='he_normal'))\n",
        "\n",
        "# model.compile(loss='binary_crossentropy', optimizer=keras.optimizers.adam(lr=0.01), metrics=['accuracy'])\n",
        "# model.summary()\n",
        "\n",
        "# history = model.fit(df[:train_len], target[:train_len], batch_size=128, epochs=25, validation_split=0.2, verbose=1, class_weight={0:1, 1:3})"
      ],
      "execution_count": 0,
      "outputs": []
    },
    {
      "cell_type": "code",
      "metadata": {
        "id": "1t_XaP1E3T3b",
        "colab_type": "code",
        "colab": {}
      },
      "source": [
        "# m4_preds = model.predict(df[train_len:])\n",
        "# m4_predictions = m4_preds > 0.5\n",
        "\n",
        "# data_test['label'] = [int(x) for x in m4_predictions]\n",
        "# data_test.drop('tweet', axis=1).to_csv(dir_path + 'submission_3.csv', index=False)"
      ],
      "execution_count": 0,
      "outputs": []
    },
    {
      "cell_type": "code",
      "metadata": {
        "id": "Z6bXDeId4IK2",
        "colab_type": "code",
        "colab": {}
      },
      "source": [
        "def model_34_lstm_w2v(df, EMBEDDING_DIM=100, trainable=False):\n",
        "    all_tweets = df.cleaned_tweet.progress_apply(lambda x: x.split())\n",
        "    \n",
        "    X_train = df['cleaned_tweet'][:train_len]\n",
        "    y_train = df['label'][:train_len]\n",
        "    X_test = df['cleaned_tweet'][train_len:]\n",
        "    \n",
        "    X_feats_train = df.drop(['id', 'label', 'tweet', 'cleaned_tweet', 'nltkdict'], axis=1)[:train_len]\n",
        "    X_feats_test = df.drop(['id', 'label', 'tweet', 'cleaned_tweet', 'nltkdict'], axis=1)[train_len:]\n",
        "    \n",
        "    # Create a Tokenizer object and fit it on the entire dataset (Train + Test)\n",
        "    # This will contain the vocab space of the dataset\n",
        "    tokenizer = Tokenizer()\n",
        "    total_tweets = df.cleaned_tweet\n",
        "    tokenizer.fit_on_texts(total_tweets)\n",
        "\n",
        "    # Calculate Max Seq Length to pad sequences\n",
        "    max_seq_len = max([len(s.split()) for s in total_tweets])\n",
        "\n",
        "    # Define Vocab size\n",
        "    vocab_size = len(tokenizer.word_index) + 1\n",
        "    \n",
        "    # Create the sequence of Indices from Text\n",
        "    X_train_tokens = tokenizer.texts_to_sequences(X_train)\n",
        "    X_test_tokens = tokenizer.texts_to_sequences(X_test)\n",
        "\n",
        "    # Pad the sequences to make the length equal to max_seq_len\n",
        "    X_train_pad = pad_sequences(X_train_tokens, maxlen=max_seq_len, padding='post')\n",
        "    X_test_pad = pad_sequences(X_test_tokens, maxlen=max_seq_len, padding='post')\n",
        "    \n",
        "    # Train Word2Vec Model on the entire Tweet dataset - Train + Test\n",
        "    model_w2v = gensim.models.Word2Vec(sentences=all_tweets, size=EMBEDDING_DIM, window=5, workers=4, min_count=1)\n",
        "\n",
        "    # Vocab list\n",
        "    words = list(model_w2v.wv.vocab)\n",
        "\n",
        "    # Build Embedding Matrix\n",
        "    embedding_matrix = np.zeros((vocab_size, EMBEDDING_DIM))\n",
        "    for word, i in tokenizer.word_index.items():\n",
        "        if i > vocab_size:\n",
        "            continue\n",
        "        try:\n",
        "            embedding_matrix[i] = model_w2v.wv[word]\n",
        "        except:\n",
        "            embedding_matrix[i] = np.zeros(EMBEDDING_DIM)\n",
        "\n",
        "    # Embedding Layer --> Turns positive integers (indexes) into dense vectors of fixed size.    \n",
        "    print(embedding_matrix.shape, X_feats_train.shape)\n",
        "    \n",
        "    def get_model(trainable):\n",
        "        inp_1 = Input(shape=(max_seq_len, ))\n",
        "        x = Embedding(vocab_size, EMBEDDING_DIM, embeddings_initializer=Constant(embedding_matrix), trainable=trainable)(inp_1)\n",
        "\n",
        "        x = LSTM(units=32, dropout=0.4, recurrent_dropout=0.4, return_sequences=True)(x)\n",
        "        x = LSTM(units=16, dropout=0.4, recurrent_dropout=0.4)(x)\n",
        "\n",
        "        inp_2 = Input(shape=(X_feats_train.shape[1],))\n",
        "        x = keras.layers.concatenate([x, inp_2], axis=-1)\n",
        "\n",
        "        x = Dense(100, kernel_initializer='he_normal')(x)\n",
        "        x = BatchNormalization()(x)\n",
        "        x = Activation('relu')(x)\n",
        "        x = Dropout(0.5)(x)\n",
        "        x = Dense(10, activation='relu', kernel_initializer='he_normal')(x)\n",
        "\n",
        "        out = Dense(1, activation='relu')(x)\n",
        "\n",
        "        model = Model(inputs=[inp_1, inp_2], outputs=out)\n",
        "\n",
        "        model.compile(loss='binary_crossentropy', optimizer='adam', metrics=['accuracy'])\n",
        "        model.summary()\n",
        "        \n",
        "        return model\n",
        "\n",
        "    model = get_model(trainable)\n",
        "    history = model.fit([X_train_pad, X_feats_train], y_train, batch_size=128, epochs=25, validation_split=0.3, verbose=1)\n",
        "\n",
        "    # Predict on the Train dataset\n",
        "    train_w2v_preds = model.predict([X_train_pad, X_feats_train])\n",
        "    train_w2v_predictions = train_w2v_preds > 0.6\n",
        "    \n",
        "    # Predict on the Test dataset\n",
        "    w2v_preds = model.predict([X_test_pad, X_feats_test])\n",
        "    w2v_predictions = w2v_preds > 0.6\n",
        "\n",
        "    return (train_w2v_preds, train_w2v_predictions, w2v_preds, w2v_predictions)"
      ],
      "execution_count": 0,
      "outputs": []
    },
    {
      "cell_type": "code",
      "metadata": {
        "id": "VT2y5Z_9-Wfw",
        "colab_type": "code",
        "colab": {
          "base_uri": "https://localhost:8080/",
          "height": 1000
        },
        "outputId": "6a939cfd-89c0-492c-b9cd-437eb198dc9d"
      },
      "source": [
        "(train_model3_preds, train_model3_predictions, model3_preds, model3_predictions) = model_34_lstm_w2v(data)"
      ],
      "execution_count": 23,
      "outputs": [
        {
          "output_type": "stream",
          "text": [
            "100%|█████████████████████████| 9873/9873 [00:00<00:00, 210077.99it/s]\n"
          ],
          "name": "stderr"
        },
        {
          "output_type": "stream",
          "text": [
            "(16588, 100) (7920, 11)\n",
            "__________________________________________________________________________________________________\n",
            "Layer (type)                    Output Shape         Param #     Connected to                     \n",
            "==================================================================================================\n",
            "input_1 (InputLayer)            (None, 42)           0                                            \n",
            "__________________________________________________________________________________________________\n",
            "embedding_3 (Embedding)         (None, 42, 100)      1658800     input_1[0][0]                    \n",
            "__________________________________________________________________________________________________\n",
            "lstm_4 (LSTM)                   (None, 42, 32)       17024       embedding_3[0][0]                \n",
            "__________________________________________________________________________________________________\n",
            "lstm_5 (LSTM)                   (None, 16)           3136        lstm_4[0][0]                     \n",
            "__________________________________________________________________________________________________\n",
            "input_2 (InputLayer)            (None, 11)           0                                            \n",
            "__________________________________________________________________________________________________\n",
            "concatenate_1 (Concatenate)     (None, 27)           0           lstm_5[0][0]                     \n",
            "                                                                 input_2[0][0]                    \n",
            "__________________________________________________________________________________________________\n",
            "dense_3 (Dense)                 (None, 100)          2800        concatenate_1[0][0]              \n",
            "__________________________________________________________________________________________________\n",
            "batch_normalization_1 (BatchNor (None, 100)          400         dense_3[0][0]                    \n",
            "__________________________________________________________________________________________________\n",
            "activation_1 (Activation)       (None, 100)          0           batch_normalization_1[0][0]      \n",
            "__________________________________________________________________________________________________\n",
            "dropout_1 (Dropout)             (None, 100)          0           activation_1[0][0]               \n",
            "__________________________________________________________________________________________________\n",
            "dense_4 (Dense)                 (None, 10)           1010        dropout_1[0][0]                  \n",
            "__________________________________________________________________________________________________\n",
            "dense_5 (Dense)                 (None, 1)            11          dense_4[0][0]                    \n",
            "==================================================================================================\n",
            "Total params: 1,683,181\n",
            "Trainable params: 24,181\n",
            "Non-trainable params: 1,659,000\n",
            "__________________________________________________________________________________________________\n",
            "Train on 5544 samples, validate on 2376 samples\n",
            "Epoch 1/25\n",
            "5544/5544 [==============================] - 9s 2ms/step - loss: 2.0956 - acc: 0.7563 - val_loss: 1.2488 - val_acc: 0.7656\n",
            "Epoch 2/25\n",
            "5544/5544 [==============================] - 5s 857us/step - loss: 1.5610 - acc: 0.7561 - val_loss: 1.1280 - val_acc: 0.7887\n",
            "Epoch 3/25\n",
            "5544/5544 [==============================] - 5s 820us/step - loss: 1.4021 - acc: 0.7641 - val_loss: 0.9754 - val_acc: 0.8009\n",
            "Epoch 4/25\n",
            "5544/5544 [==============================] - 5s 833us/step - loss: 1.3542 - acc: 0.7617 - val_loss: 0.8976 - val_acc: 0.8287\n",
            "Epoch 5/25\n",
            "5544/5544 [==============================] - 5s 855us/step - loss: 1.2589 - acc: 0.7695 - val_loss: 0.8249 - val_acc: 0.8270\n",
            "Epoch 6/25\n",
            "5544/5544 [==============================] - 5s 833us/step - loss: 1.1575 - acc: 0.7771 - val_loss: 1.3030 - val_acc: 0.7605\n",
            "Epoch 7/25\n",
            "5544/5544 [==============================] - 5s 832us/step - loss: 1.1715 - acc: 0.7747 - val_loss: 0.9635 - val_acc: 0.8039\n",
            "Epoch 8/25\n",
            "5544/5544 [==============================] - 5s 838us/step - loss: 1.0902 - acc: 0.7762 - val_loss: 0.6335 - val_acc: 0.8072\n",
            "Epoch 9/25\n",
            "5544/5544 [==============================] - 5s 845us/step - loss: 0.9741 - acc: 0.7810 - val_loss: 0.6866 - val_acc: 0.7799\n",
            "Epoch 10/25\n",
            "5544/5544 [==============================] - 5s 848us/step - loss: 1.0207 - acc: 0.7785 - val_loss: 0.6530 - val_acc: 0.8022\n",
            "Epoch 11/25\n",
            "5544/5544 [==============================] - 5s 853us/step - loss: 0.9262 - acc: 0.7848 - val_loss: 0.6324 - val_acc: 0.8228\n",
            "Epoch 12/25\n",
            "5544/5544 [==============================] - 5s 855us/step - loss: 0.8695 - acc: 0.7906 - val_loss: 0.6606 - val_acc: 0.8102\n",
            "Epoch 13/25\n",
            "5544/5544 [==============================] - 5s 851us/step - loss: 0.8995 - acc: 0.7808 - val_loss: 0.6177 - val_acc: 0.8418\n",
            "Epoch 14/25\n",
            "5544/5544 [==============================] - 5s 858us/step - loss: 0.8861 - acc: 0.7744 - val_loss: 0.6120 - val_acc: 0.7891\n",
            "Epoch 15/25\n",
            "5544/5544 [==============================] - 5s 844us/step - loss: 0.7860 - acc: 0.7821 - val_loss: 0.6594 - val_acc: 0.7774\n",
            "Epoch 16/25\n",
            "5544/5544 [==============================] - 5s 856us/step - loss: 0.7795 - acc: 0.7807 - val_loss: 0.6659 - val_acc: 0.7753\n",
            "Epoch 17/25\n",
            "5544/5544 [==============================] - 5s 839us/step - loss: 0.7571 - acc: 0.7801 - val_loss: 0.6411 - val_acc: 0.7757\n",
            "Epoch 18/25\n",
            "5544/5544 [==============================] - 5s 856us/step - loss: 0.7640 - acc: 0.7890 - val_loss: 0.6387 - val_acc: 0.7765\n",
            "Epoch 19/25\n",
            "5544/5544 [==============================] - 5s 854us/step - loss: 0.7984 - acc: 0.7835 - val_loss: 0.6617 - val_acc: 0.7702\n",
            "Epoch 20/25\n",
            "5544/5544 [==============================] - 5s 883us/step - loss: 0.7907 - acc: 0.7812 - val_loss: 0.6531 - val_acc: 0.7689\n",
            "Epoch 21/25\n",
            "5544/5544 [==============================] - 5s 914us/step - loss: 0.7731 - acc: 0.7808 - val_loss: 0.6479 - val_acc: 0.7689\n",
            "Epoch 22/25\n",
            "5544/5544 [==============================] - 5s 889us/step - loss: 0.7305 - acc: 0.7870 - val_loss: 0.6469 - val_acc: 0.7673\n",
            "Epoch 23/25\n",
            "5544/5544 [==============================] - 5s 870us/step - loss: 0.7716 - acc: 0.7848 - val_loss: 0.6752 - val_acc: 0.7622\n",
            "Epoch 24/25\n",
            "5544/5544 [==============================] - 5s 877us/step - loss: 0.7170 - acc: 0.7760 - val_loss: 0.7192 - val_acc: 0.7597\n",
            "Epoch 25/25\n",
            "5544/5544 [==============================] - 5s 863us/step - loss: 0.6927 - acc: 0.7843 - val_loss: 0.7149 - val_acc: 0.7685\n"
          ],
          "name": "stdout"
        }
      ]
    },
    {
      "cell_type": "code",
      "metadata": {
        "id": "c4hgH8OseoUn",
        "colab_type": "code",
        "colab": {
          "base_uri": "https://localhost:8080/",
          "height": 1000
        },
        "outputId": "3413da10-1bed-4c07-8fbf-f66a448e54cf"
      },
      "source": [
        "(train_model4_preds, train_model4_predictions, model4_preds, model4_predictions) = model_34_lstm_w2v(data, trainable=True)"
      ],
      "execution_count": 24,
      "outputs": [
        {
          "output_type": "stream",
          "text": [
            "100%|█████████████████████████| 9873/9873 [00:00<00:00, 220340.56it/s]\n"
          ],
          "name": "stderr"
        },
        {
          "output_type": "stream",
          "text": [
            "(16588, 100) (7920, 11)\n",
            "__________________________________________________________________________________________________\n",
            "Layer (type)                    Output Shape         Param #     Connected to                     \n",
            "==================================================================================================\n",
            "input_3 (InputLayer)            (None, 42)           0                                            \n",
            "__________________________________________________________________________________________________\n",
            "embedding_4 (Embedding)         (None, 42, 100)      1658800     input_3[0][0]                    \n",
            "__________________________________________________________________________________________________\n",
            "lstm_6 (LSTM)                   (None, 42, 32)       17024       embedding_4[0][0]                \n",
            "__________________________________________________________________________________________________\n",
            "lstm_7 (LSTM)                   (None, 16)           3136        lstm_6[0][0]                     \n",
            "__________________________________________________________________________________________________\n",
            "input_4 (InputLayer)            (None, 11)           0                                            \n",
            "__________________________________________________________________________________________________\n",
            "concatenate_2 (Concatenate)     (None, 27)           0           lstm_7[0][0]                     \n",
            "                                                                 input_4[0][0]                    \n",
            "__________________________________________________________________________________________________\n",
            "dense_6 (Dense)                 (None, 100)          2800        concatenate_2[0][0]              \n",
            "__________________________________________________________________________________________________\n",
            "batch_normalization_2 (BatchNor (None, 100)          400         dense_6[0][0]                    \n",
            "__________________________________________________________________________________________________\n",
            "activation_2 (Activation)       (None, 100)          0           batch_normalization_2[0][0]      \n",
            "__________________________________________________________________________________________________\n",
            "dropout_2 (Dropout)             (None, 100)          0           activation_2[0][0]               \n",
            "__________________________________________________________________________________________________\n",
            "dense_7 (Dense)                 (None, 10)           1010        dropout_2[0][0]                  \n",
            "__________________________________________________________________________________________________\n",
            "dense_8 (Dense)                 (None, 1)            11          dense_7[0][0]                    \n",
            "==================================================================================================\n",
            "Total params: 1,683,181\n",
            "Trainable params: 1,682,981\n",
            "Non-trainable params: 200\n",
            "__________________________________________________________________________________________________\n",
            "Train on 5544 samples, validate on 2376 samples\n",
            "Epoch 1/25\n",
            "5544/5544 [==============================] - 12s 2ms/step - loss: 2.3670 - acc: 0.7172 - val_loss: 1.5509 - val_acc: 0.7517\n",
            "Epoch 2/25\n",
            "5544/5544 [==============================] - 6s 1ms/step - loss: 1.6465 - acc: 0.7541 - val_loss: 1.5800 - val_acc: 0.7529\n",
            "Epoch 3/25\n",
            "5544/5544 [==============================] - 6s 1ms/step - loss: 1.4106 - acc: 0.7659 - val_loss: 1.1456 - val_acc: 0.7538\n",
            "Epoch 4/25\n",
            "5544/5544 [==============================] - 6s 1ms/step - loss: 1.2486 - acc: 0.7814 - val_loss: 0.7703 - val_acc: 0.8157\n",
            "Epoch 5/25\n",
            "5544/5544 [==============================] - 6s 1ms/step - loss: 1.1401 - acc: 0.7899 - val_loss: 0.7312 - val_acc: 0.8077\n",
            "Epoch 6/25\n",
            "5544/5544 [==============================] - 6s 1ms/step - loss: 1.1130 - acc: 0.7861 - val_loss: 0.6918 - val_acc: 0.8165\n",
            "Epoch 7/25\n",
            "5544/5544 [==============================] - 6s 1ms/step - loss: 0.9969 - acc: 0.7872 - val_loss: 0.6712 - val_acc: 0.8228\n",
            "Epoch 8/25\n",
            "5544/5544 [==============================] - 6s 1ms/step - loss: 0.8954 - acc: 0.7866 - val_loss: 0.6260 - val_acc: 0.8194\n",
            "Epoch 9/25\n",
            "5544/5544 [==============================] - 6s 1ms/step - loss: 0.8466 - acc: 0.8003 - val_loss: 0.6593 - val_acc: 0.7997\n",
            "Epoch 10/25\n",
            "5544/5544 [==============================] - 6s 1ms/step - loss: 0.7795 - acc: 0.8023 - val_loss: 0.6122 - val_acc: 0.8312\n",
            "Epoch 11/25\n",
            "5544/5544 [==============================] - 6s 1ms/step - loss: 0.7734 - acc: 0.7971 - val_loss: 0.5820 - val_acc: 0.8384\n",
            "Epoch 12/25\n",
            "5544/5544 [==============================] - 6s 1ms/step - loss: 0.6920 - acc: 0.7996 - val_loss: 0.6002 - val_acc: 0.8064\n",
            "Epoch 13/25\n",
            "5544/5544 [==============================] - 6s 1ms/step - loss: 0.7086 - acc: 0.8000 - val_loss: 0.6501 - val_acc: 0.7942\n",
            "Epoch 14/25\n",
            "5544/5544 [==============================] - 6s 1ms/step - loss: 0.6791 - acc: 0.8166 - val_loss: 0.6551 - val_acc: 0.8005\n",
            "Epoch 15/25\n",
            "5544/5544 [==============================] - 6s 1ms/step - loss: 0.6704 - acc: 0.8110 - val_loss: 0.6684 - val_acc: 0.7984\n",
            "Epoch 16/25\n",
            "5544/5544 [==============================] - 6s 1ms/step - loss: 0.6521 - acc: 0.8130 - val_loss: 0.6540 - val_acc: 0.7980\n",
            "Epoch 17/25\n",
            "5544/5544 [==============================] - 6s 1ms/step - loss: 0.6047 - acc: 0.8120 - val_loss: 0.6374 - val_acc: 0.7883\n",
            "Epoch 18/25\n",
            "5544/5544 [==============================] - 6s 1ms/step - loss: 0.6069 - acc: 0.8054 - val_loss: 0.6041 - val_acc: 0.8148\n",
            "Epoch 19/25\n",
            "5544/5544 [==============================] - 6s 1ms/step - loss: 0.5887 - acc: 0.8142 - val_loss: 0.6132 - val_acc: 0.7774\n",
            "Epoch 20/25\n",
            "5544/5544 [==============================] - 6s 1ms/step - loss: 0.5802 - acc: 0.8018 - val_loss: 0.5871 - val_acc: 0.7875\n",
            "Epoch 21/25\n",
            "5544/5544 [==============================] - 6s 1ms/step - loss: 0.5648 - acc: 0.8099 - val_loss: 0.6127 - val_acc: 0.7959\n",
            "Epoch 22/25\n",
            "5544/5544 [==============================] - 6s 1ms/step - loss: 0.5560 - acc: 0.8028 - val_loss: 0.5998 - val_acc: 0.7731\n",
            "Epoch 23/25\n",
            "5544/5544 [==============================] - 6s 1ms/step - loss: 0.6000 - acc: 0.7872 - val_loss: 0.5820 - val_acc: 0.7685\n",
            "Epoch 24/25\n",
            "5544/5544 [==============================] - 6s 1ms/step - loss: 0.5496 - acc: 0.8068 - val_loss: 0.5681 - val_acc: 0.7934\n",
            "Epoch 25/25\n",
            "5544/5544 [==============================] - 6s 1ms/step - loss: 0.5437 - acc: 0.8090 - val_loss: 0.5640 - val_acc: 0.7976\n"
          ],
          "name": "stdout"
        }
      ]
    },
    {
      "cell_type": "code",
      "metadata": {
        "id": "Lcgjikyq_z7C",
        "colab_type": "code",
        "colab": {
          "base_uri": "https://localhost:8080/",
          "height": 1000
        },
        "outputId": "2d0a9650-63d6-4666-8eed-1a4da5b7605c"
      },
      "source": [
        "print(lstm_preds.shape, w2v_preds.shape, model3_preds.shape, model4_preds.shape)\n",
        "\n",
        "tr_lstm = [x[0] for x in train_lstm_preds]\n",
        "tr_w2v = [x[0] for x in train_w2v_preds]\n",
        "tr_mod3 = [x[0] for x in train_model3_preds]\n",
        "tr_mod4 = [x[0] for x in train_model4_preds]\n",
        "final_x_train = np.vstack((tr_lstm, tr_w2v, tr_mod3, tr_mod4)).T\n",
        "\n",
        "print(f'Final Train Shape: {final_x_train.shape}')\n",
        "\n",
        "# final_x_train = pd.DataFrame(tr_final, columns=['LSTM Pred', 'W2V Pred'])\n",
        "final_y_train = data_train['label'].values\n",
        "\n",
        "# final_split = train_df.shape[0]\n",
        "# final_x_train = final.iloc[:final_split, :-1]\n",
        "# final_x_test = final.iloc[final_split:, :-1]\n",
        "\n",
        "# final_y_train = train_df.label\n",
        "\n",
        "# Build Meta Classifier\n",
        "final_model = Sequential()\n",
        "final_model.add(Dense(256, input_dim=4))\n",
        "# final_model.add(BatchNormalization())\n",
        "final_model.add(Activation('relu'))\n",
        "# final_model.add(Dropout(0.5))\n",
        "\n",
        "# final_model.add(Dense(128, activation='relu'))\n",
        "# final_model.add(BatchNormalization())\n",
        "# final_model.add(Activation('relu'))\n",
        "# final_model.add(Dropout(0.5))\n",
        "\n",
        "# final_model.add(Dense(32, activation='relu'))\n",
        "final_model.add(Dense(1, activation='relu'))\n",
        "\n",
        "final_model.compile(loss='binary_crossentropy', optimizer='adam', metrics=['accuracy'])\n",
        "final_model.summary()\n",
        "\n",
        "history = final_model.fit(final_x_train, final_y_train, batch_size=128, epochs=50, validation_split=0.2, verbose=1)\n",
        "\n",
        "t_lstm = [x[0] for x in lstm_preds]\n",
        "t_w2v = [x[0] for x in w2v_preds]\n",
        "t_mod3 = [x[0] for x in model3_preds]\n",
        "t_mod4 = [x[0] for x in model4_preds]\n",
        "final_x_test = np.vstack((t_lstm, t_w2v, t_mod3, t_mod4)).T\n",
        "\n",
        "print(f'Final Test Shape: {final_x_test.shape}')\n",
        "\n",
        "final_preds = final_model.predict(final_x_test)\n",
        "final_preds = np.array([i[0] for i in final_preds])\n",
        "final_predictions = final_preds > 0.5"
      ],
      "execution_count": 29,
      "outputs": [
        {
          "output_type": "stream",
          "text": [
            "(1953, 1) (1953, 1) (1953, 1) (1953, 1)\n",
            "Final Train Shape: (7920, 4)\n",
            "_________________________________________________________________\n",
            "Layer (type)                 Output Shape              Param #   \n",
            "=================================================================\n",
            "dense_21 (Dense)             (None, 256)               1280      \n",
            "_________________________________________________________________\n",
            "activation_7 (Activation)    (None, 256)               0         \n",
            "_________________________________________________________________\n",
            "dense_22 (Dense)             (None, 1)                 257       \n",
            "=================================================================\n",
            "Total params: 1,537\n",
            "Trainable params: 1,537\n",
            "Non-trainable params: 0\n",
            "_________________________________________________________________\n",
            "Train on 6336 samples, validate on 1584 samples\n",
            "Epoch 1/50\n",
            "6336/6336 [==============================] - 3s 548us/step - loss: 0.2498 - acc: 0.9146 - val_loss: 0.2955 - val_acc: 0.8725\n",
            "Epoch 2/50\n",
            "6336/6336 [==============================] - 0s 15us/step - loss: 0.1825 - acc: 0.9549 - val_loss: 0.3136 - val_acc: 0.8725\n",
            "Epoch 3/50\n",
            "6336/6336 [==============================] - 0s 18us/step - loss: 0.1688 - acc: 0.9549 - val_loss: 0.3280 - val_acc: 0.8731\n",
            "Epoch 4/50\n",
            "6336/6336 [==============================] - 0s 16us/step - loss: 0.1640 - acc: 0.9549 - val_loss: 0.3441 - val_acc: 0.8731\n",
            "Epoch 5/50\n",
            "6336/6336 [==============================] - 0s 16us/step - loss: 0.1943 - acc: 0.9549 - val_loss: 0.3478 - val_acc: 0.8731\n",
            "Epoch 6/50\n",
            "6336/6336 [==============================] - 0s 17us/step - loss: 0.1729 - acc: 0.9549 - val_loss: 0.3523 - val_acc: 0.8731\n",
            "Epoch 7/50\n",
            "6336/6336 [==============================] - 0s 17us/step - loss: 0.1596 - acc: 0.9549 - val_loss: 0.3390 - val_acc: 0.8731\n",
            "Epoch 8/50\n",
            "6336/6336 [==============================] - 0s 15us/step - loss: 0.1595 - acc: 0.9549 - val_loss: 0.3451 - val_acc: 0.8731\n",
            "Epoch 9/50\n",
            "6336/6336 [==============================] - 0s 17us/step - loss: 0.1616 - acc: 0.9549 - val_loss: 0.3181 - val_acc: 0.8737\n",
            "Epoch 10/50\n",
            "6336/6336 [==============================] - 0s 18us/step - loss: 0.1630 - acc: 0.9549 - val_loss: 0.3273 - val_acc: 0.8737\n",
            "Epoch 11/50\n",
            "6336/6336 [==============================] - 0s 17us/step - loss: 0.1665 - acc: 0.9549 - val_loss: 0.3485 - val_acc: 0.8737\n",
            "Epoch 12/50\n",
            "6336/6336 [==============================] - 0s 16us/step - loss: 0.1599 - acc: 0.9549 - val_loss: 0.3338 - val_acc: 0.8737\n",
            "Epoch 13/50\n",
            "6336/6336 [==============================] - 0s 16us/step - loss: 0.1646 - acc: 0.9549 - val_loss: 0.3381 - val_acc: 0.8737\n",
            "Epoch 14/50\n",
            "6336/6336 [==============================] - 0s 19us/step - loss: 0.1616 - acc: 0.9549 - val_loss: 0.3358 - val_acc: 0.8731\n",
            "Epoch 15/50\n",
            "6336/6336 [==============================] - 0s 18us/step - loss: 0.1588 - acc: 0.9549 - val_loss: 0.3340 - val_acc: 0.8731\n",
            "Epoch 16/50\n",
            "6336/6336 [==============================] - 0s 17us/step - loss: 0.1638 - acc: 0.9549 - val_loss: 0.3294 - val_acc: 0.8737\n",
            "Epoch 17/50\n",
            "6336/6336 [==============================] - 0s 20us/step - loss: 0.1650 - acc: 0.9549 - val_loss: 0.3522 - val_acc: 0.8737\n",
            "Epoch 18/50\n",
            "6336/6336 [==============================] - 0s 18us/step - loss: 0.1605 - acc: 0.9549 - val_loss: 0.3471 - val_acc: 0.8737\n",
            "Epoch 19/50\n",
            "6336/6336 [==============================] - 0s 17us/step - loss: 0.1741 - acc: 0.9549 - val_loss: 0.3464 - val_acc: 0.8731\n",
            "Epoch 20/50\n",
            "6336/6336 [==============================] - 0s 16us/step - loss: 0.1933 - acc: 0.9549 - val_loss: 0.4152 - val_acc: 0.8731\n",
            "Epoch 21/50\n",
            "6336/6336 [==============================] - 0s 17us/step - loss: 0.1816 - acc: 0.9549 - val_loss: 0.3264 - val_acc: 0.8731\n",
            "Epoch 22/50\n",
            "6336/6336 [==============================] - 0s 17us/step - loss: 0.1595 - acc: 0.9549 - val_loss: 0.3599 - val_acc: 0.8731\n",
            "Epoch 23/50\n",
            "6336/6336 [==============================] - 0s 17us/step - loss: 0.1570 - acc: 0.9549 - val_loss: 0.3290 - val_acc: 0.8731\n",
            "Epoch 24/50\n",
            "6336/6336 [==============================] - 0s 16us/step - loss: 0.1577 - acc: 0.9549 - val_loss: 0.3298 - val_acc: 0.8731\n",
            "Epoch 25/50\n",
            "6336/6336 [==============================] - 0s 16us/step - loss: 0.1574 - acc: 0.9549 - val_loss: 0.3314 - val_acc: 0.8731\n",
            "Epoch 26/50\n",
            "6336/6336 [==============================] - 0s 16us/step - loss: 0.1561 - acc: 0.9549 - val_loss: 0.3353 - val_acc: 0.8737\n",
            "Epoch 27/50\n",
            "6336/6336 [==============================] - 0s 14us/step - loss: 0.1827 - acc: 0.9549 - val_loss: 0.3744 - val_acc: 0.8731\n",
            "Epoch 28/50\n",
            "6336/6336 [==============================] - 0s 16us/step - loss: 0.2325 - acc: 0.9549 - val_loss: 0.3889 - val_acc: 0.8737\n",
            "Epoch 29/50\n",
            "6336/6336 [==============================] - 0s 15us/step - loss: 0.1743 - acc: 0.9549 - val_loss: 0.3365 - val_acc: 0.8731\n",
            "Epoch 30/50\n",
            "6336/6336 [==============================] - 0s 16us/step - loss: 0.1713 - acc: 0.9549 - val_loss: 0.3357 - val_acc: 0.8731\n",
            "Epoch 31/50\n",
            "6336/6336 [==============================] - 0s 16us/step - loss: 0.1658 - acc: 0.9549 - val_loss: 1.2107 - val_acc: 0.8725\n",
            "Epoch 32/50\n",
            "6336/6336 [==============================] - 0s 16us/step - loss: 0.6692 - acc: 0.8632 - val_loss: 1.4188 - val_acc: 0.8466\n",
            "Epoch 33/50\n",
            "6336/6336 [==============================] - 0s 17us/step - loss: 0.5341 - acc: 0.9520 - val_loss: 0.9000 - val_acc: 0.8737\n",
            "Epoch 34/50\n",
            "6336/6336 [==============================] - 0s 19us/step - loss: 0.3264 - acc: 0.9547 - val_loss: 0.4428 - val_acc: 0.8737\n",
            "Epoch 35/50\n",
            "6336/6336 [==============================] - 0s 17us/step - loss: 0.2374 - acc: 0.9544 - val_loss: 0.4296 - val_acc: 0.8744\n",
            "Epoch 36/50\n",
            "6336/6336 [==============================] - 0s 23us/step - loss: 0.2360 - acc: 0.9545 - val_loss: 0.3884 - val_acc: 0.8737\n",
            "Epoch 37/50\n",
            "6336/6336 [==============================] - 0s 18us/step - loss: 0.3038 - acc: 0.9545 - val_loss: 0.3359 - val_acc: 0.8750\n",
            "Epoch 38/50\n",
            "6336/6336 [==============================] - 0s 18us/step - loss: 0.2179 - acc: 0.9550 - val_loss: 0.3325 - val_acc: 0.8731\n",
            "Epoch 39/50\n",
            "6336/6336 [==============================] - 0s 19us/step - loss: 0.1751 - acc: 0.9549 - val_loss: 0.3540 - val_acc: 0.8737\n",
            "Epoch 40/50\n",
            "6336/6336 [==============================] - 0s 19us/step - loss: 0.1866 - acc: 0.9549 - val_loss: 0.3652 - val_acc: 0.8731\n",
            "Epoch 41/50\n",
            "6336/6336 [==============================] - 0s 16us/step - loss: 0.1829 - acc: 0.9549 - val_loss: 0.3782 - val_acc: 0.8737\n",
            "Epoch 42/50\n",
            "6336/6336 [==============================] - 0s 18us/step - loss: 0.1824 - acc: 0.9549 - val_loss: 0.3875 - val_acc: 0.8737\n",
            "Epoch 43/50\n",
            "6336/6336 [==============================] - 0s 17us/step - loss: 0.1872 - acc: 0.9549 - val_loss: 0.3409 - val_acc: 0.8737\n",
            "Epoch 44/50\n",
            "6336/6336 [==============================] - 0s 18us/step - loss: 0.1795 - acc: 0.9549 - val_loss: 0.3060 - val_acc: 0.8731\n",
            "Epoch 45/50\n",
            "6336/6336 [==============================] - 0s 18us/step - loss: 0.1663 - acc: 0.9549 - val_loss: 0.3378 - val_acc: 0.8737\n",
            "Epoch 46/50\n",
            "6336/6336 [==============================] - 0s 18us/step - loss: 0.1623 - acc: 0.9549 - val_loss: 0.3479 - val_acc: 0.8737\n",
            "Epoch 47/50\n",
            "6336/6336 [==============================] - 0s 16us/step - loss: 0.1601 - acc: 0.9549 - val_loss: 0.3589 - val_acc: 0.8737\n",
            "Epoch 48/50\n",
            "6336/6336 [==============================] - 0s 18us/step - loss: 0.1680 - acc: 0.9549 - val_loss: 0.3306 - val_acc: 0.8737\n",
            "Epoch 49/50\n",
            "6336/6336 [==============================] - 0s 19us/step - loss: 0.1619 - acc: 0.9549 - val_loss: 0.3445 - val_acc: 0.8737\n",
            "Epoch 50/50\n",
            "6336/6336 [==============================] - 0s 18us/step - loss: 0.1815 - acc: 0.9549 - val_loss: 0.3543 - val_acc: 0.8737\n",
            "Final Test Shape: (1953, 4)\n"
          ],
          "name": "stdout"
        }
      ]
    },
    {
      "cell_type": "code",
      "metadata": {
        "id": "07ykUK_YeoXZ",
        "colab_type": "code",
        "colab": {
          "base_uri": "https://localhost:8080/",
          "height": 195
        },
        "outputId": "f3d00c80-b143-4f49-ae73-c8ecd6fffed2"
      },
      "source": [
        "data_test['label'] = [int(x) for x in final_predictions]\n",
        "data_test.tail()"
      ],
      "execution_count": 30,
      "outputs": [
        {
          "output_type": "execute_result",
          "data": {
            "text/html": [
              "<div>\n",
              "<style scoped>\n",
              "    .dataframe tbody tr th:only-of-type {\n",
              "        vertical-align: middle;\n",
              "    }\n",
              "\n",
              "    .dataframe tbody tr th {\n",
              "        vertical-align: top;\n",
              "    }\n",
              "\n",
              "    .dataframe thead th {\n",
              "        text-align: right;\n",
              "    }\n",
              "</style>\n",
              "<table border=\"1\" class=\"dataframe\">\n",
              "  <thead>\n",
              "    <tr style=\"text-align: right;\">\n",
              "      <th></th>\n",
              "      <th>id</th>\n",
              "      <th>tweet</th>\n",
              "      <th>label</th>\n",
              "    </tr>\n",
              "  </thead>\n",
              "  <tbody>\n",
              "    <tr>\n",
              "      <th>1948</th>\n",
              "      <td>9869</td>\n",
              "      <td>#SamsungGalaxyNote7 Explodes, Burns 6-Year-Old...</td>\n",
              "      <td>0</td>\n",
              "    </tr>\n",
              "    <tr>\n",
              "      <th>1949</th>\n",
              "      <td>9870</td>\n",
              "      <td>Now Available - Hoodie. Check it out here - ht...</td>\n",
              "      <td>0</td>\n",
              "    </tr>\n",
              "    <tr>\n",
              "      <th>1950</th>\n",
              "      <td>9871</td>\n",
              "      <td>There goes a crack right across the screen. If...</td>\n",
              "      <td>1</td>\n",
              "    </tr>\n",
              "    <tr>\n",
              "      <th>1951</th>\n",
              "      <td>9872</td>\n",
              "      <td>@codeofinterest as i said #Adobe big time we m...</td>\n",
              "      <td>0</td>\n",
              "    </tr>\n",
              "    <tr>\n",
              "      <th>1952</th>\n",
              "      <td>9873</td>\n",
              "      <td>Finally I got it .. thanx my father .. #Samsun...</td>\n",
              "      <td>0</td>\n",
              "    </tr>\n",
              "  </tbody>\n",
              "</table>\n",
              "</div>"
            ],
            "text/plain": [
              "        id                                              tweet  label\n",
              "1948  9869  #SamsungGalaxyNote7 Explodes, Burns 6-Year-Old...      0\n",
              "1949  9870  Now Available - Hoodie. Check it out here - ht...      0\n",
              "1950  9871  There goes a crack right across the screen. If...      1\n",
              "1951  9872  @codeofinterest as i said #Adobe big time we m...      0\n",
              "1952  9873  Finally I got it .. thanx my father .. #Samsun...      0"
            ]
          },
          "metadata": {
            "tags": []
          },
          "execution_count": 30
        }
      ]
    },
    {
      "cell_type": "code",
      "metadata": {
        "id": "CbZw_mQGeoac",
        "colab_type": "code",
        "colab": {}
      },
      "source": [
        "data_test.drop('tweet', axis=1).to_csv(dir_path + 'submission_4.csv', index=False)"
      ],
      "execution_count": 0,
      "outputs": []
    },
    {
      "cell_type": "markdown",
      "metadata": {
        "id": "iPzsmKe2Equu",
        "colab_type": "text"
      },
      "source": [
        "# Conclusion :-\n",
        "- The Last Model built using both Embedding layer initialized by Word2Vec model and Tweet Features (such as NLTK Sentiment Analysis, various counts, etc) proved to outperform all the other models, esp. when the Embedding Layer is trained along with the rest of the layers.\n",
        "- Final Score - 0.8522\n",
        "- Model is not able to catch Sarcasm in the text.\n",
        "- TFIDF based Text Vectorization might be used with more features to feed in to DL Models."
      ]
    },
    {
      "cell_type": "markdown",
      "metadata": {
        "id": "bxX6hVwRa3px",
        "colab_type": "text"
      },
      "source": [
        "# References :-\n",
        "- https://www.analyticsvidhya.com/blog/2018/11/tutorial-text-classification-ulmfit-fastai-library/\n",
        "- https://towardsdatascience.com/machine-learning-word-embedding-sentiment-classification-using-keras-b83c28087456"
      ]
    }
  ]
}